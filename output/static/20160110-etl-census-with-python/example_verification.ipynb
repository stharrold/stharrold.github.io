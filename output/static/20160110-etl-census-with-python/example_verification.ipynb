{
 "cells": [
  {
   "cell_type": "code",
   "execution_count": 1,
   "metadata": {
    "collapsed": true
   },
   "outputs": [],
   "source": [
    "# Import standard packages.\n",
    "import os\n",
    "# Import installed packages.\n",
    "import numpy as np\n",
    "import pandas as pd"
   ]
  },
  {
   "cell_type": "code",
   "execution_count": 18,
   "metadata": {
    "collapsed": false
   },
   "outputs": [
    {
     "name": "stdout",
     "output_type": "stream",
     "text": [
      "This exammple verifies these quantities:\n"
     ]
    },
    {
     "data": {
      "text/html": [
       "<div>\n",
       "<table border=\"1\" class=\"dataframe\">\n",
       "  <thead>\n",
       "    <tr style=\"text-align: right;\">\n",
       "      <th></th>\n",
       "      <th>st</th>\n",
       "      <th>state</th>\n",
       "      <th>characteristic</th>\n",
       "      <th>pums_est_09_to_13</th>\n",
       "      <th>pums_se_09_to_13</th>\n",
       "      <th>pums_moe_09_to_13</th>\n",
       "    </tr>\n",
       "  </thead>\n",
       "  <tbody>\n",
       "    <tr>\n",
       "      <th>310</th>\n",
       "      <td>11</td>\n",
       "      <td>District of Columbia</td>\n",
       "      <td>Owner occupied units (TEN in 1,2)</td>\n",
       "      <td>110,362</td>\n",
       "      <td>1363</td>\n",
       "      <td>2242</td>\n",
       "    </tr>\n",
       "  </tbody>\n",
       "</table>\n",
       "</div>"
      ],
      "text/plain": [
       "     st                 state                     characteristic  \\\n",
       "310  11  District of Columbia  Owner occupied units (TEN in 1,2)   \n",
       "\n",
       "    pums_est_09_to_13  pums_se_09_to_13  pums_moe_09_to_13  \n",
       "310           110,362              1363               2242  "
      ]
     },
     "execution_count": 18,
     "metadata": {},
     "output_type": "execute_result"
    }
   ],
   "source": [
    "# Load the 2013 5-year PUMS housing records for Washington DC\n",
    "# and the 2013 5-year PUMS user verification estimates.\n",
    "path_acs = r'/mnt/disk-20151227t211000z/www2-census-gov/programs-surveys/acs/'\n",
    "dfh = pd.read_csv(os.path.join(path_acs, r'data/pums/2013/5-Year/ss13hdc.csv'))\n",
    "dfe = pd.read_csv(os.path.join(path_acs, r'tech_docs/pums/estimates/pums_estimates_9_13.csv'))\n",
    "# Select the verification estimates for Washington DC\n",
    "# then for the \"characteristic\" 'Owner occupied units (TEN in 1,2)'.\n",
    "tfmask_dc = dfe['state'] == 'District of Columbia'\n",
    "dfe_dc = dfe.loc[tfmask_dc]\n",
    "print(\"This exammple verifies these quantities:\")\n",
    "dfe_dc.loc[[310]]"
   ]
  },
  {
   "cell_type": "code",
   "execution_count": 16,
   "metadata": {
    "collapsed": false
   },
   "outputs": [
    {
     "name": "stdout",
     "output_type": "stream",
     "text": [
      "'Owner occupied units (TEN in 1,2)'\n",
      "    'pums_est_09_to_13': (ref, test) = (110362, 110362)\n",
      "    'pums_se_09_to_13' : (ref, test) = (1363, 1363.1910174293257)\n",
      "    'pums_moe_09_to_13': (ref, test) = (2242, 2242.449223671241)\n"
     ]
    }
   ],
   "source": [
    "# Define the column names for the housing weights.\n",
    "hwt = 'WGTP'\n",
    "hwts = [hwt+str(inum) for inum in range(1, 81)] # ['PWGTP1', ..., 'PWGTP80']\n",
    "# Select the reference verification data for the characteristic.\n",
    "char = 'Owner occupied units (TEN in 1,2)'\n",
    "print(\"'{char}'\".format(char=char))\n",
    "tfmask_ref = dfe_dc['characteristic'] == char\n",
    "# Select the person records for the characteristic.\n",
    "tfmask_test = np.logical_or(dfh['TEN'] == 1, dfh['TEN'] == 2)\n",
    "# Calculate the estimate ('est') for the characteristic.\n",
    "# The estimate is sum with weights 'PWGTP'.\n",
    "col = 'pums_est_09_to_13'\n",
    "print(\"    '{col}':\".format(col=col), end=' ')\n",
    "ref_est = int(dfe_dc.loc[tfmask_ref, col].values[0].replace(',', ''))\n",
    "test_est = dfh.loc[tfmask_test, hwt].sum()\n",
    "assert np.isclose(ref_est, test_est, rtol=0, atol=1)\n",
    "print(\"(ref, test) = {tup}\".format(tup=(ref_est, test_est)))\n",
    "# Calculate the \"direct standard error\" ('se') of the estimate.\n",
    "# The direct standard error is a modified root-mean-square deviation\n",
    "# using \"replicate weights\" 'PWGTP[1-80]'.\n",
    "col = 'pums_se_09_to_13'\n",
    "print(\"    '{col}' :\".format(col=col), end=' ')\n",
    "ref_se = dfe_dc.loc[tfmask_ref, col].values[0]\n",
    "test_se = ((4/80)*((dfh.loc[tfmask_test, hwts].sum() - test_est)**2).sum())**0.5\n",
    "assert np.isclose(ref_se, test_se, rtol=0, atol=1)\n",
    "print(\"(ref, test) = {tup}\".format(tup=(ref_se, test_se)))\n",
    "# Calculate the margin of error ('moe') at the 90% confidence level\n",
    "# (+/- 1.645 standard errors)\n",
    "col = 'pums_moe_09_to_13'\n",
    "print(\"    '{col}':\".format(col=col), end=' ')\n",
    "ref_moe = dfe_dc.loc[tfmask_ref, col].values[0]\n",
    "test_moe = 1.645*test_se\n",
    "assert np.isclose(ref_moe, test_moe, rtol=0, atol=1)\n",
    "print(\"(ref, test) = {tup}\".format(tup=(ref_moe, test_moe)))"
   ]
  },
  {
   "cell_type": "code",
   "execution_count": null,
   "metadata": {
    "collapsed": true
   },
   "outputs": [],
   "source": []
  }
 ],
 "metadata": {
  "kernelspec": {
   "display_name": "Python 3",
   "language": "python",
   "name": "python3"
  },
  "language_info": {
   "codemirror_mode": {
    "name": "ipython",
    "version": 3
   },
   "file_extension": ".py",
   "mimetype": "text/x-python",
   "name": "python",
   "nbconvert_exporter": "python",
   "pygments_lexer": "ipython3",
   "version": "3.5.1"
  }
 },
 "nbformat": 4,
 "nbformat_minor": 0
}
