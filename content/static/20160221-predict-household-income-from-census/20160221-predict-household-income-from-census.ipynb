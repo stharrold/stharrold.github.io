{
 "cells": [
  {
   "cell_type": "markdown",
   "metadata": {},
   "source": [
    "# 20160221-predict-household-income-from-census\n",
    "\n",
    "Related post:  \n",
    "https://stharrold.github.io/20160221-predict-household-income-from-census.html\n",
    "\n",
    "Data documentation:\n",
    "https://www.census.gov/programs-surveys/acs/technical-documentation/pums/documentation.2013.html"
   ]
  },
  {
   "cell_type": "markdown",
   "metadata": {},
   "source": [
    "## Initialization"
   ]
  },
  {
   "cell_type": "markdown",
   "metadata": {},
   "source": [
    "### Imports"
   ]
  },
  {
   "cell_type": "code",
   "execution_count": 1,
   "metadata": {
    "collapsed": false
   },
   "outputs": [
    {
     "name": "stdout",
     "output_type": "stream",
     "text": [
      "/home/samuel_harrold\n"
     ]
    }
   ],
   "source": [
    "cd ~"
   ]
  },
  {
   "cell_type": "code",
   "execution_count": 2,
   "metadata": {
    "collapsed": false
   },
   "outputs": [],
   "source": [
    "# Import standard packages.\n",
    "import collections\n",
    "import functools\n",
    "import json\n",
    "import os\n",
    "import pdb # Debug with pdb.\n",
    "import pprint\n",
    "import sys\n",
    "import time\n",
    "# Import installed packages.\n",
    "import astroML.density_estimation as astroML_dens # TODO: remove\n",
    "import matplotlib as mpl\n",
    "import matplotlib.pyplot as plt\n",
    "import numpy as np\n",
    "import pandas as pd\n",
    "import sklearn as sk\n",
    "import sklearn.ensemble as sk_ens\n",
    "import seaborn as sns\n",
    "# Import local packages.\n",
    "# Insert current directory into module search path.\n",
    "# Autoreload local packages after editing.\n",
    "# `dsdemos` version: https://github.com/stharrold/dsdemos/releases/tag/v0.0.5\n",
    "sys.path.insert(0, os.path.join(os.path.curdir, r'dsdemos'))\n",
    "%reload_ext autoreload\n",
    "%autoreload 2\n",
    "import dsdemos as dsd\n",
    "%matplotlib inline"
   ]
  },
  {
   "cell_type": "code",
   "execution_count": 3,
   "metadata": {
    "collapsed": false
   },
   "outputs": [
    {
     "name": "stdout",
     "output_type": "stream",
     "text": [
      "Timestamp:\n",
      "2016-02-09T21:21:08GMT\n",
      "\n",
      "Versions:\n",
      "Python: sys.version_info(major=3, minor=5, micro=1, releaselevel='final', serial=0)\n",
      "matplotlib: 1.5.1\n",
      "numpy: 1.10.4\n",
      "pandas: 0.17.1\n",
      "seaborn: 0.7.0\n",
      "sklearn: 0.17\n",
      "dsdemos: 0.0.5\n"
     ]
    }
   ],
   "source": [
    "print(\"Timestamp:\")\n",
    "print(time.strftime(r'%Y-%m-%dT%H:%M:%S%Z', time.gmtime()))\n",
    "print()\n",
    "print(\"Versions:\")\n",
    "print(\"Python:\", sys.version_info)\n",
    "print(\"matplotlib:\", mpl.__version__)\n",
    "print(\"numpy:\", np.__version__)\n",
    "print(\"pandas:\", pd.__version__)\n",
    "print(\"seaborn:\", sns.__version__)\n",
    "print(\"sklearn:\", sk.__version__)\n",
    "print(\"dsdemos:\", dsd.__version__)"
   ]
  },
  {
   "cell_type": "markdown",
   "metadata": {
    "collapsed": false
   },
   "source": [
    "### Globals\n",
    "\n",
    "File sources:\n",
    "* 2013 5-year PUMS data dictionary: [PUMS_Data_Dictionary_2009-2013.txt](http://www2.census.gov/programs-surveys/acs/tech_docs/pums/data_dict/PUMS_Data_Dictionary_2009-2013.txt) (<1&nbsp;MB)\n",
    "* 2013 5-year PUMS person and housing records for Washington DC:\n",
    "    * Person records: [csv_pdc.zip](http://www2.census.gov/programs-surveys/acs/data/pums/2013/5-Year/csv_pdc.zip) (5&nbsp;MB compressed, 30&nbsp;MB decompressed)\n",
    "    * Housing records: [csv_hdc.zip](http://www2.census.gov/programs-surveys/acs/data/pums/2013/5-Year/csv_hdc.zip) (2&nbsp;MB compressed, 13&nbsp;MB decompressed)\n",
    "* 2013 5-year PUMS estimates for user verification: [pums_estimates_9_13.csv](http://www2.census.gov/programs-surveys/acs/tech_docs/pums/estimates/pums_estimates_9_13.csv) (<1&nbsp;MB)"
   ]
  },
  {
   "cell_type": "code",
   "execution_count": 4,
   "metadata": {
    "collapsed": false
   },
   "outputs": [],
   "source": [
    "# State settings.\n",
    "sns.set() # Set matplot lib styles with seaborn\n",
    "np.random.seed(seed=0) # Set random state for reproducibility.\n",
    "\n",
    "# File paths\n",
    "path_static = os.path.join(os.path.expanduser(r'~'), r'stharrold.github.io/content/static')\n",
    "basename = r'20160221-predict-household-income-from-census'\n",
    "filename = basename\n",
    "path_ipynb = os.path.join(path_static, basename, filename+'.ipynb')\n",
    "path_disk = os.path.abspath(r'/mnt/disk-20151227t211000z/')\n",
    "path_acs = os.path.join(path_disk, r'www2-census-gov/programs-surveys/acs/')\n",
    "path_dtxt = os.path.join(path_acs, r'tech_docs/pums/data_dict/PUMS_Data_Dictionary_2009-2013.txt')\n",
    "path_pcsv = os.path.join(path_acs, r'data/pums/2013/5-Year/ss13pdc.csv') # 'pdc' = 'person DC'\n",
    "path_hcsv = os.path.join(path_acs, r'data/pums/2013/5-Year/ss13hdc.csv') # 'hdc' = 'housing DC'\n",
    "\n",
    "# Statistics\n",
    "# percentiles = [-1.6449 sigma, -1 sigma, mean, +1 sigma, +1.6449 sigma] for normal distribution\n",
    "# 90.00% confidence interval = (percentiles[0], percentiles[-1])\n",
    "# 68.27% confidence interval = (percentiles[1], percentiles[-2])\n",
    "# median = percentiles[2]\n",
    "percentiles = [0.0500, 0.1587, 0.5000, 0.8413, 0.9500]"
   ]
  },
  {
   "cell_type": "markdown",
   "metadata": {},
   "source": [
    "## Extract, transform, and load\n",
    "\n",
    "Related post:  \n",
    "https://stharrold.github.io/20160110-etl-census-with-python.html"
   ]
  },
  {
   "cell_type": "markdown",
   "metadata": {},
   "source": [
    "### Data dictionary"
   ]
  },
  {
   "cell_type": "code",
   "execution_count": 5,
   "metadata": {
    "collapsed": false
   },
   "outputs": [
    {
     "name": "stdout",
     "output_type": "stream",
     "text": [
      "`ddict`: Load the data dictionary.\n"
     ]
    }
   ],
   "source": [
    "print(\"`ddict`: Load the data dictionary.\")\n",
    "ddict = dsd.census.parse_pumsdatadict(path=path_dtxt)"
   ]
  },
  {
   "cell_type": "markdown",
   "metadata": {},
   "source": [
    "### PUMS data\n",
    "\n",
    "**TODO:**\n",
    "* Useful link: For learning and testing regular expressions: http://regexr.com/\n",
    "* Useful link: For comparing SQL and pandas 'JOIN' operations: http://pandas.pydata.org/pandas-docs/stable/merging.html\n"
   ]
  },
  {
   "cell_type": "code",
   "execution_count": 67,
   "metadata": {
    "collapsed": false,
    "scrolled": true
   },
   "outputs": [
    {
     "name": "stdout",
     "output_type": "stream",
     "text": [
      "`df_ftr`, `ds_trg`, `df_wts`: Load and join person and housing records\n",
      "to make data frames (series) of features, targets, and weights.\n",
      "Join records on 'SERIALNO'. Only keep household records for which there are person records.\n",
      "\n",
      "Number of (rows, columns):\n",
      "`df_ftrs`: (30559, 333)\n",
      "`ds_trg`: (30559,)\n",
      "`df_wts`: (30559, 162)\n",
      "\n",
      "Describe target.\n",
      "target: HINCP\n",
      "    length: 8\n",
      "    description: Household income (past 12 months)\n",
      "    var_codes:\n",
      "        bbbbbbbb: N/A(GQ/vacant)\n",
      "        00000000: No household income\n",
      "        -0059999: Loss of -$59,999 or more\n",
      "        -0000001..-0059998: Loss of $1 to -$59,998\n",
      "        00000001: $1 or Break even\n",
      "        00000002..99999999: Total household income in dollars (Components are rounded)\n",
      "    notes: ['Note: Use values from ADJINC to adjust HINCP to constant dollars.']\n"
     ]
    },
    {
     "data": {
      "image/png": "[encoded data removed]",
      "text/plain": [
       "<matplotlib.figure.Figure at 0x7f8998ae6908>"
      ]
     },
     "metadata": {},
     "output_type": "display_data"
    },
    {
     "name": "stdout",
     "output_type": "stream",
     "text": [
      "Statistical summary:\n",
      "count      30559.000000\n",
      "mean      113897.186983\n",
      "std       145755.237279\n",
      "min       -14762.351200\n",
      "5%             0.000000\n",
      "15.9%      10146.381300\n",
      "50%        72128.180000\n",
      "84.1%     200160.431100\n",
      "95%       356467.362800\n",
      "max      2138939.169000\n",
      "Name: HINCP, dtype: float64\n",
      "\n",
      "First 10 records:\n",
      "0     45589.6140\n",
      "1     94435.6290\n",
      "2     94435.6290\n",
      "3     94435.6290\n",
      "4    213728.4523\n",
      "5    213728.4523\n",
      "6    213728.4523\n",
      "7    138071.4024\n",
      "8    138071.4024\n",
      "9    162820.0500\n",
      "Name: HINCP, dtype: float64\n",
      "\n",
      "Time elapsed (sec) = 3.5\n"
     ]
    }
   ],
   "source": [
    "print(\n",
    "    r\"\"\"`df_ftr`, `ds_trg`, `df_wts`: Load and join person and housing records\n",
    "to make data frames (series) of features, targets, and weights.\n",
    "Join records on 'SERIALNO'. Only keep household records for which there are person records.\"\"\")\n",
    "print()\n",
    "time_start = time.perf_counter()\n",
    "\n",
    "# Load and join person and housing CSVs. Join on 'SERIALNO'.\n",
    "# Only keep households for which there are person records.\n",
    "# Note: For ss13pdc.csv, low_memory=False since otherwise pandas raises DtypeWarning.\n",
    "dfp = pd.read_csv(path_pcsv, low_memory=False)\n",
    "dfh = pd.read_csv(path_hcsv, low_memory=True)\n",
    "if not len(dfh) == len(dfh['SERIALNO'].unique()):\n",
    "    raise AssertionError(\n",
    "        (\"Program error. All household records must be unique.\\n\" +\n",
    "         \"Required: len(dfh) == len(dfh['SERIALNO'].unique())\\n\" +\n",
    "         \"Given: {lhs} == {rhs}\").format(\n",
    "            lhs=len(dfh), rhs=len(dfh['SERIALNO'].unique())))\n",
    "# Join (merge) person and housing records on 'SERIALNO'.\n",
    "df = pd.merge(left=dfp, right=dfh, how='left', on='SERIALNO', suffixes=('_p', '_h'))\n",
    "# Assert all records identify people.\n",
    "if not len(df) == len(dfp):\n",
    "    raise AssertionError(\n",
    "        (\"Program error. All records must identify people.\\n\" +\n",
    "         \"Required: len(df) == len(dfp)\\n\" +\n",
    "         \"Given: {lhs} == {rhs}\").format(\n",
    "            lhs=len(df), rhs=len(dfp)))    \n",
    "# Assert that shared columns have same values then delete\n",
    "# except for record type 'RT'.\n",
    "shared_cols = set(dfp.columns.values)\n",
    "shared_cols.intersection_update(dfh.columns.values)\n",
    "suffixed_cols = collections.defaultdict(list)\n",
    "for col in df.columns:\n",
    "    (base, *suffix) = col.rsplit(sep='_', maxsplit=1)\n",
    "    if (((suffix == ['p']) or (suffix == ['h']))\n",
    "        and (base in shared_cols)):\n",
    "        suffixed_cols[base].append(col)\n",
    "for (col, (colp, colh)) in suffixed_cols.items():\n",
    "    if np.all(df[colp] == df[colh]):\n",
    "        df[col] = df[colp]\n",
    "        df.drop(labels=[colp, colh], axis=1, inplace=True)\n",
    "    elif col == 'RT':\n",
    "        df[col] = df[colp]\n",
    "        df.drop(labels=[colp, colh], axis=1, inplace=True)\n",
    "    else:\n",
    "        raise AssertionError(\n",
    "            (\"Program error. All shared columns must have the same values\\n\" +\n",
    "             \"before deleting, except for record type 'RT'.\\n\" +\n",
    "             \"Required: np.all(df[colp] == df[colh])\\n\" +\n",
    "             \"colp = {colp}\\n\" +\n",
    "             \"colh = {colh}\").format(colp=colp, colh=colh))\n",
    "# Replace string values and cast all types to float.\n",
    "obj_cols = df.dtypes[df.dtypes == 'object'].index\n",
    "for col in obj_cols:\n",
    "    # 'RT' record types.\n",
    "    if 'RT' in col:\n",
    "        df[col] = df[col].apply(ord)\n",
    "    # 'SOC' occupational codes.\n",
    "    if 'SOCP' in col:\n",
    "        df[col] = df[col].str.replace('X', '0')\n",
    "        df[col] = df[col].str.replace('Y', '0')\n",
    "        df[col] = df[col].replace(\n",
    "            to_replace=r'N\\.A\\.(\\/\\/)?', value=0, inplace=False, regex=True)\n",
    "    # 'OCC' occupational codes.\n",
    "    if 'OCCP' in col:\n",
    "        df[col] = df[col].replace(\n",
    "            to_replace=r'N\\.A\\.(\\/\\/)?', value=0, inplace=False, regex=True)\n",
    "    # 'NAICSP' industry codes.\n",
    "    if 'NAICSP' in col:\n",
    "        df[col] = df[col].str.replace(r'\\D', '0')\n",
    "        ndigits = df[col].apply(lambda obj: len(str(obj))).max()\n",
    "        df[col] = df[col].str.ljust(ndigits, '0')\n",
    "    df[col] = df[col].astype(float)\n",
    "df = df.astype(float)\n",
    "df.fillna(value=0.0, inplace=True)\n",
    "# Adjust for inflation to 2013-dollars.\n",
    "# The adjustment factors have 6 implied decimal places.\n",
    "# See the data dictionary description for\n",
    "#     'ADJHSG' (only housing records)\n",
    "#     'ADJINC' (in housing and person records).\n",
    "# Example: USD_2013 = ADJINC_2010_TO_2013 * USD_2010\n",
    "# Note: 'INSP' is not in data dictionary, so don't use.\n",
    "df['ADJHSG'] *= 1e-6\n",
    "for col in [\n",
    "    'CONP', 'ELEP', 'FULP', 'GASP', 'GRNTP', 'MHP',\n",
    "    'MRGP', 'SMOCP', 'RNTP', 'SMP', 'WATP']:\n",
    "    df[col] *= df['ADJHSG']\n",
    "df['ADJINC'] *= 1e-6\n",
    "for col in [\n",
    "    'INTP', 'OIP', 'PAP', 'PERNP', 'PINCP', 'RETP',\n",
    "    'SEMP', 'SSIP', 'SSP', 'WAGP', 'FINCP', 'HINCP']:\n",
    "    df[col] *= df['ADJINC']\n",
    "\n",
    "# Define columns.\n",
    "# Weights.\n",
    "pwt = 'PWGTP' # person weight\n",
    "pwts = [pwt+str(inum) for inum in range(1, 81)]\n",
    "hwt = 'WGTP' # housing weight\n",
    "hwts = [hwt+str(inum) for inum in range(1, 81)]\n",
    "wts = list()\n",
    "wts.append(pwt)\n",
    "wts.extend(pwts)\n",
    "wts.append(hwt)\n",
    "wts.extend(hwts)\n",
    "# Target.\n",
    "target = 'HINCP'\n",
    "# Features.\n",
    "# Select columns from person and household records that...\n",
    "#     ...are in the data dictionary\n",
    "#     ...aren't weights\n",
    "#     ...are in the person/housing CSVs\n",
    "# Remove duplicate columns.\n",
    "pftrs = set(ddict['record_types']['PERSON RECORD'].keys())\n",
    "pftrs.difference_update(pwts)\n",
    "pftrs.intersection_update(dfp.columns.values)\n",
    "pftrs = list(pftrs)\n",
    "hftrs = set(ddict['record_types']['HOUSING RECORD'].keys())\n",
    "hftrs.difference_update(hwts)\n",
    "hftrs.intersection_update(dfh.columns.values)\n",
    "hftrs = list(hftrs)\n",
    "features = list()\n",
    "features.extend(pftrs)\n",
    "features.extend(hftrs)\n",
    "features = list(set(features))\n",
    "\n",
    "# Separate data frame into features, target, weights.\n",
    "df_ftrs = df[features]\n",
    "ds_trg = df[target]\n",
    "df_wts = df[wts]\n",
    "print(\"Number of (rows, columns):\")\n",
    "print(\"`df_ftrs`: {tup}\".format(tup=np.shape(df_ftrs)))\n",
    "print(\"`ds_trg`: {tup}\".format(tup=np.shape(ds_trg)))\n",
    "print(\"`df_wts`: {tup}\".format(tup=np.shape(df_wts)))\n",
    "print()\n",
    "\n",
    "print(\"Describe target.\")\n",
    "print(\"target: {targ}\".format(targ=target))\n",
    "for (key0, val0) in ddict['record_types']['HOUSING RECORD']['HINCP'].items():\n",
    "    if isinstance(val0, dict):\n",
    "        print(\"    {key}:\".format(key=key0))\n",
    "        for (key1, val1) in val0.items():\n",
    "            print(\"        {key}: {val}\".format(key=key1, val=val1))\n",
    "    else:\n",
    "        print(\"    {key}: {val}\".format(key=key0, val=val0))\n",
    "sns.distplot(df['HINCP'])\n",
    "plt.show()\n",
    "print(\"Statistical summary:\")\n",
    "print(df['HINCP'].describe(percentiles=percentiles))\n",
    "print()\n",
    "print(\"First 10 records:\")\n",
    "print(df[target].head(n=10))\n",
    "print()\n",
    "\n",
    "time_stop = time.perf_counter()\n",
    "print(\"Time elapsed (sec) = {diff:.1f}\".format(diff=time_stop-time_start))"
   ]
  },
  {
   "cell_type": "code",
   "execution_count": 70,
   "metadata": {
    "collapsed": false
   },
   "outputs": [
    {
     "data": {
      "text/plain": [
       "array(['FHINS7P', 'TYPE', 'FWKLP', 'FMARHDP', 'HUPAOC', 'FHINS5C',\n",
       "       'FCITWP', 'FJWRIP', 'GCM', 'PERNP', 'FGCLP', 'FMIGP', 'TEL', 'MLPB',\n",
       "       'MRGI', 'RNTM', 'SSIP', 'OCPIP', 'PINCP', 'MARHM', 'REFR', 'MARHW',\n",
       "       'FGCRP', 'HINS2', 'MIL', 'FER', 'FINDP', 'RELP', 'FLANP', 'ADJHSG',\n",
       "       'FPOBP', 'FES', 'SOCP10', 'FHINS4P', 'FFSP', 'MV', 'ANC1P12',\n",
       "       'PAOC', 'RACNUM', 'PLM', 'NATIVITY', 'SFN', 'SPORDER', 'GRPIP',\n",
       "       'FHFLP', 'FSTOVP', 'ENG', 'DOUT', 'FSSIP', 'ACR', 'R18', 'ANC',\n",
       "       'FDEYEP', 'NOP', 'FBUSP', 'OCCP12', 'MARHYP05', 'RAC1P', 'INTP',\n",
       "       'SEX', 'FHINS3P', 'FULP', 'FFULP', 'PUMA00', 'DDRS', 'SCHL',\n",
       "       'QTRBIR', 'FSMP', 'YBL', 'SEMP', 'SCIENGP', 'MIGSP05', 'CIT',\n",
       "       'RETP', 'NWAV', 'FRWATPRP', 'RESMODE', 'FS', 'FMRGIP', 'HINS6',\n",
       "       'FDRATXP', 'FMIGSP', 'MULTG', 'RC', 'FMARP', 'WKEXREL', 'FBDSP',\n",
       "       'HUPARC', 'SMX', 'FMARHWP', 'NP', 'FRNTMP', 'FVEHP', 'NR', 'WAOB',\n",
       "       'MARHT', 'OCCP10', 'FYOEP', 'TAXP', 'PWGTP', 'MLPH', 'RACAIAN',\n",
       "       'ADJINC', 'SINK', 'FMVP', 'FTOILP', 'RWATPR', 'HINS1', 'KIT',\n",
       "       'RMSP', 'FDDRSP', 'NOC', 'RACNHPI', 'WGTP', 'CONP', 'HHL', 'FSCHLP',\n",
       "       'SSP', 'NWAB', 'INDP', 'FSEXP', 'DPHY', 'HINS5', 'NRC', 'HUPAC',\n",
       "       'FAGSP', 'ESR', 'POWPUMA00', 'FPAP', 'JWDP', 'ANC2P05', 'FHINS4C',\n",
       "       'FWKWP', 'BDSP', 'FMHP', 'MIG', 'HINS7', 'BATH', 'DRAT', 'ELEP',\n",
       "       'PRIVCOV', 'FAGEP', 'FGASP', 'VPS', 'MRGT', 'SVAL', 'FBATHP',\n",
       "       'FTENP', 'SCH', 'FBLDP', 'DEYE', 'FWKHP', 'POVPIP', 'FTELP', 'R65',\n",
       "       'SRNT', 'HINCP', 'FJWMNP', 'ANC2P12', 'FCITP', 'FSCHP', 'REGION',\n",
       "       'GRNTP', 'MARHD', 'HINS3', 'GCR', 'WKHP', 'RACASN', 'FHINS5P',\n",
       "       'RAC3P12', 'MIGPUMA10', 'FSSP', 'AGEP', 'NWLA', 'POBP05', 'FSEMP',\n",
       "       'MSP', 'FOCCP', 'DEAR', 'FJWDP', 'TOIL', 'MRGP', 'OIP', 'FMARHYP',\n",
       "       'FELEP', 'YOEP05', 'JWAP', 'FPARC', 'FSMXHP', 'FRACP', 'DRATX',\n",
       "       'CITWP12', 'MIGPUMA00', 'FOD1P', 'FWAGP', 'OC', 'DECADE', 'SFR',\n",
       "       'CITWP05', 'FDEARP', 'FDREMP', 'FSCHGP', 'FANCP', 'JWTR', 'FHINS1P',\n",
       "       'DRIVESP', 'RAC2P12', 'WIF', 'FHISP', 'PARTNER', 'FACRP', 'FRWATP',\n",
       "       'FPLMP', 'FTAXP', 'FMRGTP', 'COW', 'ANC1P05', 'FYBLP', 'MLPE',\n",
       "       'MLPFG', 'FLANXP', 'MLPJ', 'FPOWSP', 'FRETP', 'POWSP12', 'FREFRP',\n",
       "       'FSMXSP', 'FRNTP', 'FDPHYP', 'FVALP', 'MIGSP12', 'FHINS3C',\n",
       "       'FMARHMP', 'JWRIP', 'POWPUMA10', 'FINCP', 'WKW', 'RACWHT', 'FMRGXP',\n",
       "       'NWRE', 'ST', 'FWATP', 'RT', 'RWAT', 'RAC3P05', 'SCIENGRLP',\n",
       "       'MLPCD', 'DREM', 'MARHYP12', 'HINS4', 'RACSOR', 'FCOWP', 'JWMNP',\n",
       "       'FCONP', 'FHINS2P', 'FRMSP', 'ESP', 'OCCP02', 'PUBCOV', 'MHP',\n",
       "       'FOIP', 'AGS', 'NPP', 'HFL', 'FGCMP', 'FSINKP', 'GCL', 'POBP12',\n",
       "       'FVACSP', 'FDOUTP', 'RACBLK', 'LANX', 'R60', 'YOEP12', 'FENGP',\n",
       "       'FFERP', 'FMARHTP', 'NWLK', 'FHINS6P', 'PSF', 'FOD2P', 'HUGCL',\n",
       "       'WKL', 'HISP', 'WAGP', 'FKITP', 'MAR', 'DIVISION', 'WORKSTAT',\n",
       "       'RNTP', 'FESRP', 'LANP05', 'NAICSP', 'SMOCP', 'FRELP', 'VEH',\n",
       "       'VALP', 'LNGI', 'FMRGP', 'TEN', 'MLPK', 'FDRATP', 'FWRKP', 'WATP',\n",
       "       'MLPA', 'WRK', 'HHT', 'DIS', 'BUS', 'SMP', 'MLPI', 'SCHG', 'FJWTRP',\n",
       "       'VACS', 'SOCP00', 'FINTP', 'FMILSP', 'STOV', 'FFODP', 'FMILPP',\n",
       "       'SERIALNO', 'RAC2P05', 'BLD', 'PAP', 'GASP', 'PUMA10', 'POWSP05',\n",
       "       'NPF', 'FINSP', 'LANP12', 'SOCP12', 'HICOV', 'MRGX'], dtype=object)"
      ]
     },
     "execution_count": 70,
     "metadata": {},
     "output_type": "execute_result"
    }
   ],
   "source": [
    "df_ftrs.columns.values"
   ]
  },
  {
   "cell_type": "markdown",
   "metadata": {},
   "source": [
    "## Select features"
   ]
  },
  {
   "cell_type": "code",
   "execution_count": null,
   "metadata": {
    "collapsed": true
   },
   "outputs": [],
   "source": [
    "model = sk.feature_selection.SelectFromModel(\n",
    "    estimator=sk_ens.ExtraTreesRegressor(), threshold='mean', prefit=False)\n",
    "model.fit()"
   ]
  },
  {
   "cell_type": "markdown",
   "metadata": {},
   "source": [
    "# TODO: redo below"
   ]
  },
  {
   "cell_type": "markdown",
   "metadata": {},
   "source": [
    "## Select features\n",
    "\n",
    "**Notes:**\n",
    "* Example consumer databases: http://www.consumerreports.org/cro/money/consumer-protection/big-brother-is-watching/overview/index.htm?rurl=http%3A%2F%2Fwww.consumerreports.org%2Fcro%2Fmoney%2Fconsumer-protection%2Fbig-brother-is-watching%2Foverview%2Findex.htm\n",
    "* Random forests are scale invariant, so they can accommodate non-linear transformation.\n",
    "* Cast all values to floats so that compatable with most algorithms and can use </> logic. Otherwise less informationally dense and may require deeper tree structure to find features.\n",
    "* To \"map to float\" ('b' is N/A, mapped to 0; 1 is Yes; 2 is No; other values are special):  \n",
    "```python\n",
    "test = pd.DataFrame(data=[['  b', 1.0], ['1', 1.0], ['2', 1.0], ['3', 1.1], ['4', 1.1]], columns=['COL', 'ADJ'])\n",
    "tfmask = test['COL'].str.contains('b')\n",
    "test.loc[tfmask, 'COL'] = 0.0\n",
    "test['COL'] = test['COL'].astype(float)\n",
    "print(test.dtypes)\n",
    "test\n",
    "```\n",
    "* To \"adjust for inflation\":  \n",
    "```python\n",
    "test['ADJ'] *= 1e-6\n",
    "tfmask = test['COL'] >= 3.0\n",
    "test.loc[tfmask, 'COL'] *= test.loc[tfmask, 'ADJ']\n",
    "test\n",
    "```\n",
    "* TODO: Remove vacant units ('NP') from data frame.\n",
    "* TODO: Filter categorical variables from metadata (those without '..')."
   ]
  },
  {
   "cell_type": "code",
   "execution_count": 66,
   "metadata": {
    "collapsed": false,
    "scrolled": true
   },
   "outputs": [
    {
     "name": "stdout",
     "output_type": "stream",
     "text": [
      "RT: Record Type\n",
      "SERIALNO: Housing unit/GQ person serial number\n",
      "SPORDER: Person number\n",
      "PUMA00: Public use microdata area code (PUMA) based on Census 2000 definition for data collected prior to 2012. Use in combination with PUMA10.\n",
      "PUMA10: Public use microdata area code (PUMA) based on 2010 Census definition for data Collected in 2012 or later. Use in combination with PUMA00.\n",
      "ST: State Code\n",
      "ADJINC: Adjustment factor for income and earnings dollar amounts (6 implied decimal places)\n",
      "PWGTP: Person's weight\n",
      "AGEP: Age\n",
      "CIT: Citizenship status\n",
      "CITWP05: Year of naturalization write-in for data collected prior to 2012\n",
      "CITWP12: Year of naturalization write-in for data collected in 2012 or later\n",
      "COW: Class of worker\n",
      "DDRS: Self-care difficulty\n",
      "DEAR: Hearing difficulty\n",
      "DEYE: Vision difficulty\n",
      "DOUT: Independent living difficulty\n",
      "DPHY: Ambulatory difficulty\n",
      "DRAT: Veteran service connected disability rating (percentage)\n",
      "DRATX: Veteran service connected disability rating (checkbox)\n",
      "DREM: Cognitive difficulty\n",
      "ENG: Ability to speak English\n",
      "FER: Gave birth to child within the past 12 months\n",
      "GCL: Grandparents living with grandchildren\n",
      "GCM: Length of time responsible for grandchildren\n",
      "GCR: Grandparents responsible for grandchildren\n",
      "HINS1: Insurance through a current or former employer or union\n",
      "HINS2: Insurance purchased directly from an insurance company\n",
      "HINS3: Medicare, for people 65 and older, or people with certain disabilities\n",
      "HINS4: Medicaid, Medical Assistance, or any kind of government-assistance plan for those with low incomes or a disability\n",
      "HINS5: TRICARE or other military health care\n",
      "HINS6: VA (including those who have ever used or enrolled for VA health care)\n",
      "HINS7: Indian Health Service\n",
      "INTP: Interest, dividends, and net rental income past 12 months (signed)\n",
      "JWMNP: Travel time to work\n",
      "JWRIP: Vehicle occupancy\n",
      "JWTR: Means of transportation to work\n",
      "LANX: Language other than English spoken at home\n",
      "MAR: Marital status\n",
      "MARHD: Divorced in the past 12 months\n",
      "MARHM: Married in the past 12 months\n",
      "MARHT: Number of times married\n",
      "MARHW: Widowed in the past 12 months\n",
      "MARHYP05: Year last married for data collected prior to 2012\n",
      "MARHYP12: Year last married for data collected in 2012 or later\n",
      "MIG: Mobility status (lived here 1 year ago)\n",
      "MIL: Military service\n",
      "MLPA: Served September 2001 or later\n",
      "MLPB: Served August 1990 - August 2001 (including Persian Gulf War)\n",
      "MLPCD: Served May 1975 - July 1990\n",
      "MLPE: Served Vietnam era (August 1964 - April 1975)\n",
      "MLPFG: Served February 1955 - July 1964\n",
      "MLPH: Served Korean War (July 1950 - January 1955)\n",
      "MLPI: Served January 1947 - June 1950\n",
      "MLPJ: Served World War II (December 1941 - December 1946)\n",
      "MLPK: Served November 1941 or earlier\n",
      "NWAB: Temporary absence from work (UNEDITED-See \"Employment Status Recode\" (ESR))\n",
      "NWAV: Available for work (UNEDITED-See \"Employment Status Recode\" (ESR))\n",
      "NWLA: On layoff from work (UNEDITED-See \"Employment Status Recode\" (ESR))\n",
      "NWLK: Looking for work (UNEDITED-See \"Employment Status Recode\" (ESR))\n",
      "NWRE: Informed of recall (UNEDITED-See \"Employment Status Recode\" (ESR))\n",
      "OIP: All other income past 12 months\n",
      "PAP: Public assistance income past 12 months\n",
      "RELP: Relationship\n",
      "RETP: Retirement income past 12 months\n",
      "SCH: School enrollment\n",
      "SCHG: Grade level attending\n",
      "SCHL: Educational attainment\n",
      "SEMP: Self-employment income past 12 months (signed)\n",
      "SEX: Sex\n",
      "SSIP: Supplementary Security Income past 12 months\n",
      "SSP: Social Security income past 12 months\n",
      "WAGP: Wages or salary income past 12 months\n",
      "WKHP: Usual hours worked per week past 12 months\n",
      "WKL: When last worked\n",
      "WKW: Weeks worked during past 12 months\n",
      "WRK: Worked last week\n",
      "YOEP05: Year of entry for data collected prior to 2012\n",
      "YOEP12: Year of entry for data collected in 2012 or later\n",
      "ANC: Ancestry recode\n",
      "ANC1P05: Recoded Detailed Ancestry for data collected prior to 2012 - first entry\n",
      "ANC1P12: Recoded Detailed Ancestry for data collected in 2012 or later - first entry\n",
      "ANC2P05: Recoded Detailed Ancestry for data collected prior to 2012 - second entry\n",
      "ANC2P12: Recoded Detailed Ancestry for data collected in 2012 or later - second entry\n",
      "DECADE: Decade of entry\n",
      "DIS: Disability recode\n",
      "DRIVESP: Number of vehicles calculated from JWRI\n",
      "ESP: Employment status of parents\n",
      "ESR: Employment status recode\n",
      "FOD1P: Recoded field of degree - first entry\n",
      "FOD2P: Recoded field of degree - second entry\n",
      "HICOV: Health insurance coverage recode\n",
      "HISP: Recoded detailed Hispanic origin\n",
      "INDP: Industry recode based on 2012 IND codes\n",
      "JWAP: Time of arrival at work - hour and minute\n",
      "JWDP: Time of departure for work - hour and minute\n",
      "LANP05: Language spoken at home for data collected prior to 2012\n",
      "LANP12: Language spoken at home for data collected in 2012 or later\n",
      "MIGPUMA00: Migration PUMA based on Census 2000 definition for data collected prior to 2012\n",
      "MIGPUMA10: Migration PUMA based on 2010 Census definition for data collected in 2012 or later\n",
      "MIGSP05: Migration recode for data collected prior to 2012 - State or foreign country code\n",
      "MIGSP12: Migration recode for data collected in 2012 or later - State or foreign country code\n",
      "MSP: Married, spouse present/spouse absent\n",
      "NAICSP: NAICS Industry code based on 2012 NAICS codes\n",
      "NATIVITY: Nativity\n",
      "NOP: Nativity of parent\n",
      "OC: Own child\n",
      "OCCP02: Occupation recode for data collected in 2009 based on 2002 OCC codes\n",
      "OCCP10: Occupation recode for data collected in 2010 and 2011 based on 2010 OCC codes\n",
      "OCCP12: Occupation recode for data collected in 2012 or later based on 2010 OCC codes\n",
      "PAOC: Presence and age of own children\n",
      "PERNP: Total person's earnings\n",
      "PINCP: Total person's income (signed)\n",
      "POBP05: Place of birth (Recode) for data collected prior to 2012\n",
      "POBP12: Place of birth (Recode) for data collected in 2012 or later\n",
      "POVPIP: Income-to-poverty ratio recode\n",
      "POWPUMA00: Place of work PUMA based on Census 2000 definition for data collected prior to 2012\n",
      "POWPUMA10: Place of work PUMA based on 2010 Census definition for data collected in 2012 or later\n",
      "POWSP05: Place of work for data collected prior to 2012 - State or foreign country recode\n",
      "POWSP12: Place of work for data collected in 2012 or later - State or foreign country recode\n",
      "PRIVCOV: Private health insurance coverage recode\n",
      "PUBCOV: Public health coverage recode\n",
      "QTRBIR: Quarter of birth\n",
      "RAC1P: Recoded detailed race code\n",
      "RAC2P05: Recoded detailed race code for data collected prior to 2012\n",
      "RAC2P12: Recoded detailed race code for data collected in 2012 or later\n",
      "RAC3P05: Recoded detailed race code for data collected prior to 2012\n",
      "RAC3P12: Recoded detailed race code for data collected in 2012 or later\n",
      "RACAIAN: American Indian and Alaska Native recode (American Indian and Alaska Native alone or in combination with one or more other races)\n",
      "RACASN: Asian recode (Asian alone or in combination with one or more other races)\n",
      "RACBLK: Black or African American recode (Black alone or in combination with one or more other races)\n",
      "RACNHPI: Native Hawaiian and Other Pacific Islander recode (Native Hawaiian and Other Pacific Islander alone or in combination with one or more other races)\n",
      "RACNUM: Number of major race groups represented\n",
      "RACSOR: Some other race recode (Some other race alone or in combination with one or more other races)\n",
      "RACWHT: White recode (White alone or in combination with one or more other races)\n",
      "RC: Related child\n",
      "SCIENGP: Field of degree science and engineering flag - NSF definition\n",
      "SCIENGRLP: Field of degree science and engineering related flag - NSF definition\n",
      "SFN: Subfamily number\n",
      "SFR: Subfamily relationship\n",
      "SOCP00: SOC Occupation code for data collected in 2009 based on 2000 SOC codes\n",
      "SOCP10: SOC Occupation code for data collected in 2010 and 2011 based on 2010 SOC codes\n",
      "SOCP12: SOC Occupation recode for data collected in 2012 or later based on 2010 SOC codes\n",
      "VPS: Veteran period of service\n",
      "WAOB: World area of birth ****\n"
     ]
    }
   ],
   "source": [
    "record_type = 'PERSON RECORD'\n",
    "print_detail = False\n",
    "for key in ddict['record_types'][record_type]:\n",
    "    desc = ddict['record_types'][record_type][key]['description']\n",
    "    if not (\n",
    "        (key.startswith('F') and (desc.endswith(' flag') or desc.endswith(' edit')))\n",
    "        or ('WGTP' in key and \"Weight replicate\" in desc)):\n",
    "        if print_detail:\n",
    "            print(key)\n",
    "            pprint.pprint(ddict['record_types'][record_type][key])\n",
    "        else:\n",
    "            print(\"{key}: {desc}\".format(key=key, desc=desc))"
   ]
  },
  {
   "cell_type": "code",
   "execution_count": 85,
   "metadata": {
    "collapsed": true
   },
   "outputs": [],
   "source": [
    "# Include columns that I think companies can easily get.\n",
    "# for column details: https://www.census.gov/programs-surveys/acs/technical-documentation/pums/documentation.2013.html\n",
    "# target: HINCP\n",
    "\n",
    "cols_include = {\n",
    "    'HOUSING RECORD': [\n",
    "        'SERIALNO', 'PUMA00', 'PUMA10', 'ST', 'ADJHSG', 'ADJINC', 'WGTP', 'NP', 'BDSP', 'BLD', 'HINCP', 'R18', 'R65'],\n",
    "    'PERSON RECORD': [\n",
    "        'SERIALNO', 'SPORDER', 'PWGTP', 'AGEP', 'MAR', 'SCHL', 'INDP']\n",
    "    }"
   ]
  },
  {
   "cell_type": "code",
   "execution_count": 86,
   "metadata": {
    "collapsed": false,
    "scrolled": true
   },
   "outputs": [
    {
     "name": "stdout",
     "output_type": "stream",
     "text": [
      "HOUSING RECORD\n",
      "SERIALNO: Housing unit/GQ person serial number\n",
      "PUMA00: Public use microdata area code (PUMA) based on Census 2000 definition for data collected prior to 2012. Use in combination with PUMA10.\n",
      "PUMA10: Public use microdata area code (PUMA) based on 2010 Census definition for data collected in 2012 or later. Use in combination with PUMA00.\n",
      "ST: State Code\n",
      "ADJHSG: Adjustment factor for housing dollar amounts (6 implied decimal places)\n",
      "ADJINC: Adjustment factor for income and earnings dollar amounts (6 implied decimal places)\n",
      "WGTP: Housing Weight\n",
      "NP: Number of person records following this housing record\n",
      "BDSP: Number of bedrooms\n",
      "BLD: Units in structure\n",
      "HINCP: Household income (past 12 months)\n",
      "R18: Presence of persons under 18 years in household (unweighted)\n",
      "R65: Presence of persons 65 years and over in household (unweighted)\n",
      "\n",
      "PERSON RECORD\n",
      "SERIALNO: Housing unit/GQ person serial number\n",
      "SPORDER: Person number\n",
      "PWGTP: Person's weight\n",
      "AGEP: Age\n",
      "MAR: Marital status\n",
      "SCHL: Educational attainment\n",
      "INDP: Industry recode based on 2012 IND codes\n",
      "\n"
     ]
    }
   ],
   "source": [
    "for record_type in cols_include:\n",
    "    print(record_type)\n",
    "    for var_name in cols_include[record_type]:\n",
    "        desc = ddict['record_types'][record_type][var_name]['description']\n",
    "        print(\"{var}: {desc}\".format(var=var_name, desc=desc))\n",
    "    print()"
   ]
  },
  {
   "cell_type": "code",
   "execution_count": 80,
   "metadata": {
    "collapsed": false,
    "scrolled": true
   },
   "outputs": [
    {
     "name": "stdout",
     "output_type": "stream",
     "text": [
      "['ADM', 'AGR', 'CON', 'EDU', 'ENT', 'EXT', 'FIN', 'INF', 'MED', 'MFG', 'MIL', 'Not', 'PRF', 'RET', 'SCA', 'SRV', 'TRN', 'UNE', 'UTL', 'WHL']\n"
     ]
    }
   ],
   "source": [
    "record_type = 'PERSON RECORD'\n",
    "var_codes = ddict['record_types'][record_type]['INDP']['var_codes']\n",
    "indp_abbr = dict()\n",
    "for var_code in var_codes.keys():\n",
    "    indp_abbr[var_code] = var_codes[var_code].split(sep='-', maxsplit=1)[0][:3]\n",
    "print(sorted(set(indp_abbr.values())))"
   ]
  },
  {
   "cell_type": "markdown",
   "metadata": {
    "collapsed": true
   },
   "source": [
    "Actions for included columns:  \n",
    "* HOUSING RECORD\n",
    "    * SERIALNO: Use to join to PERSON RECORD.\n",
    "    * PUMA00, PUMA10, ST: Combine and lookup lat-lon coordinates from census.gov.\n",
    "    * ADJHSG, ADJINC: Multiply against other columns to adjust for inflation. See https://www.census.gov/library/publications/2009/acs/pums.html App 5.\n",
    "    ADJHSG: CONP, ELEP, FULP, GASP, GRNTP, INSP, MHP, MRGP, SMOCP, RNTP, SMP, WATP\n",
    "    ADJINC: INTP, OIP, PAP, PERNP, PINCP, RETP, SEMP, SSIP, SSP, WAGP\n",
    "    * WGTP: Confirm with user verification file.\n",
    "    * NP: Numerical. Map to float.\n",
    "    * BDSP: Numerical. Map to float.\n",
    "    * BLD: Map to median income.\n",
    "    * HINCP: Include. Map household income to float. Adjust all with ADJINC.\n",
    "    * R18: Include. Presence of persons under 18 years in household. Map to float.\n",
    "    * R65: Include. Presence of persons 60+ years in household.\n",
    "* PERSON RECORD\n",
    "    * SERIALNO, SPORDER: Use as index.\n",
    "    * PWGTP: Confirm user verification file.\n",
    "    * AGEP: Map to float.\n",
    "    * MAR: Map to float.\n",
    "    * SCHL: Map to float.\n",
    "    * INDP: (1) Map to float. (2) Map categories to median income."
   ]
  },
  {
   "cell_type": "markdown",
   "metadata": {
    "collapsed": true
   },
   "source": [
    "## Export ipynb to html"
   ]
  },
  {
   "cell_type": "code",
   "execution_count": 158,
   "metadata": {
    "collapsed": false
   },
   "outputs": [
    {
     "name": "stdout",
     "output_type": "stream",
     "text": [
      "2016-01-01 05:40:17+00:00\r\n"
     ]
    }
   ],
   "source": [
    "!date --rfc-3339='seconds'"
   ]
  },
  {
   "cell_type": "code",
   "execution_count": null,
   "metadata": {
    "collapsed": true
   },
   "outputs": [],
   "source": [
    "path_ipynb = os.path.join(path_static, basename, basename+'.ipynb')\n",
    "for template in ['basic', 'full']:\n",
    "    path_html = os.path.splitext(path_ipynb)[0]+'-'+template+'.html'\n",
    "    cmd = ['jupyter', 'nbconvert', '--to', 'html', '--template', template, path_ipynb, '--output', path_html]\n",
    "    print(' '.join(cmd))\n",
    "    subprocess.run(args=cmd, check=True)"
   ]
  }
 ],
 "metadata": {
  "kernelspec": {
   "display_name": "Python 3",
   "language": "python",
   "name": "python3"
  },
  "language_info": {
   "codemirror_mode": {
    "name": "ipython",
    "version": 3
   },
   "file_extension": ".py",
   "mimetype": "text/x-python",
   "name": "python",
   "nbconvert_exporter": "python",
   "pygments_lexer": "ipython3",
   "version": "3.5.1"
  }
 },
 "nbformat": 4,
 "nbformat_minor": 0
}
