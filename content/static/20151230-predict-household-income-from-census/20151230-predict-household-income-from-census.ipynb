{
 "cells": [
  {
   "cell_type": "markdown",
   "metadata": {},
   "source": [
    "# 20151230-predict-household-income-from-census\n",
    "\n",
    "Related post:  \n",
    "https://stharrold.github.io/20151230-predict-household-income-from-census.html\n",
    "\n",
    "Purpose: Predict total annual household income."
   ]
  },
  {
   "cell_type": "markdown",
   "metadata": {},
   "source": [
    "## Initialization\n",
    "\n",
    "### Imports"
   ]
  },
  {
   "cell_type": "code",
   "execution_count": null,
   "metadata": {
    "collapsed": false
   },
   "outputs": [],
   "source": [
    "cd ~"
   ]
  },
  {
   "cell_type": "code",
   "execution_count": null,
   "metadata": {
    "collapsed": false
   },
   "outputs": [],
   "source": [
    "# Import standard packages.\n",
    "import collections\n",
    "import functools\n",
    "import json\n",
    "import os\n",
    "import pdb # TEST: Comment out pdb after testing.\n",
    "import pprint\n",
    "import sys\n",
    "import time\n",
    "# Import installed packages.\n",
    "import astroML.density_estimation as astroML_dens\n",
    "import matplotlib.pyplot as plt\n",
    "import numpy as np\n",
    "import pandas as pd\n",
    "# Import local packages.\n",
    "sys.path.insert(0, os.path.join(os.path.curdir, 'stharrold.github.io/content/static/dsdemos'))\n",
    "# TEST: Comment out autoreload after testing.\n",
    "%reload_ext autoreload\n",
    "%autoreload 2\n",
    "import dsdemos as dsd\n",
    "# IPython magic.\n",
    "%matplotlib inline"
   ]
  },
  {
   "cell_type": "markdown",
   "metadata": {
    "collapsed": false
   },
   "source": [
    "## Globals"
   ]
  },
  {
   "cell_type": "code",
   "execution_count": null,
   "metadata": {
    "collapsed": false
   },
   "outputs": [],
   "source": [
    "# File paths\n",
    "path_static = os.path.join(os.path.expanduser(r'~'), r'stharrold.github.io/content/static')\n",
    "basename = r'20151230-predict-household-income-from-census'\n",
    "path_disk = os.path.abspath(r'/mnt/disk-20151227t211000z/')\n",
    "path_acs = os.path.join(path_disk, r'www2-census-gov/programs-surveys/acs/')\n",
    "path_pcsv = os.path.join(path_acs, r'data/pums/2013/5-Year/ss13pdc.csv') # 'pdc' = 'person DC'\n",
    "path_hcsv = os.path.join(path_acs, r'data/pums/2013/5-Year/ss13hdc.csv') # 'hdc' = 'housing DC'\n",
    "path_ecsv = os.path.join(path_acs, r'tech_docs/pums/estimates/pums_estimates_9_13.csv')\n",
    "path_dtxt = os.path.join(path_acs, r'tech_docs/pums/data_dict/PUMS_Data_Dictionary_2009-2013.txt')\n",
    "# Weights\n",
    "pwt = 'PWGTP' # person weight\n",
    "pwts = [pwt+str(inum) for inum in range(1, 81)]\n",
    "hwt = 'WGTP' # housing weight\n",
    "hwts = [hwt+str(inum) for inum in range(1, 81)]\n",
    "# Statistics\n",
    "# percentiles = [-1.6449 sigma, -1 sigma, mean, +1 sigma, +1.6449 sigma] for normal distribution\n",
    "# 90.00% confidence interval = (percentiles[0], percentiles[-1])\n",
    "# 68.27% confidence interval = (percentiles[1], percentiles[-2])\n",
    "# median = percentiles[2]\n",
    "percentiles = [0.0500, 0.1587, 0.5000, 0.8413, 0.9500]"
   ]
  },
  {
   "cell_type": "markdown",
   "metadata": {},
   "source": [
    "## Extract-transform-load\n",
    "\n",
    "**TODO:**\n",
    "* Just use pandas. Acknowledge dask."
   ]
  },
  {
   "cell_type": "markdown",
   "metadata": {},
   "source": [
    "### PUMS data\n",
    "\n",
    "https://www.census.gov/programs-surveys/acs/data/data-via-ftp.html\n",
    "\n",
    "http://www2.census.gov/programs-surveys/acs/data/pums/2013/5-Year/ss13pdc.csv\n",
    "\n",
    "http://www2.census.gov/programs-surveys/acs/data/pums/2013/5-Year/ss13hdc.csv"
   ]
  },
  {
   "cell_type": "code",
   "execution_count": null,
   "metadata": {
    "collapsed": false
   },
   "outputs": [],
   "source": [
    "time_start = time.perf_counter()\n",
    "for path in [path_pcsv, path_hcsv]:\n",
    "    with open(path) as fobj:\n",
    "        nlines = sum(1 for _ in fobj)\n",
    "    print(\"{path}:\".format(path=path))\n",
    "    print(\"    size (MB) = {size:.1f}\".format(size=os.path.getsize(path)/1e6))\n",
    "    print(\"    num lines = {nlines}\".format(nlines=nlines))\n",
    "print()\n",
    "dfp = pd.read_csv(path_pcsv)\n",
    "dfh = pd.read_csv(path_hcsv)\n",
    "for (name, df) in [('dfp', dfp), ('dfh', dfh)]:\n",
    "    print(\"{name} RAM usage (MB) = {mem:.1f}\".format(\n",
    "            name=name, mem=df.memory_usage().sum()/1e6))\n",
    "time_stop = time.perf_counter()\n",
    "print()\n",
    "print(\"Time elapsed (sec) = {diff:.1f}\".format(diff=time_stop-time_start))"
   ]
  },
  {
   "cell_type": "code",
   "execution_count": null,
   "metadata": {
    "collapsed": false,
    "scrolled": true
   },
   "outputs": [],
   "source": [
    "print(dfp.columns.values)\n",
    "dfp.head()"
   ]
  },
  {
   "cell_type": "code",
   "execution_count": null,
   "metadata": {
    "collapsed": false,
    "scrolled": true
   },
   "outputs": [],
   "source": [
    "print(dfh.columns.values)\n",
    "dfh.head()"
   ]
  },
  {
   "cell_type": "markdown",
   "metadata": {},
   "source": [
    "### PUMS estimates for user verification\n",
    "\n",
    "Documentation page:\n",
    "https://www.census.gov/programs-surveys/acs/technical-documentation/pums/documentation.2013.html\n",
    "\n",
    "User verification files:\n",
    "http://www2.census.gov/programs-surveys/acs/tech_docs/pums/estimates/pums_estimates_9_13.csv\n",
    "\n",
    "For general purpose information:  \n",
    "http://www2.census.gov/programs-surveys/acs/tech_docs/pums/ACS2009_2013_PUMS_README.pdf  \n",
    "\n",
    "For accuracy error formulas and inflation adjustments:\n",
    "http://www2.census.gov/programs-surveys/acs/tech_docs/pums/accuracy/2009_2013AccuracyPUMS.pdf\n",
    "\n",
    "Handbook of guidelines for ACS PUMS:\n",
    "https://www.census.gov/content/dam/Census/library/publications/2009/acs/ACSPUMS.pdf\n",
    "\n",
    "Design and Methodology report for details on how Census Bureau designs and reports the survey:\n",
    "https://www.census.gov/programs-surveys/acs/methodology/design-and-methodology.html\n",
    "\n",
    "PDFs above cover:  \n",
    "ACS uses weights samples '[P]WGTP' to mitigate over/under-representation and to control for agreement with other ACS estimates. The [ACCURACY PDF] describe two ways of calculating the uncertianties associated with estimates (also called \"characteristics\", e.g. total population, total households) from these weighted samples:\n",
    "1. Calculate the \"generalized standard error\" of the estimate using \"design factors\" from the survey. This is a single calculation and requires looking up a design factor for the estimate (characteristic).  \n",
    "2. Calculate the \"direct standard error\" of the estimate using per-sample \"replicate weights\" '[P]WGTP[1-80]'. This is multiple combined calculations but is extensible to many estimates. (Footnote: Controlled estimates like \"total population\" will have 0 direct standard error from replicate weights. Use the generalized standard error for these estimates or calculate them numerically by sampling with replacement.)\n",
    "\n",
    "TODO: mention sampling stats in stats for hackers"
   ]
  },
  {
   "cell_type": "code",
   "execution_count": null,
   "metadata": {
    "collapsed": false,
    "scrolled": true
   },
   "outputs": [],
   "source": [
    "dfe = pd.read_csv(path_ecsv)\n",
    "tfmask = dfe['state'] == 'District of Columbia'\n",
    "dfe_dc = dfe.loc[tfmask]\n",
    "dfe_dc"
   ]
  },
  {
   "cell_type": "code",
   "execution_count": null,
   "metadata": {
    "collapsed": false
   },
   "outputs": [],
   "source": [
    "cols = ['characteristic', 'pums_est_09_to_13', 'pums_se_09_to_13', 'pums_moe_09_to_13']"
   ]
  },
  {
   "cell_type": "code",
   "execution_count": null,
   "metadata": {
    "collapsed": false,
    "scrolled": true
   },
   "outputs": [],
   "source": [
    "# TODO: Move to dsdemos with tests.\n",
    "print(\"Verify:\")\n",
    "records_dfs = {\n",
    "    'PERSON RECORD':  {'dataframe': dfp, 'weight': pwt, 'replicate_weights': pwts},\n",
    "    'HOUSING RECORD': {'dataframe': dfh, 'weight': hwt, 'replicate_weights': hwts}}\n",
    "tfmask_test_strs = collections.OrderedDict([\n",
    "    ('PERSON RECORD', collections.OrderedDict([\n",
    "        ('Total population', \"np.asarray([True]*len(dfp))\"),\n",
    "        ('Housing unit population (RELP=0-15)',\"np.logical_and(0 <= dfp['RELP'], dfp['RELP'] <= 15)\"),\n",
    "        ('GQ population (RELP=16-17)', \"np.logical_and(16 <= dfp['RELP'], dfp['RELP'] <= 17)\"),\n",
    "        ('GQ institutional population (RELP=16)', \"dfp['RELP'] == 16\"),\n",
    "        ('GQ noninstitutional population (RELP=17)', \"dfp['RELP'] == 17\"),\n",
    "        ('Total males (SEX=1)', \"dfp['SEX'] == 1\"),\n",
    "        ('Total females (SEX=2)', \"dfp['SEX'] == 2\"),\n",
    "        ('Age 0-4', \"np.logical_and(0 <= dfp['AGEP'], dfp['AGEP'] <= 4)\"),\n",
    "        ('Age 5-9', \"np.logical_and(5 <= dfp['AGEP'], dfp['AGEP'] <= 9)\"),\n",
    "        ('Age 10-14', \"np.logical_and(10 <= dfp['AGEP'], dfp['AGEP'] <= 14)\"),\n",
    "        ('Age 15-19', \"np.logical_and(15 <= dfp['AGEP'], dfp['AGEP'] <= 19)\"),\n",
    "        ('Age 20-24', \"np.logical_and(20 <= dfp['AGEP'], dfp['AGEP'] <= 24)\"),\n",
    "        ('Age 25-34', \"np.logical_and(25 <= dfp['AGEP'], dfp['AGEP'] <= 34)\"),\n",
    "        ('Age 35-44', \"np.logical_and(35 <= dfp['AGEP'], dfp['AGEP'] <= 44)\"),\n",
    "        ('Age 45-54', \"np.logical_and(45 <= dfp['AGEP'], dfp['AGEP'] <= 54)\"),\n",
    "        ('Age 55-59', \"np.logical_and(55 <= dfp['AGEP'], dfp['AGEP'] <= 59)\"),\n",
    "        ('Age 60-64', \"np.logical_and(60 <= dfp['AGEP'], dfp['AGEP'] <= 64)\"),\n",
    "        ('Age 65-74', \"np.logical_and(65 <= dfp['AGEP'], dfp['AGEP'] <= 74)\"),\n",
    "        ('Age 75-84', \"np.logical_and(75 <= dfp['AGEP'], dfp['AGEP'] <= 84)\"),\n",
    "        ('Age 85 and over', \"85 <= dfp['AGEP']\")])),\n",
    "    ('HOUSING RECORD', collections.OrderedDict([\n",
    "        ('Total housing units (TYPE=1)', \"dfh['TYPE'] == 1\"),\n",
    "        ('Total occupied units', \"dfh['TEN'].notnull()\"),\n",
    "        ('Owner occupied units (TEN in 1,2)', \"np.logical_or(dfh['TEN'] == 1, dfh['TEN'] == 2)\"),\n",
    "        ('Renter occupied units (TEN in 3,4)', \"np.logical_or(dfh['TEN'] == 3, dfh['TEN'] == 4)\"),\n",
    "        ('Owned with a mortgage (TEN=1)', \"dfh['TEN'] == 1\"),\n",
    "        ('Owned free and clear (TEN=2)', \"dfh['TEN'] == 2\"),\n",
    "        ('Rented for cash (TEN=3)', \"dfh['TEN'] == 3\"),\n",
    "        ('No cash rent (TEN=4)', \"dfh['TEN'] == 4\"),\n",
    "        ('Total vacant units', \"dfh['TEN'].isnull()\"),\n",
    "        ('For rent (VACS=1)', \"dfh['VACS'] == 1\"),\n",
    "        ('For sale only (VACS=3)', \"dfh['VACS'] == 3\"),\n",
    "        ('All Other Vacant (VACS in 2,4,5,6,7)',\n",
    "         \"functools.reduce(np.logical_or, (dfh['VACS'] == vacs for vacs in [2,4,5,6,7]))\")]))])\n",
    "for record_type in records_dfs:\n",
    "    print(\"'{rt}'\".format(rt=record_type))\n",
    "    df = records_dfs[record_type]['dataframe']\n",
    "    wt = records_dfs[record_type]['weight']\n",
    "    wts = records_dfs[record_type]['replicate_weights']\n",
    "    for char in tfmask_test_strs[record_type]:\n",
    "        print(\"    '{char}'\".format(char=char))\n",
    "        tfmask_ref = dfe_dc['characteristic'] == char        \n",
    "        tfmask_test = eval(tfmask_test_strs[record_type][char])\n",
    "        # Calculate an estimate ('est', also a \"characteristic\"),\n",
    "        # a weighted sum, using sample weights '[P]WGTP'.\n",
    "        col = 'pums_est_09_to_13'\n",
    "        print(\"        '{col}':\".format(col=col), end=' ')\n",
    "        ref_est = int(dfe_dc.loc[tfmask_ref, col].values[0].replace(',', ''))\n",
    "        test_est = df.loc[tfmask_test, wt].sum()\n",
    "        assert ref_est == test_est\n",
    "        print(\"(ref, test) = {tup}\".format(tup=(ref_est, test_est)))\n",
    "        # Calculate a direct standard error ('se') using replicate weights '[P]WGTP[1-80]'.\n",
    "        # http://www2.census.gov/programs-surveys/acs/tech_docs/pums/accuracy/2009_2013AccuracyPUMS.pdf\n",
    "        # section 7, \"Measuring Sampling Error\"\n",
    "        col = 'pums_se_09_to_13'\n",
    "        print(\"        '{col}':\".format(col=col), end=' ')\n",
    "        ref_se = dfe_dc.loc[tfmask_ref, col].values[0]\n",
    "        test_se = ((4/80)*((df.loc[tfmask_test, wts].sum() - test_est)**2).sum())**0.5\n",
    "        assert np.isclose(ref_se, test_se, rtol=0, atol=1)\n",
    "        print(\"(ref, test) = {tup}\".format(tup=(ref_se, test_se)))\n",
    "        # Calculate a margin of error ('moe') at the 90% confidence level (+/- 1.645 standard errors)\n",
    "        # http://www2.census.gov/programs-surveys/acs/tech_docs/pums/accuracy/2009_2013AccuracyPUMS.pdf\n",
    "        # section 7, \"Measuring Sampling Error\"\n",
    "        col = 'pums_moe_09_to_13'\n",
    "        print(\"        '{col}'\".format(col=col), end=' ')\n",
    "        ref_moe = dfe_dc.loc[tfmask_ref, col].values[0]\n",
    "        test_moe = 1.645*test_se\n",
    "        assert np.isclose(ref_moe, test_moe, rtol=0, atol=1)\n",
    "        print(\"(ref, test) = {tup}\".format(tup=(ref_moe, test_moe)))"
   ]
  },
  {
   "cell_type": "code",
   "execution_count": null,
   "metadata": {
    "collapsed": false
   },
   "outputs": [],
   "source": [
    "record_type = 'PERSON RECORD'\n",
    "print(\"'{rt}'\".format(rt=record_type))\n",
    "df = records_dfs[record_type]['dataframe']\n",
    "wt = records_dfs[record_type]['weight']\n",
    "wts = records_dfs[record_type]['replicate_weights']\n",
    "char = 'GQ institutional population (RELP=16)'\n",
    "print(\"    '{char}'\".format(char=char))\n",
    "tfmask_ref = dfe_dc['characteristic'] == char        \n",
    "tfmask_test = eval(tfmask_test_strs[record_type][char])\n",
    "# Calculate an estimate ('est', also a \"characteristic\"),\n",
    "# a weighted sum, using sample weights '[P]WGTP'.\n",
    "col = 'pums_est_09_to_13'\n",
    "print(\"        '{col}':\".format(col=col), end=' ')\n",
    "ref_est = int(dfe_dc.loc[tfmask_ref, col].values[0].replace(',', ''))\n",
    "test_est = df.loc[tfmask_test, wt].sum()\n",
    "assert ref_est == test_est\n",
    "print(\"(ref, test) = {tup}\".format(tup=(ref_est, test_est)))\n",
    "# Calculate a direct standard error ('se') using replicate weights '[P]WGTP[1-80]'.\n",
    "# http://www2.census.gov/programs-surveys/acs/tech_docs/pums/accuracy/2009_2013AccuracyPUMS.pdf\n",
    "# section 7, \"Measuring Sampling Error\"\n",
    "col = 'pums_se_09_to_13'\n",
    "print(\"        '{col}':\".format(col=col), end=' ')\n",
    "ref_se = dfe_dc.loc[tfmask_ref, col].values[0]\n",
    "test_se = ((4/80)*((df.loc[tfmask_test, wts].sum() - test_est)**2).sum())**0.5\n",
    "assert np.isclose(ref_se, test_se, rtol=0, atol=1)\n",
    "print(\"(ref, test) = {tup}\".format(tup=(ref_se, test_se)))\n",
    "# Calculate a margin of error ('moe') at the 90% confidence level (+/- 1.645 standard errors)\n",
    "# http://www2.census.gov/programs-surveys/acs/tech_docs/pums/accuracy/2009_2013AccuracyPUMS.pdf\n",
    "# section 7, \"Measuring Sampling Error\"\n",
    "col = 'pums_moe_09_to_13'\n",
    "print(\"        '{col}'\".format(col=col), end=' ')\n",
    "ref_moe = dfe_dc.loc[tfmask_ref, col].values[0]\n",
    "test_moe = 1.645*test_se\n",
    "assert np.isclose(ref_moe, test_moe, rtol=0, atol=1)\n",
    "print(\"(ref, test) = {tup}\".format(tup=(ref_moe, test_moe)))"
   ]
  },
  {
   "cell_type": "code",
   "execution_count": null,
   "metadata": {
    "collapsed": false
   },
   "outputs": [],
   "source": [
    "print(tfmask_test.sum())\n",
    "print(ref_est)"
   ]
  },
  {
   "cell_type": "code",
   "execution_count": null,
   "metadata": {
    "collapsed": false
   },
   "outputs": [],
   "source": [
    "import astroML.plotting as astroML_plt\n",
    "import seaborn as sns\n",
    "sns.set() # Set matplotlib styles with seaborn"
   ]
  },
  {
   "cell_type": "markdown",
   "metadata": {},
   "source": [
    "### Try getting sum errors 1"
   ]
  },
  {
   "cell_type": "code",
   "execution_count": null,
   "metadata": {
    "collapsed": false
   },
   "outputs": [],
   "source": [
    "dist = df.loc[tfmask_test, wt]\n",
    "pmf = dist/dist.sum()\n",
    "assert np.isclose(pmf.sum(), 1.0)\n",
    "fracs = [0.01, 0.1, 0.2, 0.33, 0.5, 0.67, 0.8, 0.9, 0.99]\n",
    "print(\"sum(values) = {sm}\".format(sm=dist.sum()))\n",
    "# Scott's rule is fast to compute (low cpu time), wide bin widths (low memory)\n",
    "# Compute bin_[edges,pmf] with an initial sample.\n",
    "bin_edges = astroML_dens.scotts_bin_width(dist.values, return_bins=True)[1]\n",
    "bin_counts = np.histogram(dist.values, bins=bin_edges)[0]\n",
    "bin_pmf = bin_counts/bin_counts.sum()\n",
    "assert np.isclose(np.sum(bin_pmf), 1.0)\n",
    "plt.title(\"distribution of values\")\n",
    "plt.xlabel('values')\n",
    "plt.ylabel('counts')\n",
    "plt.hist(dist.values, bins=bin_edges, normed=False, histtype='stepfilled', rwidth=1.0)\n",
    "plt.show()"
   ]
  },
  {
   "cell_type": "code",
   "execution_count": null,
   "metadata": {
    "collapsed": false
   },
   "outputs": [],
   "source": [
    "bin_edges"
   ]
  },
  {
   "cell_type": "code",
   "execution_count": null,
   "metadata": {
    "collapsed": false
   },
   "outputs": [],
   "source": [
    "bin_pmf"
   ]
  },
  {
   "cell_type": "code",
   "execution_count": null,
   "metadata": {
    "collapsed": false
   },
   "outputs": [],
   "source": [
    "bin_pmf[np.digitize([1.1, 4.4, 4.4], bins=bin_edges) - 1]"
   ]
  },
  {
   "cell_type": "code",
   "execution_count": null,
   "metadata": {
    "collapsed": false,
    "scrolled": true
   },
   "outputs": [],
   "source": [
    "# with frac\n",
    "for replace in [True, False]:\n",
    "    for has_weights in [True, False]:\n",
    "        print('#'*80)\n",
    "        print((\"sample_with_replacement={re}, sample_weighted={hw}\").format(\n",
    "            re=replace, hw=has_weights))\n",
    "        if has_weights:\n",
    "            weights = pmf.values\n",
    "        else:\n",
    "            weights = None\n",
    "        time_start = time.perf_counter()\n",
    "        pct_arr = list()\n",
    "        for frac in fracs:\n",
    "            print(frac, end=' ')\n",
    "            pct_arr.append(\n",
    "                np.percentile(\n",
    "                    a=[(1/frac)*dist.sample(\n",
    "                        frac=frac, replace=replace, weights=weights, random_state=None).sum()\n",
    "                        for _ in range(int(1e3))],\n",
    "                    q=percentiles))\n",
    "        pct_arr = np.asarray(pct_arr)\n",
    "        time_stop = time.perf_counter()\n",
    "        print(\"\\nElapsed time (sec) = {diff:.2f}\".format(diff=time_stop-time_start))\n",
    "        xlabel = \"sample_fraction = len(samples)/len(values)\"\n",
    "        plt.title(\n",
    "            (\"sum(values) vs sample_fraction\\n\" +\n",
    "             \"sample_with_replacement={re}, sample_weighted={hw}\").format(\n",
    "                re=replace, hw=has_weights))\n",
    "        plt.xlabel(xlabel)\n",
    "        plt.ylabel(\"sum(values)\")\n",
    "        plt.fill_between(fracs, y1=pct_arr[:, 0], y2=pct_arr[:, -1], alpha=0.2)\n",
    "        plt.fill_between(fracs, y1=pct_arr[:, 1], y2=pct_arr[:, -2], alpha=0.2)\n",
    "        plt.plot(fracs, pct_arr[:, 3], marker='.')\n",
    "        plt.axhline(y=ref_est, color=sns.color_palette()[2])\n",
    "        plt.ylim(2e3, 12e3)\n",
    "        plt.show()\n",
    "        plt.title(\n",
    "            (\"std(values) vs sample_fraction\\n\" +\n",
    "             \"sample_with_replacement={re}, sample_weighted={hw}\").format(\n",
    "                re=replace, hw=has_weights))\n",
    "        plt.xlabel(xlabel)\n",
    "        plt.ylabel(\"std(values) = (p84-p16)/2\")\n",
    "        plt.plot(fracs, (pct_arr[:, -2]-pct_arr[:, 1])/2, marker='.')\n",
    "        plt.axhline(y=ref_se, color=sns.color_palette()[2])\n",
    "        plt.show()\n",
    "        plt.title(\n",
    "            (\"moe(values) vs sample_fraction\\n\" +\n",
    "             \"sample_with_replacement={re}, sample_weighted={hw}\").format(\n",
    "                re=replace, hw=has_weights))\n",
    "        plt.xlabel(xlabel)\n",
    "        plt.ylabel(\"moe(values) = (p95-p05)/2\")\n",
    "        plt.plot(fracs, (pct_arr[:, -1]-pct_arr[:, 0])/2, marker='.')\n",
    "        plt.axhline(y=ref_moe, color=sns.color_palette()[2])\n",
    "        plt.show()"
   ]
  },
  {
   "cell_type": "code",
   "execution_count": null,
   "metadata": {
    "collapsed": false,
    "scrolled": true
   },
   "outputs": [
    {
     "name": "stdout",
     "output_type": "stream",
     "text": [
      "################################################################################\n",
      "sample_with_replacement=True, sample_weighted=False\n",
      "0.01 > <ipython-input-201-80a0d40735c9>(22)rand_sum()\n",
      "-> return (1.0/prob_sample)*dist[rand_idxs].sum()\n",
      "--KeyboardInterrupt--\n"
     ]
    }
   ],
   "source": [
    "# with bin_pmf\n",
    "# Note: Using pmf gives perfect estimate.\n",
    "for replace in [True]: #[True, False]:\n",
    "    for has_weights in [False]: #[True, False]:\n",
    "        print('#'*80)\n",
    "        print((\"sample_with_replacement={re}, sample_weighted={hw}\").format(\n",
    "            re=replace, hw=has_weights))\n",
    "        if has_weights:\n",
    "            wts = pmf.values\n",
    "        else:\n",
    "            wts = None\n",
    "        time_start = time.perf_counter()\n",
    "        pct_arr = list()\n",
    "        for frac in fracs:\n",
    "            print(frac, end=' ')\n",
    "            size = round(frac*len(dist))\n",
    "            def rand_sum():\n",
    "                rand_idxs = np.random.choice(dist.index.values, size=size, replace=replace, p=wts)\n",
    "                prob_sample = np.sum(\n",
    "                    bin_pmf[np.digitize(dist[rand_idxs].values, bins=bin_edges) - 1])\n",
    "                return (1.0/prob_sample)*dist[rand_idxs].sum()\n",
    "            pct_arr.append(\n",
    "                np.percentile(\n",
    "                    a=[rand_sum() for _ in range(int(1e3))], q=percentiles))\n",
    "        pct_arr = np.asarray(pct_arr)\n",
    "        time_stop = time.perf_counter()\n",
    "        print(\"\\nElapsed time (sec) = {diff:.2f}\".format(diff=time_stop-time_start))\n",
    "        xlabel = \"sample_fraction = len(samples)/len(values)\"\n",
    "        plt.title(\n",
    "            (\"sum(values) vs sample_fraction\\n\" +\n",
    "             \"sample_with_replacement={re}, sample_weighted={hw}\").format(\n",
    "                re=replace, hw=has_weights))\n",
    "        plt.xlabel(xlabel)\n",
    "        plt.ylabel(\"sum(values)\")\n",
    "        plt.fill_between(fracs, y1=pct_arr[:, 0], y2=pct_arr[:, -1], alpha=0.2)\n",
    "        plt.fill_between(fracs, y1=pct_arr[:, 1], y2=pct_arr[:, -2], alpha=0.2)\n",
    "        plt.plot(fracs, pct_arr[:, 3], marker='.')\n",
    "        plt.axhline(y=ref_est, color=sns.color_palette()[2])\n",
    "        #plt.ylim(2e3, 12e3)\n",
    "        plt.show()\n",
    "        plt.title(\n",
    "            (\"std(values) vs sample_fraction\\n\" +\n",
    "             \"sample_with_replacement={re}, sample_weighted={hw}\").format(\n",
    "                re=replace, hw=has_weights))\n",
    "        plt.xlabel(xlabel)\n",
    "        plt.ylabel(\"std(values) = (p84-p16)/2\")\n",
    "        plt.plot(fracs, (pct_arr[:, -2]-pct_arr[:, 1])/2, marker='.')\n",
    "        plt.axhline(y=ref_se, color=sns.color_palette()[2])\n",
    "        plt.show()\n",
    "        plt.title(\n",
    "            (\"moe(values) vs sample_fraction\\n\" +\n",
    "             \"sample_with_replacement={re}, sample_weighted={hw}\").format(\n",
    "                re=replace, hw=has_weights))\n",
    "        plt.xlabel(xlabel)\n",
    "        plt.ylabel(\"moe(values) = (p95-p05)/2\")\n",
    "        plt.plot(fracs, (pct_arr[:, -1]-pct_arr[:, 0])/2, marker='.')\n",
    "        plt.axhline(y=ref_moe, color=sns.color_palette()[2])\n",
    "        plt.show()"
   ]
  },
  {
   "cell_type": "code",
   "execution_count": 199,
   "metadata": {
    "collapsed": false
   },
   "outputs": [
    {
     "name": "stdout",
     "output_type": "stream",
     "text": [
      "76.5364763846\n",
      "77.7256326949\n",
      "70.7358735657\n",
      "80.6276994003\n",
      "73.7828416879\n",
      "73.5716988582\n",
      "81.703467836\n",
      "76.9188414158\n",
      "73.9592134135\n",
      "71.2272087175\n"
     ]
    }
   ],
   "source": [
    "for _ in range(10):\n",
    "    print(rand_sum())"
   ]
  },
  {
   "cell_type": "code",
   "execution_count": 200,
   "metadata": {
    "collapsed": false
   },
   "outputs": [
    {
     "data": {
      "text/plain": [
       "array([[ 28.26369794,  28.7069314 ,  29.14364887,  32.1202877 ,\n",
       "         32.39868423],\n",
       "       [ 52.16630238,  54.8917431 ,  56.747072  ,  58.16918399,  58.6457275 ],\n",
       "       [ 59.51959534,  60.07473665,  61.44908318,  61.95183735,\n",
       "         62.31493135],\n",
       "       [ 62.74266183,  63.42558859,  64.54327772,  65.20390632,\n",
       "         65.55324355],\n",
       "       [ 64.88920651,  66.76390383,  67.58227016,  68.23997359,\n",
       "         68.38249115],\n",
       "       [ 67.15610794,  67.72767025,  68.51884182,  69.07496879,\n",
       "         69.12379277],\n",
       "       [ 67.52832763,  68.39245049,  69.24957893,  69.48547891,\n",
       "         69.52523656],\n",
       "       [ 68.52966407,  69.08276294,  69.91576535,  70.23825908,\n",
       "         70.52782852],\n",
       "       [ 68.997459  ,  69.53034265,  70.3679034 ,  70.5363017 ,  70.5368469 ]])"
      ]
     },
     "execution_count": 200,
     "metadata": {},
     "output_type": "execute_result"
    }
   ],
   "source": [
    "pct_arr"
   ]
  },
  {
   "cell_type": "markdown",
   "metadata": {},
   "source": [
    "### test weighting"
   ]
  },
  {
   "cell_type": "code",
   "execution_count": 1,
   "metadata": {
    "collapsed": true
   },
   "outputs": [],
   "source": [
    "import time\n",
    "import numpy as np\n",
    "import matplotlib.pyplot as plt\n",
    "%matplotlib inline"
   ]
  },
  {
   "cell_type": "code",
   "execution_count": 2,
   "metadata": {
    "collapsed": false,
    "scrolled": true
   },
   "outputs": [
    {
     "name": "stdout",
     "output_type": "stream",
     "text": [
      "average =  500.0\n",
      "weighted average =  667.0\n",
      "\n",
      "Elapsed time (sec) = 0.0306\n"
     ]
    },
    {
     "data": {
      "image/png": "[encoded data removed]",
      "text/plain": [
       "<matplotlib.figure.Figure at 0x7f6e5767a2b0>"
      ]
     },
     "metadata": {},
     "output_type": "display_data"
    },
    {
     "name": "stdout",
     "output_type": "stream",
     "text": [
      "\n",
      "Elapsed time (sec) = 0.0009\n"
     ]
    },
    {
     "data": {
      "image/png": "[encoded data removed]",
      "text/plain": [
       "<matplotlib.figure.Figure at 0x7f6e5564a5c0>"
      ]
     },
     "metadata": {},
     "output_type": "display_data"
    },
    {
     "name": "stdout",
     "output_type": "stream",
     "text": [
      "\n",
      "Elapsed time (sec) = 0.0066\n"
     ]
    },
    {
     "data": {
      "image/png": "[encoded data removed]",
      "text/plain": [
       "<matplotlib.figure.Figure at 0x7f6e55560d30>"
      ]
     },
     "metadata": {},
     "output_type": "display_data"
    },
    {
     "name": "stdout",
     "output_type": "stream",
     "text": [
      "\n",
      "Elapsed time (sec) = 0.0023\n"
     ]
    },
    {
     "data": {
      "image/png": "[encoded data removed]",
      "text/plain": [
       "<matplotlib.figure.Figure at 0x7f6e554dada0>"
      ]
     },
     "metadata": {},
     "output_type": "display_data"
    }
   ],
   "source": [
    "# Summary for averages: replace=True, weight_idxs=False is accurate and fast.\n",
    "vals = np.arange(1001)\n",
    "pmf = vals / np.sum(vals) # probability mass function\n",
    "assert np.isclose(np.sum(pmf), 1.0)\n",
    "ref_avg = np.average(vals)\n",
    "ref_avg_wtd = np.average(vals, weights=pmf)\n",
    "print('average = ', ref_avg)\n",
    "print('weighted average = ', ref_avg_wtd)\n",
    "fracs = [0.01, 0.1, 0.2, 0.5, 0.8, 0.9, 0.99]\n",
    "for replace in [True, False]:\n",
    "    for weight_idxs in [True, False]:\n",
    "        if weight_idxs:\n",
    "            wts = pmf\n",
    "        else:\n",
    "            wts = None\n",
    "        time_start = time.perf_counter()\n",
    "        (avgs, avgs_wtd) = (list(), list())\n",
    "        for frac in fracs:\n",
    "            size = round(frac*len(vals))\n",
    "            idxs = np.random.choice(vals, size=size, replace=replace, p=wts)\n",
    "            avgs.append(np.average(vals[idxs]))\n",
    "            avgs_wtd.append(np.average(vals[idxs], weights=pmf[idxs]))\n",
    "        time_stop = time.perf_counter()\n",
    "        print(\"\\nElapsed time (sec) = {diff:.4f}\".format(diff=time_stop - time_start))\n",
    "        plt.title(\"replace={re}, weight_idxs={hw}\".format(\n",
    "                re=replace, hw=weight_idxs))\n",
    "        plt.xlabel(\"frac\")\n",
    "        plt.ylabel(\"avgs[_wtd]\")\n",
    "        plt.plot(fracs, avgs, marker='.', color='blue', label='avgs')\n",
    "        plt.plot(fracs, avgs_wtd, marker='.', color='green', label='avgs_wtd')\n",
    "        plt.axhline(ref_avg, color='black')\n",
    "        plt.axhline(ref_avg_wtd, color='black')\n",
    "        plt.ylim(1e2, 1e3)\n",
    "        plt.legend()\n",
    "        plt.show()        "
   ]
  },
  {
   "cell_type": "code",
   "execution_count": 4,
   "metadata": {
    "collapsed": false
   },
   "outputs": [
    {
     "name": "stdout",
     "output_type": "stream",
     "text": [
      "count =  1001\n",
      "sum =  500500\n"
     ]
    }
   ],
   "source": [
    "# Summary for sums: replace=_, weight_idxs=_ is accurate and fast.\n",
    "vals = np.arange(1001)\n",
    "ref_count = len(vals)\n",
    "ref_sum = np.sum(vals)\n",
    "print('count = ', ref_count)\n",
    "print('sum = ', ref_sum)"
   ]
  },
  {
   "cell_type": "code",
   "execution_count": 6,
   "metadata": {
    "collapsed": false,
    "scrolled": true
   },
   "outputs": [
    {
     "name": "stdout",
     "output_type": "stream",
     "text": [
      "\n",
      "Elapsed time (sec) = 0.0015\n"
     ]
    },
    {
     "data": {
      "image/png": "[encoded data removed]",
      "text/plain": [
       "<matplotlib.figure.Figure at 0x7f6e554735f8>"
      ]
     },
     "metadata": {},
     "output_type": "display_data"
    },
    {
     "data": {
      "image/png": "[encoded data removed]",
      "text/plain": [
       "<matplotlib.figure.Figure at 0x7f6e554acd30>"
      ]
     },
     "metadata": {},
     "output_type": "display_data"
    },
    {
     "name": "stdout",
     "output_type": "stream",
     "text": [
      "\n",
      "Elapsed time (sec) = 0.0022\n"
     ]
    },
    {
     "data": {
      "image/png": "[encoded data removed]",
      "text/plain": [
       "<matplotlib.figure.Figure at 0x7f6e554d1d30>"
      ]
     },
     "metadata": {},
     "output_type": "display_data"
    },
    {
     "data": {
      "image/png": "[encoded data removed]",
      "text/plain": [
       "<matplotlib.figure.Figure at 0x7f6e5557a2b0>"
      ]
     },
     "metadata": {},
     "output_type": "display_data"
    }
   ],
   "source": [
    "fracs = [0.01, 0.1, 0.2, 0.5, 0.8, 0.9, 0.99]\n",
    "for replace in [True, False]:\n",
    "    time_start = time.perf_counter()\n",
    "    (counts, sums) = (list(), list())\n",
    "    for frac in fracs:\n",
    "        size = round(frac*len(vals))\n",
    "        idxs = np.random.choice(vals, size=size, replace=replace, p=None)\n",
    "        counts.append((1/frac)*len(vals[idxs]))\n",
    "        sums.append((1/frac)*np.sum(vals[idxs]))\n",
    "    time_stop = time.perf_counter()\n",
    "    print(\"\\nElapsed time (sec) = {diff:.4f}\".format(diff=time_stop - time_start))\n",
    "    for (name, arr) in [('counts', counts), ('sums', sums)]:\n",
    "        if name == 'counts':\n",
    "            (arr, ref) = (counts, ref_count)\n",
    "        else:\n",
    "            (arr, ref) = (sums, ref_sum)\n",
    "        plt.title(\"name={nm}, replace={re}\".format(nm=name, re=replace))\n",
    "        plt.xlabel(\"frac\")\n",
    "        plt.ylabel(name)\n",
    "        plt.plot(fracs, arr, marker='.')\n",
    "        plt.axhline(ref, color='black')\n",
    "        plt.show()        "
   ]
  },
  {
   "cell_type": "code",
   "execution_count": 8,
   "metadata": {
    "collapsed": false
   },
   "outputs": [
    {
     "data": {
      "text/plain": [
       "[1000.0,\n",
       " 1000.0,\n",
       " 1000.0,\n",
       " 1000.0,\n",
       " 1001.25,\n",
       " 1001.1111111111112,\n",
       " 1001.010101010101]"
      ]
     },
     "execution_count": 8,
     "metadata": {},
     "output_type": "execute_result"
    }
   ],
   "source": [
    "counts"
   ]
  },
  {
   "cell_type": "code",
   "execution_count": null,
   "metadata": {
    "collapsed": true
   },
   "outputs": [],
   "source": []
  },
  {
   "cell_type": "markdown",
   "metadata": {},
   "source": [
    "### Data dictionary\n",
    "\n",
    "https://www.census.gov/programs-surveys/acs/technical-documentation/pums/documentation.2013.html\n",
    "\n",
    "http://www2.census.gov/programs-surveys/acs/tech_docs/pums/data_dict/PUMS_Data_Dictionary_2009-2013.txt"
   ]
  },
  {
   "cell_type": "code",
   "execution_count": 6,
   "metadata": {
    "collapsed": false,
    "scrolled": true
   },
   "outputs": [
    {
     "data": {
      "text/html": [
       "<div>\n",
       "<table border=\"1\" class=\"dataframe\">\n",
       "  <thead>\n",
       "    <tr style=\"text-align: right;\">\n",
       "      <th></th>\n",
       "      <th></th>\n",
       "      <th>length</th>\n",
       "      <th>description</th>\n",
       "      <th>var_codes</th>\n",
       "      <th>notes</th>\n",
       "    </tr>\n",
       "    <tr>\n",
       "      <th>record_type</th>\n",
       "      <th>var_name</th>\n",
       "      <th></th>\n",
       "      <th></th>\n",
       "      <th></th>\n",
       "      <th></th>\n",
       "    </tr>\n",
       "  </thead>\n",
       "  <tbody>\n",
       "    <tr>\n",
       "      <th rowspan=\"5\" valign=\"top\">HOUSING RECORD</th>\n",
       "      <th>ACCESS</th>\n",
       "      <td>1</td>\n",
       "      <td>Access to the Internet</td>\n",
       "      <td>{'b': 'N/A (GQ)', '1': 'Yes, with subscription...</td>\n",
       "      <td>NaN</td>\n",
       "    </tr>\n",
       "    <tr>\n",
       "      <th>ACR</th>\n",
       "      <td>1</td>\n",
       "      <td>Lot size</td>\n",
       "      <td>{'b': 'N/A (GQ/not a one-family house or mobil...</td>\n",
       "      <td>NaN</td>\n",
       "    </tr>\n",
       "    <tr>\n",
       "      <th>ADJHSG</th>\n",
       "      <td>7</td>\n",
       "      <td>Adjustment factor for housing dollar amounts (...</td>\n",
       "      <td>{'1000000': '2013 factor (1.000000)'}</td>\n",
       "      <td>[Note: The value of ADJHSG inflation-adjusts r...</td>\n",
       "    </tr>\n",
       "    <tr>\n",
       "      <th>ADJINC</th>\n",
       "      <td>7</td>\n",
       "      <td>Adjustment factor for income and earnings doll...</td>\n",
       "      <td>{'1007549': '2013 factor (1.007549)'}</td>\n",
       "      <td>[Note: The value of ADJINC inflation-adjusts r...</td>\n",
       "    </tr>\n",
       "    <tr>\n",
       "      <th>AGS</th>\n",
       "      <td>1</td>\n",
       "      <td>Sales of Agriculture Products (Yearly sales)</td>\n",
       "      <td>{'b': 'N/A (GQ/vacant/not a one family house o...</td>\n",
       "      <td>[Note: no adjustment factor is applied to AGS.]</td>\n",
       "    </tr>\n",
       "  </tbody>\n",
       "</table>\n",
       "</div>"
      ],
      "text/plain": [
       "                        length  \\\n",
       "record_type    var_name          \n",
       "HOUSING RECORD ACCESS        1   \n",
       "               ACR           1   \n",
       "               ADJHSG        7   \n",
       "               ADJINC        7   \n",
       "               AGS           1   \n",
       "\n",
       "                                                               description  \\\n",
       "record_type    var_name                                                      \n",
       "HOUSING RECORD ACCESS                               Access to the Internet   \n",
       "               ACR                                                Lot size   \n",
       "               ADJHSG    Adjustment factor for housing dollar amounts (...   \n",
       "               ADJINC    Adjustment factor for income and earnings doll...   \n",
       "               AGS            Sales of Agriculture Products (Yearly sales)   \n",
       "\n",
       "                                                                 var_codes  \\\n",
       "record_type    var_name                                                      \n",
       "HOUSING RECORD ACCESS    {'b': 'N/A (GQ)', '1': 'Yes, with subscription...   \n",
       "               ACR       {'b': 'N/A (GQ/not a one-family house or mobil...   \n",
       "               ADJHSG                {'1000000': '2013 factor (1.000000)'}   \n",
       "               ADJINC                {'1007549': '2013 factor (1.007549)'}   \n",
       "               AGS       {'b': 'N/A (GQ/vacant/not a one family house o...   \n",
       "\n",
       "                                                                     notes  \n",
       "record_type    var_name                                                     \n",
       "HOUSING RECORD ACCESS                                                  NaN  \n",
       "               ACR                                                     NaN  \n",
       "               ADJHSG    [Note: The value of ADJHSG inflation-adjusts r...  \n",
       "               ADJINC    [Note: The value of ADJINC inflation-adjusts r...  \n",
       "               AGS         [Note: no adjustment factor is applied to AGS.]  "
      ]
     },
     "execution_count": 6,
     "metadata": {},
     "output_type": "execute_result"
    }
   ],
   "source": [
    "ddict = parse_pumsdatadict(path=path_dtxt)"
   ]
  },
  {
   "cell_type": "markdown",
   "metadata": {},
   "source": [
    "## Select features\n",
    "\n",
    "**Notes:**\n",
    "* Example consumer databases: http://www.consumerreports.org/cro/money/consumer-protection/big-brother-is-watching/overview/index.htm?rurl=http%3A%2F%2Fwww.consumerreports.org%2Fcro%2Fmoney%2Fconsumer-protection%2Fbig-brother-is-watching%2Foverview%2Findex.htm\n",
    "* Random forests are scale invariant, so they can accommodate non-linear transformation.\n",
    "* Cast all values to floats so that compatable with most algorithms and can use </> logic. Otherwise less informationally dense and may require deeper tree structure to find features.\n",
    "* To \"map to float\" ('b' is N/A, mapped to 0; 1 is Yes; 2 is No; other values are special):  \n",
    "```python\n",
    "test = pd.DataFrame(data=[['  b', 1.0], ['1', 1.0], ['2', 1.0], ['3', 1.1], ['4', 1.1]], columns=['COL', 'ADJ'])\n",
    "tfmask = test['COL'].str.contains('b')\n",
    "test.loc[tfmask, 'COL'] = 0.0\n",
    "test['COL'] = test['COL'].astype(float)\n",
    "print(test.dtypes)\n",
    "test\n",
    "```\n",
    "* To \"adjust for inflation\":  \n",
    "```python\n",
    "test['ADJ'] *= 1e-6\n",
    "tfmask = test['COL'] >= 3.0\n",
    "test.loc[tfmask, 'COL'] *= test.loc[tfmask, 'ADJ']\n",
    "test\n",
    "```\n",
    "* TODO: Remove vacant units ('NP') from data frame.\n",
    "* TODO: Filter categorical variables from metadata (those without '..')."
   ]
  },
  {
   "cell_type": "code",
   "execution_count": 66,
   "metadata": {
    "collapsed": false,
    "scrolled": true
   },
   "outputs": [
    {
     "name": "stdout",
     "output_type": "stream",
     "text": [
      "RT: Record Type\n",
      "SERIALNO: Housing unit/GQ person serial number\n",
      "SPORDER: Person number\n",
      "PUMA00: Public use microdata area code (PUMA) based on Census 2000 definition for data collected prior to 2012. Use in combination with PUMA10.\n",
      "PUMA10: Public use microdata area code (PUMA) based on 2010 Census definition for data Collected in 2012 or later. Use in combination with PUMA00.\n",
      "ST: State Code\n",
      "ADJINC: Adjustment factor for income and earnings dollar amounts (6 implied decimal places)\n",
      "PWGTP: Person's weight\n",
      "AGEP: Age\n",
      "CIT: Citizenship status\n",
      "CITWP05: Year of naturalization write-in for data collected prior to 2012\n",
      "CITWP12: Year of naturalization write-in for data collected in 2012 or later\n",
      "COW: Class of worker\n",
      "DDRS: Self-care difficulty\n",
      "DEAR: Hearing difficulty\n",
      "DEYE: Vision difficulty\n",
      "DOUT: Independent living difficulty\n",
      "DPHY: Ambulatory difficulty\n",
      "DRAT: Veteran service connected disability rating (percentage)\n",
      "DRATX: Veteran service connected disability rating (checkbox)\n",
      "DREM: Cognitive difficulty\n",
      "ENG: Ability to speak English\n",
      "FER: Gave birth to child within the past 12 months\n",
      "GCL: Grandparents living with grandchildren\n",
      "GCM: Length of time responsible for grandchildren\n",
      "GCR: Grandparents responsible for grandchildren\n",
      "HINS1: Insurance through a current or former employer or union\n",
      "HINS2: Insurance purchased directly from an insurance company\n",
      "HINS3: Medicare, for people 65 and older, or people with certain disabilities\n",
      "HINS4: Medicaid, Medical Assistance, or any kind of government-assistance plan for those with low incomes or a disability\n",
      "HINS5: TRICARE or other military health care\n",
      "HINS6: VA (including those who have ever used or enrolled for VA health care)\n",
      "HINS7: Indian Health Service\n",
      "INTP: Interest, dividends, and net rental income past 12 months (signed)\n",
      "JWMNP: Travel time to work\n",
      "JWRIP: Vehicle occupancy\n",
      "JWTR: Means of transportation to work\n",
      "LANX: Language other than English spoken at home\n",
      "MAR: Marital status\n",
      "MARHD: Divorced in the past 12 months\n",
      "MARHM: Married in the past 12 months\n",
      "MARHT: Number of times married\n",
      "MARHW: Widowed in the past 12 months\n",
      "MARHYP05: Year last married for data collected prior to 2012\n",
      "MARHYP12: Year last married for data collected in 2012 or later\n",
      "MIG: Mobility status (lived here 1 year ago)\n",
      "MIL: Military service\n",
      "MLPA: Served September 2001 or later\n",
      "MLPB: Served August 1990 - August 2001 (including Persian Gulf War)\n",
      "MLPCD: Served May 1975 - July 1990\n",
      "MLPE: Served Vietnam era (August 1964 - April 1975)\n",
      "MLPFG: Served February 1955 - July 1964\n",
      "MLPH: Served Korean War (July 1950 - January 1955)\n",
      "MLPI: Served January 1947 - June 1950\n",
      "MLPJ: Served World War II (December 1941 - December 1946)\n",
      "MLPK: Served November 1941 or earlier\n",
      "NWAB: Temporary absence from work (UNEDITED-See \"Employment Status Recode\" (ESR))\n",
      "NWAV: Available for work (UNEDITED-See \"Employment Status Recode\" (ESR))\n",
      "NWLA: On layoff from work (UNEDITED-See \"Employment Status Recode\" (ESR))\n",
      "NWLK: Looking for work (UNEDITED-See \"Employment Status Recode\" (ESR))\n",
      "NWRE: Informed of recall (UNEDITED-See \"Employment Status Recode\" (ESR))\n",
      "OIP: All other income past 12 months\n",
      "PAP: Public assistance income past 12 months\n",
      "RELP: Relationship\n",
      "RETP: Retirement income past 12 months\n",
      "SCH: School enrollment\n",
      "SCHG: Grade level attending\n",
      "SCHL: Educational attainment\n",
      "SEMP: Self-employment income past 12 months (signed)\n",
      "SEX: Sex\n",
      "SSIP: Supplementary Security Income past 12 months\n",
      "SSP: Social Security income past 12 months\n",
      "WAGP: Wages or salary income past 12 months\n",
      "WKHP: Usual hours worked per week past 12 months\n",
      "WKL: When last worked\n",
      "WKW: Weeks worked during past 12 months\n",
      "WRK: Worked last week\n",
      "YOEP05: Year of entry for data collected prior to 2012\n",
      "YOEP12: Year of entry for data collected in 2012 or later\n",
      "ANC: Ancestry recode\n",
      "ANC1P05: Recoded Detailed Ancestry for data collected prior to 2012 - first entry\n",
      "ANC1P12: Recoded Detailed Ancestry for data collected in 2012 or later - first entry\n",
      "ANC2P05: Recoded Detailed Ancestry for data collected prior to 2012 - second entry\n",
      "ANC2P12: Recoded Detailed Ancestry for data collected in 2012 or later - second entry\n",
      "DECADE: Decade of entry\n",
      "DIS: Disability recode\n",
      "DRIVESP: Number of vehicles calculated from JWRI\n",
      "ESP: Employment status of parents\n",
      "ESR: Employment status recode\n",
      "FOD1P: Recoded field of degree - first entry\n",
      "FOD2P: Recoded field of degree - second entry\n",
      "HICOV: Health insurance coverage recode\n",
      "HISP: Recoded detailed Hispanic origin\n",
      "INDP: Industry recode based on 2012 IND codes\n",
      "JWAP: Time of arrival at work - hour and minute\n",
      "JWDP: Time of departure for work - hour and minute\n",
      "LANP05: Language spoken at home for data collected prior to 2012\n",
      "LANP12: Language spoken at home for data collected in 2012 or later\n",
      "MIGPUMA00: Migration PUMA based on Census 2000 definition for data collected prior to 2012\n",
      "MIGPUMA10: Migration PUMA based on 2010 Census definition for data collected in 2012 or later\n",
      "MIGSP05: Migration recode for data collected prior to 2012 - State or foreign country code\n",
      "MIGSP12: Migration recode for data collected in 2012 or later - State or foreign country code\n",
      "MSP: Married, spouse present/spouse absent\n",
      "NAICSP: NAICS Industry code based on 2012 NAICS codes\n",
      "NATIVITY: Nativity\n",
      "NOP: Nativity of parent\n",
      "OC: Own child\n",
      "OCCP02: Occupation recode for data collected in 2009 based on 2002 OCC codes\n",
      "OCCP10: Occupation recode for data collected in 2010 and 2011 based on 2010 OCC codes\n",
      "OCCP12: Occupation recode for data collected in 2012 or later based on 2010 OCC codes\n",
      "PAOC: Presence and age of own children\n",
      "PERNP: Total person's earnings\n",
      "PINCP: Total person's income (signed)\n",
      "POBP05: Place of birth (Recode) for data collected prior to 2012\n",
      "POBP12: Place of birth (Recode) for data collected in 2012 or later\n",
      "POVPIP: Income-to-poverty ratio recode\n",
      "POWPUMA00: Place of work PUMA based on Census 2000 definition for data collected prior to 2012\n",
      "POWPUMA10: Place of work PUMA based on 2010 Census definition for data collected in 2012 or later\n",
      "POWSP05: Place of work for data collected prior to 2012 - State or foreign country recode\n",
      "POWSP12: Place of work for data collected in 2012 or later - State or foreign country recode\n",
      "PRIVCOV: Private health insurance coverage recode\n",
      "PUBCOV: Public health coverage recode\n",
      "QTRBIR: Quarter of birth\n",
      "RAC1P: Recoded detailed race code\n",
      "RAC2P05: Recoded detailed race code for data collected prior to 2012\n",
      "RAC2P12: Recoded detailed race code for data collected in 2012 or later\n",
      "RAC3P05: Recoded detailed race code for data collected prior to 2012\n",
      "RAC3P12: Recoded detailed race code for data collected in 2012 or later\n",
      "RACAIAN: American Indian and Alaska Native recode (American Indian and Alaska Native alone or in combination with one or more other races)\n",
      "RACASN: Asian recode (Asian alone or in combination with one or more other races)\n",
      "RACBLK: Black or African American recode (Black alone or in combination with one or more other races)\n",
      "RACNHPI: Native Hawaiian and Other Pacific Islander recode (Native Hawaiian and Other Pacific Islander alone or in combination with one or more other races)\n",
      "RACNUM: Number of major race groups represented\n",
      "RACSOR: Some other race recode (Some other race alone or in combination with one or more other races)\n",
      "RACWHT: White recode (White alone or in combination with one or more other races)\n",
      "RC: Related child\n",
      "SCIENGP: Field of degree science and engineering flag - NSF definition\n",
      "SCIENGRLP: Field of degree science and engineering related flag - NSF definition\n",
      "SFN: Subfamily number\n",
      "SFR: Subfamily relationship\n",
      "SOCP00: SOC Occupation code for data collected in 2009 based on 2000 SOC codes\n",
      "SOCP10: SOC Occupation code for data collected in 2010 and 2011 based on 2010 SOC codes\n",
      "SOCP12: SOC Occupation recode for data collected in 2012 or later based on 2010 SOC codes\n",
      "VPS: Veteran period of service\n",
      "WAOB: World area of birth ****\n"
     ]
    }
   ],
   "source": [
    "record_type = 'PERSON RECORD'\n",
    "print_detail = False\n",
    "for key in ddict['record_types'][record_type]:\n",
    "    desc = ddict['record_types'][record_type][key]['description']\n",
    "    if not (\n",
    "        (key.startswith('F') and (desc.endswith(' flag') or desc.endswith(' edit')))\n",
    "        or ('WGTP' in key and \"Weight replicate\" in desc)):\n",
    "        if print_detail:\n",
    "            print(key)\n",
    "            pprint.pprint(ddict['record_types'][record_type][key])\n",
    "        else:\n",
    "            print(\"{key}: {desc}\".format(key=key, desc=desc))"
   ]
  },
  {
   "cell_type": "code",
   "execution_count": 85,
   "metadata": {
    "collapsed": true
   },
   "outputs": [],
   "source": [
    "# Include columns that I think companies can easily get.\n",
    "# for column details: https://www.census.gov/programs-surveys/acs/technical-documentation/pums/documentation.2013.html\n",
    "# target: HINCP\n",
    "\n",
    "cols_include = {\n",
    "    'HOUSING RECORD': [\n",
    "        'SERIALNO', 'PUMA00', 'PUMA10', 'ST', 'ADJHSG', 'ADJINC', 'WGTP', 'NP', 'BDSP', 'BLD', 'HINCP', 'R18', 'R65'],\n",
    "    'PERSON RECORD': [\n",
    "        'SERIALNO', 'SPORDER', 'PWGTP', 'AGEP', 'MAR', 'SCHL', 'INDP']\n",
    "    }"
   ]
  },
  {
   "cell_type": "code",
   "execution_count": 86,
   "metadata": {
    "collapsed": false,
    "scrolled": true
   },
   "outputs": [
    {
     "name": "stdout",
     "output_type": "stream",
     "text": [
      "HOUSING RECORD\n",
      "SERIALNO: Housing unit/GQ person serial number\n",
      "PUMA00: Public use microdata area code (PUMA) based on Census 2000 definition for data collected prior to 2012. Use in combination with PUMA10.\n",
      "PUMA10: Public use microdata area code (PUMA) based on 2010 Census definition for data collected in 2012 or later. Use in combination with PUMA00.\n",
      "ST: State Code\n",
      "ADJHSG: Adjustment factor for housing dollar amounts (6 implied decimal places)\n",
      "ADJINC: Adjustment factor for income and earnings dollar amounts (6 implied decimal places)\n",
      "WGTP: Housing Weight\n",
      "NP: Number of person records following this housing record\n",
      "BDSP: Number of bedrooms\n",
      "BLD: Units in structure\n",
      "HINCP: Household income (past 12 months)\n",
      "R18: Presence of persons under 18 years in household (unweighted)\n",
      "R65: Presence of persons 65 years and over in household (unweighted)\n",
      "\n",
      "PERSON RECORD\n",
      "SERIALNO: Housing unit/GQ person serial number\n",
      "SPORDER: Person number\n",
      "PWGTP: Person's weight\n",
      "AGEP: Age\n",
      "MAR: Marital status\n",
      "SCHL: Educational attainment\n",
      "INDP: Industry recode based on 2012 IND codes\n",
      "\n"
     ]
    }
   ],
   "source": [
    "for record_type in cols_include:\n",
    "    print(record_type)\n",
    "    for var_name in cols_include[record_type]:\n",
    "        desc = ddict['record_types'][record_type][var_name]['description']\n",
    "        print(\"{var}: {desc}\".format(var=var_name, desc=desc))\n",
    "    print()"
   ]
  },
  {
   "cell_type": "code",
   "execution_count": 80,
   "metadata": {
    "collapsed": false,
    "scrolled": true
   },
   "outputs": [
    {
     "name": "stdout",
     "output_type": "stream",
     "text": [
      "['ADM', 'AGR', 'CON', 'EDU', 'ENT', 'EXT', 'FIN', 'INF', 'MED', 'MFG', 'MIL', 'Not', 'PRF', 'RET', 'SCA', 'SRV', 'TRN', 'UNE', 'UTL', 'WHL']\n"
     ]
    }
   ],
   "source": [
    "record_type = 'PERSON RECORD'\n",
    "var_codes = ddict['record_types'][record_type]['INDP']['var_codes']\n",
    "indp_abbr = dict()\n",
    "for var_code in var_codes.keys():\n",
    "    indp_abbr[var_code] = var_codes[var_code].split(sep='-', maxsplit=1)[0][:3]\n",
    "print(sorted(set(indp_abbr.values())))"
   ]
  },
  {
   "cell_type": "markdown",
   "metadata": {
    "collapsed": true
   },
   "source": [
    "Actions for included columns:  \n",
    "* HOUSING RECORD\n",
    "    * SERIALNO: Use to join to PERSON RECORD.\n",
    "    * PUMA00, PUMA10, ST: Combine and lookup lat-lon coordinates from census.gov.\n",
    "    * ADJHSG, ADJINC: Multiply against other columns to adjust for inflation. See https://www.census.gov/library/publications/2009/acs/pums.html App 5.\n",
    "    ADJHSG: CONP, ELEP, FULP, GASP, GRNTP, INSP, MHP, MRGP, SMOCP, RNTP, SMP, WATP\n",
    "    ADJINC: INTP, OIP, PAP, PERNP, PINCP, RETP, SEMP, SSIP, SSP, WAGP\n",
    "    * WGTP: Confirm with user verification file.\n",
    "    * NP: Numerical. Map to float.\n",
    "    * BDSP: Numerical. Map to float.\n",
    "    * BLD: Map to median income.\n",
    "    * HINCP: Include. Map household income to float. Adjust all with ADJINC.\n",
    "    * R18: Include. Presence of persons under 18 years in household. Map to float.\n",
    "    * R65: Include. Presence of persons 60+ years in household.\n",
    "* PERSON RECORD\n",
    "    * SERIALNO, SPORDER: Use as index.\n",
    "    * PWGTP: Confirm user verification file.\n",
    "    * AGEP: Map to float.\n",
    "    * MAR: Map to float.\n",
    "    * SCHL: Map to float.\n",
    "    * INDP: (1) Map to float. (2) Map categories to median income."
   ]
  },
  {
   "cell_type": "markdown",
   "metadata": {
    "collapsed": true
   },
   "source": [
    "## Export ipynb to html"
   ]
  },
  {
   "cell_type": "code",
   "execution_count": 158,
   "metadata": {
    "collapsed": false
   },
   "outputs": [
    {
     "name": "stdout",
     "output_type": "stream",
     "text": [
      "2016-01-01 05:40:17+00:00\r\n"
     ]
    }
   ],
   "source": [
    "!date --rfc-3339='seconds'"
   ]
  },
  {
   "cell_type": "code",
   "execution_count": null,
   "metadata": {
    "collapsed": true
   },
   "outputs": [],
   "source": [
    "path_ipynb = os.path.join(path_static, basename, basename+'.ipynb')\n",
    "for template in ['basic', 'full']:\n",
    "    path_html = os.path.splitext(path_ipynb)[0]+'-'+template+'.html'\n",
    "    cmd = ['jupyter', 'nbconvert', '--to', 'html', '--template', template, path_ipynb, '--output', path_html]\n",
    "    print(' '.join(cmd))\n",
    "    subprocess.run(args=cmd, check=True)"
   ]
  }
 ],
 "metadata": {
  "kernelspec": {
   "display_name": "Python 3",
   "language": "python",
   "name": "python3"
  },
  "language_info": {
   "codemirror_mode": {
    "name": "ipython",
    "version": 3
   },
   "file_extension": ".py",
   "mimetype": "text/x-python",
   "name": "python",
   "nbconvert_exporter": "python",
   "pygments_lexer": "ipython3",
   "version": "3.5.1"
  }
 },
 "nbformat": 4,
 "nbformat_minor": 0
}
