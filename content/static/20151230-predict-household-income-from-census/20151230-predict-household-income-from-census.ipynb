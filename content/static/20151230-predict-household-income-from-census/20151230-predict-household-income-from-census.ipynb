{
 "cells": [
  {
   "cell_type": "markdown",
   "metadata": {},
   "source": [
    "# 20151230-predict-household-income-from-census\n",
    "\n",
    "Related post:  \n",
    "https://stharrold.github.io/20151230-predict-household-income-from-census.html\n",
    "\n",
    "Purpose: Predict total annual household income."
   ]
  },
  {
   "cell_type": "markdown",
   "metadata": {},
   "source": [
    "## Initialization\n",
    "\n",
    "### Imports"
   ]
  },
  {
   "cell_type": "code",
   "execution_count": 1,
   "metadata": {
    "collapsed": false
   },
   "outputs": [
    {
     "name": "stdout",
     "output_type": "stream",
     "text": [
      "/home/samuel_harrold\n"
     ]
    }
   ],
   "source": [
    "cd ~"
   ]
  },
  {
   "cell_type": "code",
   "execution_count": 3,
   "metadata": {
    "collapsed": false
   },
   "outputs": [],
   "source": [
    "# Import standard packages.\n",
    "import collections\n",
    "import os\n",
    "import pdb # TEST: Comment out pdb after testing.\n",
    "import sys\n",
    "# Import installed packages.\n",
    "import matplotlib.pyplot as plt\n",
    "import pandas as pd\n",
    "# Import local packages.\n",
    "sys.path.insert(\n",
    "    0,\n",
    "    os.path.join(os.path.curdir, 'stharrold.github.io/content/static/dsdemos'))\n",
    "# TEST: Comment out autoreload after testing.\n",
    "%reload_ext autoreload\n",
    "%autoreload 2\n",
    "import dsdemos as dsd\n",
    "# IPython magic.\n",
    "%matplotlib inline"
   ]
  },
  {
   "cell_type": "markdown",
   "metadata": {
    "collapsed": false
   },
   "source": [
    "## Globals"
   ]
  },
  {
   "cell_type": "code",
   "execution_count": 4,
   "metadata": {
    "collapsed": false
   },
   "outputs": [],
   "source": [
    "path_static = os.path.join(os.path.expanduser(r'~'), r'stharrold.github.io/content/static')\n",
    "basename = r'20151230-predict-household-income-from-census'\n",
    "path_disk = os.path.abspath(r'/mnt/disk-20151227t211000z/')\n",
    "path_acs = os.path.join(path_disk, r'www2-census-gov/programs-surveys/acs/')\n",
    "path_csv = os.path.join(path_acs, r'data/pums/2013/5-Year/ss13hdc.csv') # 'hdc' = 'housing DC'\n",
    "path_ddict = os.path.join(path_acs, r'tech_docs/pums/data_dict/PUMSDataDict13.txt')"
   ]
  },
  {
   "cell_type": "markdown",
   "metadata": {},
   "source": [
    "## Extract-transform-load\n",
    "\n",
    "**TODO:**\n",
    "* Just use pandas. Acknowledge dask."
   ]
  },
  {
   "cell_type": "code",
   "execution_count": 5,
   "metadata": {
    "collapsed": false
   },
   "outputs": [
    {
     "name": "stdout",
     "output_type": "stream",
     "text": [
      "/mnt/disk-20151227t211000z/www2-census-gov/programs-surveys/acs/data/pums/2013/5-Year/ss13hdc.csv:\n",
      "size (MB) = 13.5\n",
      "num lines = 17501\n",
      "df RAM usage (MB) = 28.7\n",
      "CPU times: user 412 ms, sys: 56 ms, total: 468 ms\n",
      "Wall time: 466 ms\n"
     ]
    }
   ],
   "source": [
    "%%time\n",
    "with open(path_csv) as fobj:\n",
    "    nlines = sum(1 for _ in fobj)\n",
    "print(\"{path}:\".format(path=path_csv))\n",
    "print(\"size (MB) = {size:.1f}\".format(size=os.path.getsize(path_csv)/1e6))\n",
    "print(\"num lines = {nlines}\".format(nlines=nlines))\n",
    "df = pd.read_csv(path_csv)\n",
    "print(\"df RAM usage (MB) = {mem:.1f}\".format(mem=df.memory_usage().sum()/1e6))"
   ]
  },
  {
   "cell_type": "code",
   "execution_count": 6,
   "metadata": {
    "collapsed": false
   },
   "outputs": [
    {
     "data": {
      "text/html": [
       "<div>\n",
       "<table border=\"1\" class=\"dataframe\">\n",
       "  <thead>\n",
       "    <tr style=\"text-align: right;\">\n",
       "      <th></th>\n",
       "      <th>insp</th>\n",
       "      <th>RT</th>\n",
       "      <th>SERIALNO</th>\n",
       "      <th>DIVISION</th>\n",
       "      <th>PUMA00</th>\n",
       "      <th>PUMA10</th>\n",
       "      <th>REGION</th>\n",
       "      <th>ST</th>\n",
       "      <th>ADJHSG</th>\n",
       "      <th>ADJINC</th>\n",
       "      <th>...</th>\n",
       "      <th>WGTP71</th>\n",
       "      <th>WGTP72</th>\n",
       "      <th>WGTP73</th>\n",
       "      <th>WGTP74</th>\n",
       "      <th>WGTP75</th>\n",
       "      <th>WGTP76</th>\n",
       "      <th>WGTP77</th>\n",
       "      <th>WGTP78</th>\n",
       "      <th>WGTP79</th>\n",
       "      <th>WGTP80</th>\n",
       "    </tr>\n",
       "  </thead>\n",
       "  <tbody>\n",
       "    <tr>\n",
       "      <th>count</th>\n",
       "      <td>6561.000000</td>\n",
       "      <td>17500</td>\n",
       "      <td>1.750000e+04</td>\n",
       "      <td>17500</td>\n",
       "      <td>17500.000000</td>\n",
       "      <td>17500.000000</td>\n",
       "      <td>17500</td>\n",
       "      <td>17500</td>\n",
       "      <td>17500.000000</td>\n",
       "      <td>17500.000000</td>\n",
       "      <td>...</td>\n",
       "      <td>17500.000000</td>\n",
       "      <td>17500.000000</td>\n",
       "      <td>17500.000000</td>\n",
       "      <td>17500.000000</td>\n",
       "      <td>17500.000000</td>\n",
       "      <td>17500.000000</td>\n",
       "      <td>17500.000000</td>\n",
       "      <td>17500.000000</td>\n",
       "      <td>17500.000000</td>\n",
       "      <td>17500.000000</td>\n",
       "    </tr>\n",
       "    <tr>\n",
       "      <th>unique</th>\n",
       "      <td>NaN</td>\n",
       "      <td>1</td>\n",
       "      <td>NaN</td>\n",
       "      <td>NaN</td>\n",
       "      <td>NaN</td>\n",
       "      <td>NaN</td>\n",
       "      <td>NaN</td>\n",
       "      <td>NaN</td>\n",
       "      <td>NaN</td>\n",
       "      <td>NaN</td>\n",
       "      <td>...</td>\n",
       "      <td>NaN</td>\n",
       "      <td>NaN</td>\n",
       "      <td>NaN</td>\n",
       "      <td>NaN</td>\n",
       "      <td>NaN</td>\n",
       "      <td>NaN</td>\n",
       "      <td>NaN</td>\n",
       "      <td>NaN</td>\n",
       "      <td>NaN</td>\n",
       "      <td>NaN</td>\n",
       "    </tr>\n",
       "    <tr>\n",
       "      <th>top</th>\n",
       "      <td>NaN</td>\n",
       "      <td>H</td>\n",
       "      <td>NaN</td>\n",
       "      <td>NaN</td>\n",
       "      <td>NaN</td>\n",
       "      <td>NaN</td>\n",
       "      <td>NaN</td>\n",
       "      <td>NaN</td>\n",
       "      <td>NaN</td>\n",
       "      <td>NaN</td>\n",
       "      <td>...</td>\n",
       "      <td>NaN</td>\n",
       "      <td>NaN</td>\n",
       "      <td>NaN</td>\n",
       "      <td>NaN</td>\n",
       "      <td>NaN</td>\n",
       "      <td>NaN</td>\n",
       "      <td>NaN</td>\n",
       "      <td>NaN</td>\n",
       "      <td>NaN</td>\n",
       "      <td>NaN</td>\n",
       "    </tr>\n",
       "    <tr>\n",
       "      <th>freq</th>\n",
       "      <td>NaN</td>\n",
       "      <td>17500</td>\n",
       "      <td>NaN</td>\n",
       "      <td>NaN</td>\n",
       "      <td>NaN</td>\n",
       "      <td>NaN</td>\n",
       "      <td>NaN</td>\n",
       "      <td>NaN</td>\n",
       "      <td>NaN</td>\n",
       "      <td>NaN</td>\n",
       "      <td>...</td>\n",
       "      <td>NaN</td>\n",
       "      <td>NaN</td>\n",
       "      <td>NaN</td>\n",
       "      <td>NaN</td>\n",
       "      <td>NaN</td>\n",
       "      <td>NaN</td>\n",
       "      <td>NaN</td>\n",
       "      <td>NaN</td>\n",
       "      <td>NaN</td>\n",
       "      <td>NaN</td>\n",
       "    </tr>\n",
       "    <tr>\n",
       "      <th>mean</th>\n",
       "      <td>999.282731</td>\n",
       "      <td>NaN</td>\n",
       "      <td>2.011068e+12</td>\n",
       "      <td>5</td>\n",
       "      <td>56.427371</td>\n",
       "      <td>37.764171</td>\n",
       "      <td>3</td>\n",
       "      <td>11</td>\n",
       "      <td>1039364.231657</td>\n",
       "      <td>1048478.770229</td>\n",
       "      <td>...</td>\n",
       "      <td>17.050857</td>\n",
       "      <td>17.043486</td>\n",
       "      <td>17.050000</td>\n",
       "      <td>17.049029</td>\n",
       "      <td>17.048000</td>\n",
       "      <td>17.051543</td>\n",
       "      <td>17.053200</td>\n",
       "      <td>17.047029</td>\n",
       "      <td>17.046971</td>\n",
       "      <td>17.051486</td>\n",
       "    </tr>\n",
       "    <tr>\n",
       "      <th>std</th>\n",
       "      <td>1085.174484</td>\n",
       "      <td>NaN</td>\n",
       "      <td>1.401911e+09</td>\n",
       "      <td>0</td>\n",
       "      <td>55.291036</td>\n",
       "      <td>55.358495</td>\n",
       "      <td>0</td>\n",
       "      <td>0</td>\n",
       "      <td>31877.254257</td>\n",
       "      <td>29598.269890</td>\n",
       "      <td>...</td>\n",
       "      <td>17.593886</td>\n",
       "      <td>17.740566</td>\n",
       "      <td>17.534604</td>\n",
       "      <td>17.555515</td>\n",
       "      <td>17.558942</td>\n",
       "      <td>17.574232</td>\n",
       "      <td>17.623017</td>\n",
       "      <td>17.802284</td>\n",
       "      <td>17.267472</td>\n",
       "      <td>17.710924</td>\n",
       "    </tr>\n",
       "    <tr>\n",
       "      <th>min</th>\n",
       "      <td>0.000000</td>\n",
       "      <td>NaN</td>\n",
       "      <td>2.009000e+12</td>\n",
       "      <td>5</td>\n",
       "      <td>-9.000000</td>\n",
       "      <td>-9.000000</td>\n",
       "      <td>3</td>\n",
       "      <td>11</td>\n",
       "      <td>1000000.000000</td>\n",
       "      <td>1007549.000000</td>\n",
       "      <td>...</td>\n",
       "      <td>0.000000</td>\n",
       "      <td>0.000000</td>\n",
       "      <td>0.000000</td>\n",
       "      <td>0.000000</td>\n",
       "      <td>0.000000</td>\n",
       "      <td>0.000000</td>\n",
       "      <td>0.000000</td>\n",
       "      <td>0.000000</td>\n",
       "      <td>0.000000</td>\n",
       "      <td>0.000000</td>\n",
       "    </tr>\n",
       "    <tr>\n",
       "      <th>15.9%</th>\n",
       "      <td>200.000000</td>\n",
       "      <td>NaN</td>\n",
       "      <td>2.009001e+12</td>\n",
       "      <td>5</td>\n",
       "      <td>-9.000000</td>\n",
       "      <td>-9.000000</td>\n",
       "      <td>3</td>\n",
       "      <td>11</td>\n",
       "      <td>1000000.000000</td>\n",
       "      <td>1007549.000000</td>\n",
       "      <td>...</td>\n",
       "      <td>2.000000</td>\n",
       "      <td>2.000000</td>\n",
       "      <td>2.000000</td>\n",
       "      <td>2.000000</td>\n",
       "      <td>2.000000</td>\n",
       "      <td>2.000000</td>\n",
       "      <td>2.000000</td>\n",
       "      <td>2.000000</td>\n",
       "      <td>2.000000</td>\n",
       "      <td>2.000000</td>\n",
       "    </tr>\n",
       "    <tr>\n",
       "      <th>50%</th>\n",
       "      <td>790.000000</td>\n",
       "      <td>NaN</td>\n",
       "      <td>2.011001e+12</td>\n",
       "      <td>5</td>\n",
       "      <td>101.000000</td>\n",
       "      <td>-9.000000</td>\n",
       "      <td>3</td>\n",
       "      <td>11</td>\n",
       "      <td>1035725.000000</td>\n",
       "      <td>1054614.000000</td>\n",
       "      <td>...</td>\n",
       "      <td>13.000000</td>\n",
       "      <td>13.000000</td>\n",
       "      <td>13.000000</td>\n",
       "      <td>13.000000</td>\n",
       "      <td>13.000000</td>\n",
       "      <td>13.000000</td>\n",
       "      <td>13.000000</td>\n",
       "      <td>13.000000</td>\n",
       "      <td>13.000000</td>\n",
       "      <td>13.000000</td>\n",
       "    </tr>\n",
       "    <tr>\n",
       "      <th>84.1%</th>\n",
       "      <td>1500.000000</td>\n",
       "      <td>NaN</td>\n",
       "      <td>2.013000e+12</td>\n",
       "      <td>5</td>\n",
       "      <td>104.000000</td>\n",
       "      <td>104.000000</td>\n",
       "      <td>3</td>\n",
       "      <td>11</td>\n",
       "      <td>1086032.000000</td>\n",
       "      <td>1085467.000000</td>\n",
       "      <td>...</td>\n",
       "      <td>30.000000</td>\n",
       "      <td>30.000000</td>\n",
       "      <td>30.000000</td>\n",
       "      <td>31.000000</td>\n",
       "      <td>30.000000</td>\n",
       "      <td>30.000000</td>\n",
       "      <td>30.000000</td>\n",
       "      <td>30.000000</td>\n",
       "      <td>31.000000</td>\n",
       "      <td>30.000000</td>\n",
       "    </tr>\n",
       "    <tr>\n",
       "      <th>max</th>\n",
       "      <td>8600.000000</td>\n",
       "      <td>NaN</td>\n",
       "      <td>2.013001e+12</td>\n",
       "      <td>5</td>\n",
       "      <td>105.000000</td>\n",
       "      <td>105.000000</td>\n",
       "      <td>3</td>\n",
       "      <td>11</td>\n",
       "      <td>1086032.000000</td>\n",
       "      <td>1085467.000000</td>\n",
       "      <td>...</td>\n",
       "      <td>200.000000</td>\n",
       "      <td>206.000000</td>\n",
       "      <td>232.000000</td>\n",
       "      <td>190.000000</td>\n",
       "      <td>244.000000</td>\n",
       "      <td>214.000000</td>\n",
       "      <td>216.000000</td>\n",
       "      <td>246.000000</td>\n",
       "      <td>212.000000</td>\n",
       "      <td>210.000000</td>\n",
       "    </tr>\n",
       "  </tbody>\n",
       "</table>\n",
       "<p>11 rows × 205 columns</p>\n",
       "</div>"
      ],
      "text/plain": [
       "               insp     RT      SERIALNO  DIVISION        PUMA00  \\\n",
       "count   6561.000000  17500  1.750000e+04     17500  17500.000000   \n",
       "unique          NaN      1           NaN       NaN           NaN   \n",
       "top             NaN      H           NaN       NaN           NaN   \n",
       "freq            NaN  17500           NaN       NaN           NaN   \n",
       "mean     999.282731    NaN  2.011068e+12         5     56.427371   \n",
       "std     1085.174484    NaN  1.401911e+09         0     55.291036   \n",
       "min        0.000000    NaN  2.009000e+12         5     -9.000000   \n",
       "15.9%    200.000000    NaN  2.009001e+12         5     -9.000000   \n",
       "50%      790.000000    NaN  2.011001e+12         5    101.000000   \n",
       "84.1%   1500.000000    NaN  2.013000e+12         5    104.000000   \n",
       "max     8600.000000    NaN  2.013001e+12         5    105.000000   \n",
       "\n",
       "              PUMA10  REGION     ST          ADJHSG          ADJINC  \\\n",
       "count   17500.000000   17500  17500    17500.000000    17500.000000   \n",
       "unique           NaN     NaN    NaN             NaN             NaN   \n",
       "top              NaN     NaN    NaN             NaN             NaN   \n",
       "freq             NaN     NaN    NaN             NaN             NaN   \n",
       "mean       37.764171       3     11  1039364.231657  1048478.770229   \n",
       "std        55.358495       0      0    31877.254257    29598.269890   \n",
       "min        -9.000000       3     11  1000000.000000  1007549.000000   \n",
       "15.9%      -9.000000       3     11  1000000.000000  1007549.000000   \n",
       "50%        -9.000000       3     11  1035725.000000  1054614.000000   \n",
       "84.1%     104.000000       3     11  1086032.000000  1085467.000000   \n",
       "max       105.000000       3     11  1086032.000000  1085467.000000   \n",
       "\n",
       "            ...             WGTP71        WGTP72        WGTP73        WGTP74  \\\n",
       "count       ...       17500.000000  17500.000000  17500.000000  17500.000000   \n",
       "unique      ...                NaN           NaN           NaN           NaN   \n",
       "top         ...                NaN           NaN           NaN           NaN   \n",
       "freq        ...                NaN           NaN           NaN           NaN   \n",
       "mean        ...          17.050857     17.043486     17.050000     17.049029   \n",
       "std         ...          17.593886     17.740566     17.534604     17.555515   \n",
       "min         ...           0.000000      0.000000      0.000000      0.000000   \n",
       "15.9%       ...           2.000000      2.000000      2.000000      2.000000   \n",
       "50%         ...          13.000000     13.000000     13.000000     13.000000   \n",
       "84.1%       ...          30.000000     30.000000     30.000000     31.000000   \n",
       "max         ...         200.000000    206.000000    232.000000    190.000000   \n",
       "\n",
       "              WGTP75        WGTP76        WGTP77        WGTP78        WGTP79  \\\n",
       "count   17500.000000  17500.000000  17500.000000  17500.000000  17500.000000   \n",
       "unique           NaN           NaN           NaN           NaN           NaN   \n",
       "top              NaN           NaN           NaN           NaN           NaN   \n",
       "freq             NaN           NaN           NaN           NaN           NaN   \n",
       "mean       17.048000     17.051543     17.053200     17.047029     17.046971   \n",
       "std        17.558942     17.574232     17.623017     17.802284     17.267472   \n",
       "min         0.000000      0.000000      0.000000      0.000000      0.000000   \n",
       "15.9%       2.000000      2.000000      2.000000      2.000000      2.000000   \n",
       "50%        13.000000     13.000000     13.000000     13.000000     13.000000   \n",
       "84.1%      30.000000     30.000000     30.000000     30.000000     31.000000   \n",
       "max       244.000000    214.000000    216.000000    246.000000    212.000000   \n",
       "\n",
       "              WGTP80  \n",
       "count   17500.000000  \n",
       "unique           NaN  \n",
       "top              NaN  \n",
       "freq             NaN  \n",
       "mean       17.051486  \n",
       "std        17.710924  \n",
       "min         0.000000  \n",
       "15.9%       2.000000  \n",
       "50%        13.000000  \n",
       "84.1%      30.000000  \n",
       "max       210.000000  \n",
       "\n",
       "[11 rows x 205 columns]"
      ]
     },
     "execution_count": 6,
     "metadata": {},
     "output_type": "execute_result"
    }
   ],
   "source": [
    "percentiles = [0.1587, 0.5000, 0.8413] # +1 std. dev., mean/median, -1 std. dev. for normal dist.\n",
    "df.describe(percentiles=percentiles, include='all')"
   ]
  },
  {
   "cell_type": "code",
   "execution_count": 52,
   "metadata": {
    "collapsed": false
   },
   "outputs": [
    {
     "name": "stdout",
     "output_type": "stream",
     "text": [
      "Automatic pdb calling has been turned OFF\n"
     ]
    }
   ],
   "source": [
    "%pdb off"
   ]
  },
  {
   "cell_type": "code",
   "execution_count": 77,
   "metadata": {
    "collapsed": false,
    "scrolled": true
   },
   "outputs": [],
   "source": [
    "test = dsd.census.parse_pumsdatadict13(path=path_ddict)"
   ]
  },
  {
   "cell_type": "code",
   "execution_count": 78,
   "metadata": {
    "collapsed": false,
    "scrolled": true
   },
   "outputs": [
    {
     "data": {
      "text/plain": [
       "odict_keys(['name', 'date', 'record_types', 'notes'])"
      ]
     },
     "execution_count": 78,
     "metadata": {},
     "output_type": "execute_result"
    }
   ],
   "source": [
    "test.keys()"
   ]
  },
  {
   "cell_type": "code",
   "execution_count": 79,
   "metadata": {
    "collapsed": false
   },
   "outputs": [
    {
     "data": {
      "text/plain": [
       "'2013 ACS PUMS DATA DICTIONARY'"
      ]
     },
     "execution_count": 79,
     "metadata": {},
     "output_type": "execute_result"
    }
   ],
   "source": [
    "test['name']"
   ]
  },
  {
   "cell_type": "code",
   "execution_count": 80,
   "metadata": {
    "collapsed": false
   },
   "outputs": [
    {
     "data": {
      "text/plain": [
       "'August 7, 2015'"
      ]
     },
     "execution_count": 80,
     "metadata": {},
     "output_type": "execute_result"
    }
   ],
   "source": [
    "test['date']"
   ]
  },
  {
   "cell_type": "code",
   "execution_count": 81,
   "metadata": {
    "collapsed": false
   },
   "outputs": [
    {
     "data": {
      "text/plain": [
       "odict_keys(['HOUSING RECORD', 'PERSON RECORD'])"
      ]
     },
     "execution_count": 81,
     "metadata": {},
     "output_type": "execute_result"
    }
   ],
   "source": [
    "test['record_types'].keys()"
   ]
  },
  {
   "cell_type": "code",
   "execution_count": 100,
   "metadata": {
    "collapsed": false
   },
   "outputs": [
    {
     "data": {
      "text/plain": [
       "OrderedDict([('length', '1'),\n",
       "             ('description', 'Record Type'),\n",
       "             ('var_codes',\n",
       "              OrderedDict([('H', 'Housing Record or Group Quarters Unit')]))])"
      ]
     },
     "execution_count": 100,
     "metadata": {},
     "output_type": "execute_result"
    }
   ],
   "source": [
    "test['record_types']['HOUSING RECORD']['RT']"
   ]
  },
  {
   "cell_type": "code",
   "execution_count": 83,
   "metadata": {
    "collapsed": false
   },
   "outputs": [
    {
     "data": {
      "text/plain": [
       "OrderedDict([('length', '5'),\n",
       "             ('description',\n",
       "              'Public use microdata area code (PUMA) based on 2010 Census definition'),\n",
       "             ('var_codes',\n",
       "              OrderedDict([('00100..70301',\n",
       "                            'Public use microdata area codes')])),\n",
       "             ('notes',\n",
       "              ['Note: Public use microdata areas (PUMAs) designate areas of 100,000 or more population.  Use with ST for unique code.'])])"
      ]
     },
     "execution_count": 83,
     "metadata": {},
     "output_type": "execute_result"
    }
   ],
   "source": [
    "test['record_types']['HOUSING RECORD']['PUMA']"
   ]
  },
  {
   "cell_type": "code",
   "execution_count": 84,
   "metadata": {
    "collapsed": false
   },
   "outputs": [
    {
     "data": {
      "text/plain": [
       "OrderedDict([('length', '7'),\n",
       "             ('description',\n",
       "              'Adjustment factor for housing dollar amounts (6 implied decimal places)'),\n",
       "             ('var_codes',\n",
       "              OrderedDict([('1000000', '2013 factor (1.000000)')])),\n",
       "             ('notes',\n",
       "              ['Note: The value of ADJHSG inflation-adjusts reported housing costs to 2013 dollars and applies to variables CONP, ELEP, FULP, GASP, GRNTP, INSP, MHP, MRGP, SMOCP, RNTP, SMP, and WATP in the housing record. ADJHSG does not apply to AGS and TAXP because they are categorical variables that should not be inflation-adjusted. ADJHSG does not apply to VALP.'])])"
      ]
     },
     "execution_count": 84,
     "metadata": {},
     "output_type": "execute_result"
    }
   ],
   "source": [
    "test['record_types']['HOUSING RECORD']['ADJHSG']"
   ]
  },
  {
   "cell_type": "code",
   "execution_count": 91,
   "metadata": {
    "collapsed": false
   },
   "outputs": [
    {
     "data": {
      "text/plain": [
       "OrderedDict([('length', '2'),\n",
       "             ('description',\n",
       "              'Number of person records following this housing record'),\n",
       "             ('var_codes',\n",
       "              OrderedDict([('00', 'Vacant unit'),\n",
       "                           ('01',\n",
       "                            'One person record (one person in household or any person in group quarters)'),\n",
       "                           ('02..20',\n",
       "                            'Number of person records (number of persons in household)')]))])"
      ]
     },
     "execution_count": 91,
     "metadata": {},
     "output_type": "execute_result"
    }
   ],
   "source": [
    "test['record_types']['HOUSING RECORD']['NP']"
   ]
  },
  {
   "cell_type": "code",
   "execution_count": 96,
   "metadata": {
    "collapsed": false,
    "scrolled": true
   },
   "outputs": [
    {
     "data": {
      "text/plain": [
       "OrderedDict([('length', '1'),\n",
       "             ('description', 'Hot and cold running water'),\n",
       "             ('var_codes',\n",
       "              OrderedDict([('b', 'N/A (GQ)'),\n",
       "                           ('1', 'Yes'),\n",
       "                           ('2', 'No'),\n",
       "                           ('9',\n",
       "                            'Case is from Puerto Rico, RWAT not applicable')]))])"
      ]
     },
     "execution_count": 96,
     "metadata": {},
     "output_type": "execute_result"
    }
   ],
   "source": [
    "test['record_types']['HOUSING RECORD']['RWAT']"
   ]
  },
  {
   "cell_type": "code",
   "execution_count": 97,
   "metadata": {
    "collapsed": false,
    "scrolled": true
   },
   "outputs": [
    {
     "data": {
      "text/plain": [
       "OrderedDict([('length', '5'),\n",
       "             ('description',\n",
       "              'Total payment on all second and junior mortgages and home equity loans (monthly amount)'),\n",
       "             ('var_codes',\n",
       "              OrderedDict([('bbbbb',\n",
       "                            'N/A (GQ/vacant/not owned or being bought/ /no second or junior mortgages or home equity loans)'),\n",
       "                           ('00001..99999',\n",
       "                            '$1 to $99999 (Rounded and top-coded)')])),\n",
       "             ('notes',\n",
       "              ['Note: Use ADJHSG to adjust SMP to constant dollars.'])])"
      ]
     },
     "execution_count": 97,
     "metadata": {},
     "output_type": "execute_result"
    }
   ],
   "source": [
    "test['record_types']['HOUSING RECORD']['SMP']"
   ]
  },
  {
   "cell_type": "code",
   "execution_count": 85,
   "metadata": {
    "collapsed": false
   },
   "outputs": [
    {
     "data": {
      "text/plain": [
       "OrderedDict([('length', '5'),\n",
       "             ('description', 'Housing Weight replicate 53'),\n",
       "             ('var_codes',\n",
       "              OrderedDict([('-9999..09999',\n",
       "                            'Integer weight of housing unit')]))])"
      ]
     },
     "execution_count": 85,
     "metadata": {},
     "output_type": "execute_result"
    }
   ],
   "source": [
    "test['record_types']['HOUSING RECORD']['WGTP53']"
   ]
  },
  {
   "cell_type": "code",
   "execution_count": 86,
   "metadata": {
    "collapsed": false
   },
   "outputs": [
    {
     "data": {
      "text/plain": [
       "OrderedDict([('length', '5'),\n",
       "             ('description', 'Housing Weight replicate 54'),\n",
       "             ('var_codes',\n",
       "              OrderedDict([('-9999..09999',\n",
       "                            'Integer weight of housing unit')]))])"
      ]
     },
     "execution_count": 86,
     "metadata": {},
     "output_type": "execute_result"
    }
   ],
   "source": [
    "test['record_types']['HOUSING RECORD']['WGTP54']"
   ]
  },
  {
   "cell_type": "code",
   "execution_count": 101,
   "metadata": {
    "collapsed": false
   },
   "outputs": [
    {
     "data": {
      "text/plain": [
       "OrderedDict([('length', '1'),\n",
       "             ('description', 'Record Type'),\n",
       "             ('var_codes', OrderedDict([('P', 'Person Record')]))])"
      ]
     },
     "execution_count": 101,
     "metadata": {},
     "output_type": "execute_result"
    }
   ],
   "source": [
    "test['record_types']['PERSON RECORD']['RT']"
   ]
  },
  {
   "cell_type": "code",
   "execution_count": 102,
   "metadata": {
    "collapsed": false
   },
   "outputs": [
    {
     "data": {
      "text/plain": [
       "OrderedDict([('length', '5'),\n",
       "             ('description',\n",
       "              'Public use microdata area code (PUMA) based on 2010 Census definition'),\n",
       "             ('var_codes',\n",
       "              OrderedDict([('00100..70301',\n",
       "                            'Public use microdata area codes')])),\n",
       "             ('notes',\n",
       "              ['Note: Public use microdata areas (PUMAs) designate areas of 100,000 or more population.  Use with ST for unique code.'])])"
      ]
     },
     "execution_count": 102,
     "metadata": {},
     "output_type": "execute_result"
    }
   ],
   "source": [
    "test['record_types']['PERSON RECORD']['PUMA']"
   ]
  },
  {
   "cell_type": "code",
   "execution_count": 93,
   "metadata": {
    "collapsed": false
   },
   "outputs": [
    {
     "data": {
      "text/plain": [
       "OrderedDict([('length', '1'),\n",
       "             ('description', 'Hearing difficulty'),\n",
       "             ('var_codes', OrderedDict([('1', 'Yes'), ('2', 'No')]))])"
      ]
     },
     "execution_count": 93,
     "metadata": {},
     "output_type": "execute_result"
    }
   ],
   "source": [
    "test['record_types']['PERSON RECORD']['DEAR']"
   ]
  },
  {
   "cell_type": "code",
   "execution_count": 94,
   "metadata": {
    "collapsed": false,
    "scrolled": true
   },
   "outputs": [
    {
     "data": {
      "text/plain": [
       "OrderedDict([('length', '4'),\n",
       "             ('description', 'Year last married'),\n",
       "             ('var_codes',\n",
       "              OrderedDict([('bbbb',\n",
       "                            'N/A (age less than 15 years; never married)'),\n",
       "                           ('1932', '1932 or earlier (Bottom-coded)'),\n",
       "                           ('1933', '1933'),\n",
       "                           ('1934', '1934'),\n",
       "                           ('1935', '1935'),\n",
       "                           ('1936', '1936'),\n",
       "                           ('1937', '1937'),\n",
       "                           ('1938', '1938'),\n",
       "                           ('1939', '1939'),\n",
       "                           ('1940', '1940'),\n",
       "                           ('1941', '1941'),\n",
       "                           ('1942', '1942'),\n",
       "                           ('1943', '1943'),\n",
       "                           ('1944', '1944'),\n",
       "                           ('1945', '1945'),\n",
       "                           ('1946', '1946'),\n",
       "                           ('1947', '1947'),\n",
       "                           ('1948', '1948'),\n",
       "                           ('1949', '1949'),\n",
       "                           ('1950', '1950'),\n",
       "                           ('1951', '1951'),\n",
       "                           ('1952', '1952'),\n",
       "                           ('1953', '1953'),\n",
       "                           ('1954', '1954'),\n",
       "                           ('1955', '1955'),\n",
       "                           ('1956', '1956'),\n",
       "                           ('1957', '1957'),\n",
       "                           ('1958', '1958'),\n",
       "                           ('1959', '1959'),\n",
       "                           ('1960', '1960'),\n",
       "                           ('1961', '1961'),\n",
       "                           ('1962', '1962'),\n",
       "                           ('1963', '1963'),\n",
       "                           ('1964', '1964'),\n",
       "                           ('1965', '1965'),\n",
       "                           ('1966', '1966'),\n",
       "                           ('1967', '1967'),\n",
       "                           ('1968', '1968'),\n",
       "                           ('1969', '1969'),\n",
       "                           ('1970', '1970'),\n",
       "                           ('1971', '1971'),\n",
       "                           ('1972', '1972'),\n",
       "                           ('1973', '1973'),\n",
       "                           ('1974', '1974'),\n",
       "                           ('1975', '1975'),\n",
       "                           ('1976', '1976'),\n",
       "                           ('1977', '1977'),\n",
       "                           ('1978', '1978'),\n",
       "                           ('1979', '1979'),\n",
       "                           ('1980', '1980'),\n",
       "                           ('1981', '1981'),\n",
       "                           ('1982', '1982'),\n",
       "                           ('1983', '1983'),\n",
       "                           ('1984', '1984'),\n",
       "                           ('1985', '1985'),\n",
       "                           ('1986', '1986'),\n",
       "                           ('1987', '1987'),\n",
       "                           ('1988', '1988'),\n",
       "                           ('1989', '1989'),\n",
       "                           ('1990', '1990'),\n",
       "                           ('1991', '1991'),\n",
       "                           ('1992', '1992'),\n",
       "                           ('1993', '1993'),\n",
       "                           ('1994', '1994'),\n",
       "                           ('1995', '1995'),\n",
       "                           ('1996', '1996'),\n",
       "                           ('1997', '1997'),\n",
       "                           ('1998', '1998'),\n",
       "                           ('1999', '1999'),\n",
       "                           ('2000', '2000'),\n",
       "                           ('2001', '2001'),\n",
       "                           ('2002', '2002'),\n",
       "                           ('2003', '2003'),\n",
       "                           ('2004', '2004'),\n",
       "                           ('2005', '2005'),\n",
       "                           ('2006', '2006'),\n",
       "                           ('2007', '2007'),\n",
       "                           ('2008', '2008'),\n",
       "                           ('2009', '2009'),\n",
       "                           ('2010', '2010'),\n",
       "                           ('2012', '2012'),\n",
       "                           ('2013', '2013')]))])"
      ]
     },
     "execution_count": 94,
     "metadata": {},
     "output_type": "execute_result"
    }
   ],
   "source": [
    "test['record_types']['PERSON RECORD']['MARHYP']"
   ]
  },
  {
   "cell_type": "code",
   "execution_count": 88,
   "metadata": {
    "collapsed": false
   },
   "outputs": [
    {
     "data": {
      "text/plain": [
       "OrderedDict([('length', '1'),\n",
       "             ('notes', ['(UNEDITED - See \"Employment Status Recode\" (ESR))']),\n",
       "             ('description', 'Temporary absence from work'),\n",
       "             ('var_codes',\n",
       "              OrderedDict([('b',\n",
       "                            'N/A (less than 16 years old/at work/on layoff)'),\n",
       "                           ('1', 'Yes'),\n",
       "                           ('2', 'No'),\n",
       "                           ('3', 'Did not report')]))])"
      ]
     },
     "execution_count": 88,
     "metadata": {},
     "output_type": "execute_result"
    }
   ],
   "source": [
    "test['record_types']['PERSON RECORD']['NWAB']"
   ]
  },
  {
   "cell_type": "code",
   "execution_count": 87,
   "metadata": {
    "collapsed": false
   },
   "outputs": [
    {
     "data": {
      "text/plain": [
       "OrderedDict([('length', '4'),\n",
       "             ('description',\n",
       "              'Industry recode for 2013 and later based on 2012 IND codes'),\n",
       "             ('var_codes',\n",
       "              OrderedDict([('bbbb',\n",
       "                            'N/A (less than 16 years old/NILF who last worked more than 5 years ago or never worked)'),\n",
       "                           ('0170', 'AGR-CROP PRODUCTION'),\n",
       "                           ('0180', 'AGR-ANIMAL PRODUCTION AND AQUACULTURE'),\n",
       "                           ('0190', 'AGR-FORESTRY EXCEPT LOGGING'),\n",
       "                           ('0270', 'AGR-LOGGING'),\n",
       "                           ('0280', 'AGR-FISHING, HUNTING AND TRAPPING'),\n",
       "                           ('0290',\n",
       "                            'AGR-SUPPORT ACTIVITIES FOR AGRICULTURE AND FORESTRY'),\n",
       "                           ('0370', 'EXT-OIL AND GAS EXTRACTION'),\n",
       "                           ('0380', 'EXT-COAL MINING'),\n",
       "                           ('0390', 'EXT-METAL ORE MINING'),\n",
       "                           ('0470',\n",
       "                            'EXT-NONMETALLIC MINERAL MINING AND QUARRYING'),\n",
       "                           ('0490', 'EXT-SUPPORT ACTIVITIES FOR MINING'),\n",
       "                           ('0570',\n",
       "                            'UTL-ELECTRIC POWER GENERATION, TRANSMISSION AND DISTRIBUTION'),\n",
       "                           ('0580', 'UTL-NATURAL GAS DISTRIBUTION'),\n",
       "                           ('0590',\n",
       "                            'UTL-ELECTRIC AND GAS, AND OTHER COMBINATIONS'),\n",
       "                           ('0670',\n",
       "                            'UTL-WATER, STEAM, AIR CONDITIONING, AND IRRIGATION SYSTEMS'),\n",
       "                           ('0680', 'UTL-SEWAGE TREATMENT FACILITIES'),\n",
       "                           ('0690', 'UTL-NOT SPECIFIED UTILITIES'),\n",
       "                           ('0770',\n",
       "                            'CON-CONSTRUCTION, INCL CLEANING DURING AND IMM AFTER'),\n",
       "                           ('1070',\n",
       "                            'MFG-ANIMAL FOOD, GRAIN AND OILSEED MILLING'),\n",
       "                           ('1080', 'MFG-SUGAR AND CONFECTIONERY PRODUCTS'),\n",
       "                           ('1090',\n",
       "                            'MFG-FRUIT AND VEGETABLE PRESERVING AND SPECIALTY FOODS'),\n",
       "                           ('1170', 'MFG-DAIRY PRODUCTS'),\n",
       "                           ('1180', 'MFG-ANIMAL SLAUGHTERING AND PROCESSING'),\n",
       "                           ('1190', 'MFG-RETAIL BAKERIES'),\n",
       "                           ('1270',\n",
       "                            'MFG-BAKERIES AND TORTILLA, EXCEPT RETAIL BAKERIES'),\n",
       "                           ('1280',\n",
       "                            'MFG-SEAFOOD AND OTHER MISCELLANEOUS FOODS, N.E.C.'),\n",
       "                           ('1290', 'MFG-NOT SPECIFIED FOOD INDUSTRIES'),\n",
       "                           ('1370', 'MFG-BEVERAGE'),\n",
       "                           ('1390', 'MFG-TOBACCO'),\n",
       "                           ('1470', 'MFG-FIBER, YARN, AND THREAD MILLS'),\n",
       "                           ('1480', 'MFG-FABRIC MILLS, EXCEPT KNITTING MILLS'),\n",
       "                           ('1490',\n",
       "                            'MFG-TEXTILE AND FABRIC FINISHING AND FABRIC COATING MILLS'),\n",
       "                           ('1570', 'MFG-CARPET AND RUG MILLS'),\n",
       "                           ('1590',\n",
       "                            'MFG-TEXTILE PRODUCT MILLS, EXCEPT CARPET AND RUG'),\n",
       "                           ('1670',\n",
       "                            'MFG-KNITTING FABRIC MILLS, AND APPAREL KNITTING MILLS'),\n",
       "                           ('1680', 'MFG-CUT AND SEW APPAREL'),\n",
       "                           ('1690',\n",
       "                            'MFG-APPAREL ACCESSORIES AND OTHER APPAREL'),\n",
       "                           ('1770', 'MFG-FOOTWEAR'),\n",
       "                           ('1790',\n",
       "                            'MFG-LEATHER TANNING AND FINISHING AND OTHER ALLIED PRODUCTS MANUFACTURING'),\n",
       "                           ('1870', 'MFG-PULP, PAPER, AND PAPERBOARD MILLS'),\n",
       "                           ('1880', 'MFG-PAPERBOARD CONTAINER'),\n",
       "                           ('1890',\n",
       "                            'MFG-MISCELLANEOUS PAPER AND PULP PRODUCTS'),\n",
       "                           ('1990',\n",
       "                            'MFG-PRINTING AND RELATED SUPPORT ACTIVITIES'),\n",
       "                           ('2070', 'MFG-PETROLEUM REFINING'),\n",
       "                           ('2090',\n",
       "                            'MFG-MISCELLANEOUS PETROLEUM AND COAL PRODUCTS'),\n",
       "                           ('2170',\n",
       "                            'MFG-RESIN, SYNTHETIC RUBBER, AND FIBERS AND FILAMENTS'),\n",
       "                           ('2180', 'MFG-AGRICULTURAL CHEMICALS'),\n",
       "                           ('2190', 'MFG-PHARMACEUTICALS AND MEDICINES'),\n",
       "                           ('2270', 'MFG-PAINT, COATING, AND ADHESIVES'),\n",
       "                           ('2280',\n",
       "                            'MFG-SOAP, CLEANING COMPOUND, AND COSMETICS'),\n",
       "                           ('2290',\n",
       "                            'MFG-INDUSTRIAL AND MISCELLANEOUS CHEMICALS'),\n",
       "                           ('2370', 'MFG-PLASTICS PRODUCTS'),\n",
       "                           ('2380', 'MFG-TIRES'),\n",
       "                           ('2390', 'MFG-RUBBER PRODUCTS, EXCEPT TIRES'),\n",
       "                           ('2470',\n",
       "                            'MFG-POTTERY, CERAMICS, AND PLUMBING FIXTURE MANUFACTURING'),\n",
       "                           ('2480',\n",
       "                            'MFG-CLAY BUILDING MATERIAL AND REFRACTORIES'),\n",
       "                           ('2490', 'MFG-GLASS AND GLASS PRODUCTS'),\n",
       "                           ('2570',\n",
       "                            'MFG-CEMENT, CONCRETE, LIME, AND GYPSUM PRODUCTS'),\n",
       "                           ('2590',\n",
       "                            'MFG-MISCELLANEOUS NONMETALLIC MINERAL PRODUCTS'),\n",
       "                           ('2670',\n",
       "                            'MFG-IRON AND STEEL MILLS AND STEEL PRODUCTS'),\n",
       "                           ('2680', 'MFG-ALUMINUM PRODUCTION AND PROCESSING'),\n",
       "                           ('2690',\n",
       "                            'MFG-NONFERROUS METAL, EXCEPT ALUMINUM, PRODUCTION AND PROCESSING'),\n",
       "                           ('2770', 'MFG-FOUNDRIES'),\n",
       "                           ('2780', 'MFG-METAL FORGINGS AND STAMPINGS'),\n",
       "                           ('2790', 'MFG-CUTLERY AND HAND TOOLS'),\n",
       "                           ('2870',\n",
       "                            'MFG-STRUCTURAL METALS, AND BOILER, TANK, AND SHIPPING CONTAINERS'),\n",
       "                           ('2880',\n",
       "                            'MFG-MACHINE SHOPS; TURNED PRODUCTS; SCREWS, NUTS AND BOLTS'),\n",
       "                           ('2890',\n",
       "                            'MFG-COATING, ENGRAVING, HEAT TREATING AND ALLIED ACTIVITIES'),\n",
       "                           ('2970', 'MFG-ORDNANCE'),\n",
       "                           ('2980',\n",
       "                            'MFG-MISCELLANEOUS FABRICATED METAL PRODUCTS'),\n",
       "                           ('2990', 'MFG-NOT SPECIFIED METAL INDUSTRIES'),\n",
       "                           ('3070', 'MFG-AGRICULTURAL IMPLEMENTS'),\n",
       "                           ('3080',\n",
       "                            'MFG-CONSTRUCTION, AND MINING AND OIL AND GAS FIELD MACHINERY'),\n",
       "                           ('3095',\n",
       "                            'MFG-COMMERCIAL AND SERVICE INDUSTRY MACHINERY'),\n",
       "                           ('3170', 'MFG-METALWORKING MACHINERY'),\n",
       "                           ('3180',\n",
       "                            'MFG-ENGINE, TURBINE, AND POWER TRANSMISSION EQUIPMENT'),\n",
       "                           ('3190', 'MFG-MACHINERY, N.E.C. OR NOT SPECIFIED'),\n",
       "                           ('3365', 'MFG-COMPUTER AND PERIPHERAL EQUIPMENT'),\n",
       "                           ('3370',\n",
       "                            'MFG-COMMUNICATIONS, AND AUDIO AND VIDEO EQUIPMENT'),\n",
       "                           ('3380',\n",
       "                            'MFG-NAVIGATIONAL, MEASURING, ELECTROMEDICAL, AND CONTROL INSTRUMENTS'),\n",
       "                           ('3390',\n",
       "                            'MFG-ELECTRONIC COMPONENTS AND PRODUCTS, N.E.C.'),\n",
       "                           ('3470', 'MFG-HOUSEHOLD APPLIANCES'),\n",
       "                           ('3490',\n",
       "                            'MFG-ELECTRIC LIGHTING AND ELECTRICAL EQUIPMENT MANUFACTURING,AND OTHER ELECTRICAL COMPONENT MANUFACTURING, N.E.C.'),\n",
       "                           ('3570',\n",
       "                            'MFG-MOTOR VEHICLES AND MOTOR VEHICLE EQUIPMENT'),\n",
       "                           ('3580', 'MFG-AIRCRAFT AND PARTS'),\n",
       "                           ('3590', 'MFG-AEROSPACE PRODUCTS AND PARTS'),\n",
       "                           ('3670', 'MFG-RAILROAD ROLLING STOCK'),\n",
       "                           ('3680', 'MFG-SHIP AND BOAT BUILDING'),\n",
       "                           ('3690', 'MFG-OTHER TRANSPORTATION EQUIPMENT'),\n",
       "                           ('3770', 'MFG-SAWMILLS AND WOOD PRESERVATION'),\n",
       "                           ('3780',\n",
       "                            'MFG-VENEER, PLYWOOD, AND ENGINEERED WOOD PRODUCTS'),\n",
       "                           ('3790',\n",
       "                            'MFG-PREFABRICATED WOOD BUILDINGS AND MOBILE HOMES'),\n",
       "                           ('3875', 'MFG-MISCELLANEOUS WOOD PRODUCTS'),\n",
       "                           ('3895', 'MFG-FURNITURE AND RELATED PRODUCTS'),\n",
       "                           ('3960', 'MFG-MEDICAL EQUIPMENT AND SUPPLIES'),\n",
       "                           ('3970',\n",
       "                            'MFG-SPORTING AND ATHLETIC GOODS, AND DOLL, TOY, AND GAME MANUFACTURING'),\n",
       "                           ('3980', 'MFG-MISCELLANEOUS MANUFACTURING, N.E.C.'),\n",
       "                           ('3990',\n",
       "                            'MFG-NOT SPECIFIED MANUFACTURING INDUSTRIES'),\n",
       "                           ('4070',\n",
       "                            'WHL-MOTOR VEHICLE AND MOTOR VEHICLE PARTS AND SUPPLIES MERCHANT WHOLESALERS'),\n",
       "                           ('4080',\n",
       "                            'WHL-FURNITURE AND HOME FURNISHING MERCHANT WHOLESALERS'),\n",
       "                           ('4090',\n",
       "                            'WHL-LUMBER AND OTHER CONSTRUCTION MATERIALS MERCHANT WHOLESALERS'),\n",
       "                           ('4170',\n",
       "                            'WHL-PROFESSIONAL AND COMMERCIAL EQUIPMENT AND SUPPLIES MERCHANT WHOLESALERS'),\n",
       "                           ('4180',\n",
       "                            'WHL-METALS AND MINERALS, EXCEPT PETROLEUM, MERCHANT WHOLESALERS'),\n",
       "                           ('4195',\n",
       "                            'WHL-HOUSEHOLD APPLIANCES AND ELECTRICAL AND ELECTRONIC GOODS MERCHANT WHOLESALERS'),\n",
       "                           ('4265',\n",
       "                            'WHL-HARDWARE, AND PLUMBING AND HEATING EQUIPMENT, AND SUPPLIES MERCHANT WHOLESALERS'),\n",
       "                           ('4270',\n",
       "                            'WHL-MACHINERY, EQUIPMENT, AND SUPPLIES MERCHANT WHOLESALERS'),\n",
       "                           ('4280',\n",
       "                            'WHL-RECYCLABLE MATERIAL MERCHANT WHOLESALERS'),\n",
       "                           ('4290',\n",
       "                            'WHL-MISCELLANEOUS DURABLE GOODS MERCHANT WHOLESALERS'),\n",
       "                           ('4370',\n",
       "                            'WHL-PAPER AND PAPER PRODUCTS MERCHANT WHOLESALERS'),\n",
       "                           ('4380',\n",
       "                            'WHL-DRUGS, SUNDRIES, AND CHEMICAL AND ALLIED PRODUCTS MERCHANT WHOLESALERS'),\n",
       "                           ('4390',\n",
       "                            'WHL-APPAREL, PIECE GOODS, AND NOTIONS MERCHANT WHOLESALERS'),\n",
       "                           ('4470',\n",
       "                            'WHL-GROCERY AND RELATED PRODUCT MERCHANT WHOLESALERS'),\n",
       "                           ('4480',\n",
       "                            'WHL-FARM PRODUCT RAW MATERIAL MERCHANT WHOLESALERS'),\n",
       "                           ('4490',\n",
       "                            'WHL-PETROLEUM AND PETROLEUM PRODUCTS MERCHANT WHOLESALERS'),\n",
       "                           ('4560',\n",
       "                            'WHL-ALCOHOLIC BEVERAGES MERCHANT WHOLESALERS'),\n",
       "                           ('4570', 'WHL-FARM SUPPLIES MERCHANT WHOLESALERS'),\n",
       "                           ('4580',\n",
       "                            'WHL-MISCELLANEOUS NONDURABLE GOODS MERCHANT WHOLESALERS'),\n",
       "                           ('4585',\n",
       "                            'WHL-WHOLESALE ELECTRONIC MARKETS AND AGENTS AND BROKERS'),\n",
       "                           ('4590', 'WHL-NOT SPECIFIED WHOLESALE TRADE'),\n",
       "                           ('4670', 'RET-AUTOMOBILE DEALERS'),\n",
       "                           ('4680', 'RET-OTHER MOTOR VEHICLE DEALERS'),\n",
       "                           ('4690',\n",
       "                            'RET-AUTOMOTIVE PARTS, ACCESSORIES, AND TIRE STORES'),\n",
       "                           ('4770',\n",
       "                            'RET-FURNITURE AND HOME FURNISHINGS STORES'),\n",
       "                           ('4780', 'RET-HOUSEHOLD APPLIANCE STORES'),\n",
       "                           ('4795', 'RET-ELECTRONICS STORES'),\n",
       "                           ('4870',\n",
       "                            'RET-BUILDING MATERIAL AND SUPPLIES DEALERS'),\n",
       "                           ('4880', 'RET-HARDWARE STORES'),\n",
       "                           ('4890',\n",
       "                            'RET-LAWN AND GARDEN EQUIPMENT AND SUPPLIES STORES'),\n",
       "                           ('4970', 'RET-GROCERY STORES'),\n",
       "                           ('4980', 'RET-SPECIALTY FOOD STORES'),\n",
       "                           ('4990', 'RET-BEER, WINE, AND LIQUOR STORES'),\n",
       "                           ('5070', 'RET-PHARMACIES AND DRUG STORES'),\n",
       "                           ('5080',\n",
       "                            'RET-HEALTH AND PERSONAL CARE, EXCEPT DRUG, STORES'),\n",
       "                           ('5090', 'RET-GASOLINE STATIONS'),\n",
       "                           ('5170', 'RET-CLOTHING STORES'),\n",
       "                           ('5180', 'RET-SHOE STORES'),\n",
       "                           ('5190',\n",
       "                            'RET-JEWELRY, LUGGAGE, AND LEATHER GOODS STORES'),\n",
       "                           ('5275',\n",
       "                            'RET-SPORTING GOODS, AND HOBBY AND TOY STORES'),\n",
       "                           ('5280',\n",
       "                            'RET-SEWING, NEEDLEWORK, AND PIECE GOODS STORES'),\n",
       "                           ('5295',\n",
       "                            'RET-MUSICAL INSTRUMENT AND SUPPLIES STORES'),\n",
       "                           ('5370', 'RET-BOOK STORES AND NEWS DEALERS'),\n",
       "                           ('5380', 'RET-DEPARTMENT AND DISCOUNT STORES'),\n",
       "                           ('5390',\n",
       "                            'RET-MISCELLANEOUS GENERAL MERCHANDISE STORES'),\n",
       "                           ('5470', 'RET-FLORISTS'),\n",
       "                           ('5480',\n",
       "                            'RET-OFFICE SUPPLIES AND STATIONERY STORES'),\n",
       "                           ('5490', 'RET-USED MERCHANDISE STORES'),\n",
       "                           ('5570', 'RET-GIFT, NOVELTY, AND SOUVENIR SHOPS'),\n",
       "                           ('5580', 'RET-MISCELLANEOUS RETAIL STORES'),\n",
       "                           ('5590', 'RET-ELECTRONIC SHOPPING'),\n",
       "                           ('5591', 'RET-ELECTRONIC AUCTIONS'),\n",
       "                           ('5592', 'RET-MAIL-ORDER HOUSES'),\n",
       "                           ('5670', 'RET-VENDING MACHINE OPERATORS'),\n",
       "                           ('5680', 'RET-FUEL DEALERS'),\n",
       "                           ('5690', 'RET-OTHER DIRECT SELLING ESTABLISHMENTS'),\n",
       "                           ('5790', 'RET-NOT SPECIFIED RETAIL TRADE'),\n",
       "                           ('6070', 'TRN-AIR TRANSPORTATION'),\n",
       "                           ('6080', 'TRN-RAIL TRANSPORTATION'),\n",
       "                           ('6090', 'TRN-WATER TRANSPORTATION'),\n",
       "                           ('6170', 'TRN-TRUCK TRANSPORTATION'),\n",
       "                           ('6180', 'TRN-BUS SERVICE AND URBAN TRANSIT'),\n",
       "                           ('6190', 'TRN-TAXI AND LIMOUSINE SERVICE'),\n",
       "                           ('6270', 'TRN-PIPELINE TRANSPORTATION'),\n",
       "                           ('6280',\n",
       "                            'TRN-SCENIC AND SIGHTSEEING TRANSPORTATION'),\n",
       "                           ('6290',\n",
       "                            'TRN-SERVICES INCIDENTAL TO TRANSPORTATION'),\n",
       "                           ('6370', 'TRN-POSTAL SERVICE'),\n",
       "                           ('6380', 'TRN-COURIERS AND MESSENGERS'),\n",
       "                           ('6390', 'TRN-WAREHOUSING AND STORAGE'),\n",
       "                           ('6470', 'INF-NEWSPAPER PUBLISHERS'),\n",
       "                           ('6480',\n",
       "                            'INF-PERIODICAL, BOOK, AND DIRECTORY PUBLISHERS'),\n",
       "                           ('6490', 'INF-SOFTWARE PUBLISHERS'),\n",
       "                           ('6570', 'INF-MOTION PICTURE AND VIDEO INDUSTRIES'),\n",
       "                           ('6590', 'INF-SOUND RECORDING INDUSTRIES'),\n",
       "                           ('6670', 'INF-BROADCASTING, EXCEPT INTERNET'),\n",
       "                           ('6672',\n",
       "                            'INF-INTERNET PUBLISHING AND BROADCASTING AND WEB SEARCH PORTALS'),\n",
       "                           ('6680', 'INF-WIRED TELECOMMUNICATIONS CARRIERS'),\n",
       "                           ('6690',\n",
       "                            'INF-TELECOMMUNICATIONS, EXCEPT WIRED TELECOMMUNICATIONS CARRIERS'),\n",
       "                           ('6695',\n",
       "                            'INF-DATA PROCESSING, HOSTING, AND RELATED SERVICES'),\n",
       "                           ('6770', 'INF-LIBRARIES AND ARCHIVES'),\n",
       "                           ('6780',\n",
       "                            'INF-OTHER INFORMATION SERVICES, EXCEPT LIBRARIES AND ARCHIVES, AND INTERNET PUBLISHING AND BROADCASTING AND WEB SEARCH PORTALS'),\n",
       "                           ('6870', 'FIN-BANKING AND RELATED ACTIVITIES'),\n",
       "                           ('6880',\n",
       "                            'FIN-SAVINGS INSTITUTIONS, INCLUDING CREDIT UNIONS'),\n",
       "                           ('6890',\n",
       "                            'FIN-NONDEPOSITORY CREDIT AND RELATED ACTIVITIES'),\n",
       "                           ('6970',\n",
       "                            'FIN-SECURITIES, COMMODITIES, FUNDS, TRUSTS, AND OTHER FINANCIAL INVESTMENTS'),\n",
       "                           ('6990',\n",
       "                            'FIN-INSURANCE CARRIERS AND RELATED ACTIVITIES'),\n",
       "                           ('7070', 'FIN-REAL ESTATE'),\n",
       "                           ('7080',\n",
       "                            'FIN-AUTOMOTIVE EQUIPMENT RENTAL AND LEASING'),\n",
       "                           ('7170', 'FIN-VIDEO TAPE AND DISK RENTAL'),\n",
       "                           ('7180', 'FIN-OTHER CONSUMER GOODS RENTAL'),\n",
       "                           ('7190',\n",
       "                            'FIN-COMMERCIAL, INDUSTRIAL, AND OTHER INTANGIBLE ASSETS RENTAL AND LEASING'),\n",
       "                           ('7270', 'PRF-LEGAL SERVICES'),\n",
       "                           ('7280',\n",
       "                            'PRF-ACCOUNTING, TAX PREPARATION, BOOKKEEPING, AND PAYROLL SERVICES'),\n",
       "                           ('7290',\n",
       "                            'PRF-ARCHITECTURAL, ENGINEERING, AND RELATED SERVICES'),\n",
       "                           ('7370', 'PRF-SPECIALIZED DESIGN SERVICES'),\n",
       "                           ('7380',\n",
       "                            'PRF-COMPUTER SYSTEMS DESIGN AND RELATED SERVICES'),\n",
       "                           ('7390',\n",
       "                            'PRF-MANAGEMENT, SCIENTIFIC, AND TECHNICAL CONSULTING SERVICES'),\n",
       "                           ('7460',\n",
       "                            'PRF-SCIENTIFIC RESEARCH AND DEVELOPMENT SERVICES'),\n",
       "                           ('7470',\n",
       "                            'PRF-ADVERTISING, PUBLIC RELATIONS,  AND RELATED SERVICES'),\n",
       "                           ('7480', 'PRF-VETERINARY SERVICES'),\n",
       "                           ('7490',\n",
       "                            'PRF-OTHER PROFESSIONAL, SCIENTIFIC, AND TECHNICAL SERVICES'),\n",
       "                           ('7570',\n",
       "                            'PRF-MANAGEMENT OF COMPANIES AND ENTERPRISES'),\n",
       "                           ('7580', 'PRF-EMPLOYMENT SERVICES'),\n",
       "                           ('7590', 'PRF-BUSINESS SUPPORT SERVICES'),\n",
       "                           ('7670',\n",
       "                            'PRF-TRAVEL ARRANGEMENTS AND RESERVATION SERVICES'),\n",
       "                           ('7680', 'PRF-INVESTIGATION AND SECURITY SERVICES'),\n",
       "                           ('7690',\n",
       "                            'PRF-SERVICES TO BUILDINGS AND DWELLINGS, EX CONSTR CLN'),\n",
       "                           ('7770', 'PRF-LANDSCAPING SERVICES'),\n",
       "                           ('7780',\n",
       "                            'PRF-OTHER ADMINISTRATIVE AND OTHER SUPPORT SERVICES'),\n",
       "                           ('7790',\n",
       "                            'PRF-WASTE MANAGEMENT AND REMEDIATION SERVICES'),\n",
       "                           ('7860', 'EDU-ELEMENTARY AND SECONDARY SCHOOLS'),\n",
       "                           ('7870',\n",
       "                            'EDU-COLLEGES, UNIVERSITIES, AND PROFESSIONAL SCHOOLS, INCLUDING JUNIOR COLLEGES'),\n",
       "                           ('7880',\n",
       "                            'EDU-BUSINESS, TECHNICAL, AND TRADE SCHOOLS AND TRAINING'),\n",
       "                           ('7890',\n",
       "                            'EDU-OTHER SCHOOLS AND INSTRUCTION, AND EDUCATIONAL SUPPORT SERVICES'),\n",
       "                           ('7970', 'MED-OFFICES OF PHYSICIANS'),\n",
       "                           ('7980', 'MED-OFFICES OF DENTISTS'),\n",
       "                           ('7990', 'MED-OFFICES OF CHIROPRACTORS'),\n",
       "                           ('8070', 'MED-OFFICES OF OPTOMETRISTS'),\n",
       "                           ('8080',\n",
       "                            'MED-OFFICES OF OTHER HEALTH PRACTITIONERS'),\n",
       "                           ('8090', 'MED-OUTPATIENT CARE CENTERS'),\n",
       "                           ('8170', 'MED-HOME HEALTH CARE SERVICES'),\n",
       "                           ('8180', 'MED-OTHER HEALTH CARE SERVICES'),\n",
       "                           ('8190', 'MED-HOSPITALS'),\n",
       "                           ('8270',\n",
       "                            'MED-NURSING CARE FACILITIES (SKILLED NURSING FACILITIES)'),\n",
       "                           ('8290',\n",
       "                            'MED-RESIDENTIAL CARE FACILITIES, EXCEPT SKILLED NURSING FACILITIES'),\n",
       "                           ('8370', 'SCA-INDIVIDUAL AND FAMILY SERVICES'),\n",
       "                           ('8380',\n",
       "                            'SCA-COMMUNITY FOOD AND HOUSING, AND EMERGENCY SERVICES'),\n",
       "                           ('8390', 'SCA-VOCATIONAL REHABILITATION SERVICES'),\n",
       "                           ('8470', 'SCA-CHILD DAY CARE SERVICES'),\n",
       "                           ('8560',\n",
       "                            'ENT-PERFORMING ARTS, SPECTATOR SPORTS, AND RELATED INDUSTRIES'),\n",
       "                           ('8570',\n",
       "                            'ENT-MUSEUMS, ART GALLERIES, HISTORICAL SITES, AND SIMILAR INSTITUTIONS'),\n",
       "                           ('8580', 'ENT-BOWLING CENTERS'),\n",
       "                           ('8590',\n",
       "                            'ENT-OTHER AMUSEMENT, GAMBLING, AND RECREATION INDUSTRIES'),\n",
       "                           ('8660', 'ENT-TRAVELER ACCOMMODATION'),\n",
       "                           ('8670',\n",
       "                            'ENT-RECREATIONAL VEHICLE PARKS AND CAMPS, AND ROOMING AND BOARDING HOUSES'),\n",
       "                           ('8680', 'ENT-RESTAURANTS AND OTHER FOOD SERVICES'),\n",
       "                           ('8690',\n",
       "                            'ENT-DRINKING PLACES, ALCOHOLIC BEVERAGES'),\n",
       "                           ('8770', 'SRV-AUTOMOTIVE REPAIR AND MAINTENANCE'),\n",
       "                           ('8780', 'SRV-CAR WASHES'),\n",
       "                           ('8790',\n",
       "                            'SRV-ELECTRONIC AND PRECISION EQUIPMENT REPAIR AND MAINTENANCE'),\n",
       "                           ('8870',\n",
       "                            'SRV-COMMERCIAL AND INDUSTRIAL MACHINERY AND EQUIPMENT REPAIR AND MAINTENANCE'),\n",
       "                           ('8880',\n",
       "                            'SRV-PERSONAL AND HOUSEHOLD GOODS REPAIR AND MAINTENANCE'),\n",
       "                           ('8970', 'SRV-BARBER SHOPS'),\n",
       "                           ('8980', 'SRV-BEAUTY SALONS'),\n",
       "                           ('8990',\n",
       "                            'SRV-NAIL SALONS AND OTHER PERSONAL CARE SERVICES'),\n",
       "                           ('9070', 'SRV-DRYCLEANING AND LAUNDRY SERVICES'),\n",
       "                           ('9080',\n",
       "                            'SRV-FUNERAL HOMES, CEMETERIES AND CREMATORIES'),\n",
       "                           ('9090', 'SRV-OTHER PERSONAL SERVICES'),\n",
       "                           ('9160', 'SRV-RELIGIOUS ORGANIZATIONS'),\n",
       "                           ('9170',\n",
       "                            'SRV-CIVIC, SOCIAL, ADVOCACY ORGANIZATIONS, AND GRANTMAKING AND GIVING SERVICES'),\n",
       "                           ('9180', 'SRV-LABOR UNIONS'),\n",
       "                           ('9190',\n",
       "                            'SRV-BUSINESS, PROFESSIONAL, POLITICAL, AND SIMILAR ORGANIZATIONS'),\n",
       "                           ('9290', 'SRV-PRIVATE HOUSEHOLDS'),\n",
       "                           ('9370',\n",
       "                            'ADM-EXECUTIVE OFFICES AND LEGISLATIVE BODIES'),\n",
       "                           ('9380', 'ADM-PUBLIC FINANCE ACTIVITIES'),\n",
       "                           ('9390',\n",
       "                            'ADM-OTHER GENERAL GOVERNMENT AND SUPPORT'),\n",
       "                           ('9470',\n",
       "                            'ADM-JUSTICE, PUBLIC ORDER, AND SAFETY ACTIVITIES'),\n",
       "                           ('9480',\n",
       "                            'ADM-ADMINISTRATION OF HUMAN RESOURCE PROGRAMS'),\n",
       "                           ('9490',\n",
       "                            'ADM-ADMINISTRATION OF ENVIRONMENTAL QUALITY AND HOUSING PROGRAMS'),\n",
       "                           ('9570',\n",
       "                            'ADM-ADMINISTRATION OF ECONOMIC PROGRAMS AND SPACE RESEARCH'),\n",
       "                           ('9590',\n",
       "                            'ADM-NATIONAL SECURITY AND INTERNATIONAL AFFAIRS'),\n",
       "                           ('9670', 'MIL-U.S. ARMY'),\n",
       "                           ('9680', 'MIL-U.S. AIR FORCE'),\n",
       "                           ('9690', 'MIL-U.S. NAVY'),\n",
       "                           ('9770', 'MIL-U.S. MARINES'),\n",
       "                           ('9780', 'MIL-U.S. COAST GUARD'),\n",
       "                           ('9790',\n",
       "                            'MIL-U.S. ARMED FORCES, BRANCH NOT SPECIFIED'),\n",
       "                           ('9870', 'MIL-MILITARY RESERVES OR NATIONAL GUARD'),\n",
       "                           ('9920',\n",
       "                            'UNEMPLOYED AND LAST WORKED 5 YEARS AGO OR EARLIER OR NEVER WORKED**')])),\n",
       "             ('notes',\n",
       "              ['Note: Changes were made to this variable between 2012 and 2013. See the applicable data dictionaries and code lists at:',\n",
       "               'http://www.census.gov/acs/www/data_documentation/pums_documentation/',\n",
       "               'Note: For additional information on NAICS and SOC groupings within major categories visit our website at: http://www.census.gov/people/io/methodology/indexes.html.'])])"
      ]
     },
     "execution_count": 87,
     "metadata": {},
     "output_type": "execute_result"
    }
   ],
   "source": [
    "test['record_types']['PERSON RECORD']['INDP']"
   ]
  },
  {
   "cell_type": "code",
   "execution_count": 98,
   "metadata": {
    "collapsed": false
   },
   "outputs": [
    {
     "data": {
      "text/plain": [
       "['Note for both Industry and Occupation lists in Data Dictionary:',\n",
       " '*  In cases where the SOC occupation code ends in X(s) or Y(s), two or more',\n",
       " '   SOC occupation codes were aggregated to correspond to a specific Census',\n",
       " '   occupation code. In these cases, the Census occupation description is used',\n",
       " '   for the SOC occupation title.']"
      ]
     },
     "execution_count": 98,
     "metadata": {},
     "output_type": "execute_result"
    }
   ],
   "source": [
    "test['notes'][:5]"
   ]
  },
  {
   "cell_type": "code",
   "execution_count": null,
   "metadata": {
    "collapsed": true
   },
   "outputs": [],
   "source": []
  },
  {
   "cell_type": "code",
   "execution_count": null,
   "metadata": {
    "collapsed": true
   },
   "outputs": [],
   "source": []
  },
  {
   "cell_type": "markdown",
   "metadata": {
    "collapsed": true
   },
   "source": [
    "## Export ipynb to html"
   ]
  },
  {
   "cell_type": "code",
   "execution_count": null,
   "metadata": {
    "collapsed": true
   },
   "outputs": [],
   "source": [
    "path_ipynb = os.path.join(path_static, basename, basename+'.ipynb')\n",
    "for template in ['basic', 'full']:\n",
    "    path_html = os.path.splitext(path_ipynb)[0]+'-'+template+'.html'\n",
    "    cmd = ['jupyter', 'nbconvert', '--to', 'html', '--template', template, path_ipynb, '--output', path_html]\n",
    "    print(' '.join(cmd))\n",
    "    subprocess.run(args=cmd, check=True)"
   ]
  }
 ],
 "metadata": {
  "kernelspec": {
   "display_name": "Python 3",
   "language": "python",
   "name": "python3"
  },
  "language_info": {
   "codemirror_mode": {
    "name": "ipython",
    "version": 3
   },
   "file_extension": ".py",
   "mimetype": "text/x-python",
   "name": "python",
   "nbconvert_exporter": "python",
   "pygments_lexer": "ipython3",
   "version": "3.5.1"
  }
 },
 "nbformat": 4,
 "nbformat_minor": 0
}
