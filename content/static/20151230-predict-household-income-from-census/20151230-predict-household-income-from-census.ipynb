{
 "cells": [
  {
   "cell_type": "markdown",
   "metadata": {},
   "source": [
    "# 20151230-predict-household-income-from-census\n",
    "\n",
    "Related post:  \n",
    "https://stharrold.github.io/20151230-predict-household-income-from-census.html\n",
    "\n",
    "Purpose: Predict total annual household income."
   ]
  },
  {
   "cell_type": "markdown",
   "metadata": {},
   "source": [
    "## Initialization\n",
    "\n",
    "### Imports"
   ]
  },
  {
   "cell_type": "code",
   "execution_count": 1,
   "metadata": {
    "collapsed": false
   },
   "outputs": [
    {
     "name": "stdout",
     "output_type": "stream",
     "text": [
      "/home/samuel_harrold\n"
     ]
    }
   ],
   "source": [
    "cd ~"
   ]
  },
  {
   "cell_type": "code",
   "execution_count": 30,
   "metadata": {
    "collapsed": false
   },
   "outputs": [],
   "source": [
    "# Import standard packages.\n",
    "import collections\n",
    "import json\n",
    "import os\n",
    "import pdb # TEST: Comment out pdb after testing.\n",
    "import sys\n",
    "# Import installed packages.\n",
    "import matplotlib.pyplot as plt\n",
    "import numpy as np\n",
    "import pandas as pd\n",
    "# Import local packages.\n",
    "sys.path.insert(\n",
    "    0,\n",
    "    os.path.join(os.path.curdir, 'stharrold.github.io/content/static/dsdemos'))\n",
    "# TEST: Comment out autoreload after testing.\n",
    "%reload_ext autoreload\n",
    "%autoreload 2\n",
    "import dsdemos as dsd\n",
    "# IPython magic.\n",
    "%matplotlib inline"
   ]
  },
  {
   "cell_type": "markdown",
   "metadata": {
    "collapsed": false
   },
   "source": [
    "## Globals"
   ]
  },
  {
   "cell_type": "code",
   "execution_count": 3,
   "metadata": {
    "collapsed": false
   },
   "outputs": [],
   "source": [
    "path_static = os.path.join(os.path.expanduser(r'~'), r'stharrold.github.io/content/static')\n",
    "basename = r'20151230-predict-household-income-from-census'\n",
    "path_disk = os.path.abspath(r'/mnt/disk-20151227t211000z/')\n",
    "path_acs = os.path.join(path_disk, r'www2-census-gov/programs-surveys/acs/')\n",
    "path_csv = os.path.join(path_acs, r'data/pums/2013/5-Year/ss13hdc.csv') # 'hdc' = 'housing DC'\n",
    "path_ddict = os.path.join(path_acs, r'tech_docs/pums/data_dict/PUMS_Data_Dictionary_2009-2013.txt')"
   ]
  },
  {
   "cell_type": "markdown",
   "metadata": {},
   "source": [
    "## Extract-transform-load\n",
    "\n",
    "**TODO:**\n",
    "* Just use pandas. Acknowledge dask."
   ]
  },
  {
   "cell_type": "code",
   "execution_count": 4,
   "metadata": {
    "collapsed": false
   },
   "outputs": [
    {
     "name": "stdout",
     "output_type": "stream",
     "text": [
      "/mnt/disk-20151227t211000z/www2-census-gov/programs-surveys/acs/data/pums/2013/5-Year/ss13hdc.csv:\n",
      "size (MB) = 13.5\n",
      "num lines = 17501\n",
      "df RAM usage (MB) = 28.7\n",
      "CPU times: user 444 ms, sys: 20 ms, total: 464 ms\n",
      "Wall time: 466 ms\n"
     ]
    }
   ],
   "source": [
    "%%time\n",
    "with open(path_csv) as fobj:\n",
    "    nlines = sum(1 for _ in fobj)\n",
    "print(\"{path}:\".format(path=path_csv))\n",
    "print(\"size (MB) = {size:.1f}\".format(size=os.path.getsize(path_csv)/1e6))\n",
    "print(\"num lines = {nlines}\".format(nlines=nlines))\n",
    "df = pd.read_csv(path_csv)\n",
    "print(\"df RAM usage (MB) = {mem:.1f}\".format(mem=df.memory_usage().sum()/1e6))"
   ]
  },
  {
   "cell_type": "code",
   "execution_count": 5,
   "metadata": {
    "collapsed": false
   },
   "outputs": [
    {
     "data": {
      "text/html": [
       "<div>\n",
       "<table border=\"1\" class=\"dataframe\">\n",
       "  <thead>\n",
       "    <tr style=\"text-align: right;\">\n",
       "      <th></th>\n",
       "      <th>insp</th>\n",
       "      <th>RT</th>\n",
       "      <th>SERIALNO</th>\n",
       "      <th>DIVISION</th>\n",
       "      <th>PUMA00</th>\n",
       "      <th>PUMA10</th>\n",
       "      <th>REGION</th>\n",
       "      <th>ST</th>\n",
       "      <th>ADJHSG</th>\n",
       "      <th>ADJINC</th>\n",
       "      <th>...</th>\n",
       "      <th>WGTP71</th>\n",
       "      <th>WGTP72</th>\n",
       "      <th>WGTP73</th>\n",
       "      <th>WGTP74</th>\n",
       "      <th>WGTP75</th>\n",
       "      <th>WGTP76</th>\n",
       "      <th>WGTP77</th>\n",
       "      <th>WGTP78</th>\n",
       "      <th>WGTP79</th>\n",
       "      <th>WGTP80</th>\n",
       "    </tr>\n",
       "  </thead>\n",
       "  <tbody>\n",
       "    <tr>\n",
       "      <th>count</th>\n",
       "      <td>6561.000000</td>\n",
       "      <td>17500</td>\n",
       "      <td>1.750000e+04</td>\n",
       "      <td>17500</td>\n",
       "      <td>17500.000000</td>\n",
       "      <td>17500.000000</td>\n",
       "      <td>17500</td>\n",
       "      <td>17500</td>\n",
       "      <td>17500.000000</td>\n",
       "      <td>17500.000000</td>\n",
       "      <td>...</td>\n",
       "      <td>17500.000000</td>\n",
       "      <td>17500.000000</td>\n",
       "      <td>17500.000000</td>\n",
       "      <td>17500.000000</td>\n",
       "      <td>17500.000000</td>\n",
       "      <td>17500.000000</td>\n",
       "      <td>17500.000000</td>\n",
       "      <td>17500.000000</td>\n",
       "      <td>17500.000000</td>\n",
       "      <td>17500.000000</td>\n",
       "    </tr>\n",
       "    <tr>\n",
       "      <th>unique</th>\n",
       "      <td>NaN</td>\n",
       "      <td>1</td>\n",
       "      <td>NaN</td>\n",
       "      <td>NaN</td>\n",
       "      <td>NaN</td>\n",
       "      <td>NaN</td>\n",
       "      <td>NaN</td>\n",
       "      <td>NaN</td>\n",
       "      <td>NaN</td>\n",
       "      <td>NaN</td>\n",
       "      <td>...</td>\n",
       "      <td>NaN</td>\n",
       "      <td>NaN</td>\n",
       "      <td>NaN</td>\n",
       "      <td>NaN</td>\n",
       "      <td>NaN</td>\n",
       "      <td>NaN</td>\n",
       "      <td>NaN</td>\n",
       "      <td>NaN</td>\n",
       "      <td>NaN</td>\n",
       "      <td>NaN</td>\n",
       "    </tr>\n",
       "    <tr>\n",
       "      <th>top</th>\n",
       "      <td>NaN</td>\n",
       "      <td>H</td>\n",
       "      <td>NaN</td>\n",
       "      <td>NaN</td>\n",
       "      <td>NaN</td>\n",
       "      <td>NaN</td>\n",
       "      <td>NaN</td>\n",
       "      <td>NaN</td>\n",
       "      <td>NaN</td>\n",
       "      <td>NaN</td>\n",
       "      <td>...</td>\n",
       "      <td>NaN</td>\n",
       "      <td>NaN</td>\n",
       "      <td>NaN</td>\n",
       "      <td>NaN</td>\n",
       "      <td>NaN</td>\n",
       "      <td>NaN</td>\n",
       "      <td>NaN</td>\n",
       "      <td>NaN</td>\n",
       "      <td>NaN</td>\n",
       "      <td>NaN</td>\n",
       "    </tr>\n",
       "    <tr>\n",
       "      <th>freq</th>\n",
       "      <td>NaN</td>\n",
       "      <td>17500</td>\n",
       "      <td>NaN</td>\n",
       "      <td>NaN</td>\n",
       "      <td>NaN</td>\n",
       "      <td>NaN</td>\n",
       "      <td>NaN</td>\n",
       "      <td>NaN</td>\n",
       "      <td>NaN</td>\n",
       "      <td>NaN</td>\n",
       "      <td>...</td>\n",
       "      <td>NaN</td>\n",
       "      <td>NaN</td>\n",
       "      <td>NaN</td>\n",
       "      <td>NaN</td>\n",
       "      <td>NaN</td>\n",
       "      <td>NaN</td>\n",
       "      <td>NaN</td>\n",
       "      <td>NaN</td>\n",
       "      <td>NaN</td>\n",
       "      <td>NaN</td>\n",
       "    </tr>\n",
       "    <tr>\n",
       "      <th>mean</th>\n",
       "      <td>999.282731</td>\n",
       "      <td>NaN</td>\n",
       "      <td>2.011068e+12</td>\n",
       "      <td>5</td>\n",
       "      <td>56.427371</td>\n",
       "      <td>37.764171</td>\n",
       "      <td>3</td>\n",
       "      <td>11</td>\n",
       "      <td>1039364.231657</td>\n",
       "      <td>1048478.770229</td>\n",
       "      <td>...</td>\n",
       "      <td>17.050857</td>\n",
       "      <td>17.043486</td>\n",
       "      <td>17.050000</td>\n",
       "      <td>17.049029</td>\n",
       "      <td>17.048000</td>\n",
       "      <td>17.051543</td>\n",
       "      <td>17.053200</td>\n",
       "      <td>17.047029</td>\n",
       "      <td>17.046971</td>\n",
       "      <td>17.051486</td>\n",
       "    </tr>\n",
       "    <tr>\n",
       "      <th>std</th>\n",
       "      <td>1085.174484</td>\n",
       "      <td>NaN</td>\n",
       "      <td>1.401911e+09</td>\n",
       "      <td>0</td>\n",
       "      <td>55.291036</td>\n",
       "      <td>55.358495</td>\n",
       "      <td>0</td>\n",
       "      <td>0</td>\n",
       "      <td>31877.254257</td>\n",
       "      <td>29598.269890</td>\n",
       "      <td>...</td>\n",
       "      <td>17.593886</td>\n",
       "      <td>17.740566</td>\n",
       "      <td>17.534604</td>\n",
       "      <td>17.555515</td>\n",
       "      <td>17.558942</td>\n",
       "      <td>17.574232</td>\n",
       "      <td>17.623017</td>\n",
       "      <td>17.802284</td>\n",
       "      <td>17.267472</td>\n",
       "      <td>17.710924</td>\n",
       "    </tr>\n",
       "    <tr>\n",
       "      <th>min</th>\n",
       "      <td>0.000000</td>\n",
       "      <td>NaN</td>\n",
       "      <td>2.009000e+12</td>\n",
       "      <td>5</td>\n",
       "      <td>-9.000000</td>\n",
       "      <td>-9.000000</td>\n",
       "      <td>3</td>\n",
       "      <td>11</td>\n",
       "      <td>1000000.000000</td>\n",
       "      <td>1007549.000000</td>\n",
       "      <td>...</td>\n",
       "      <td>0.000000</td>\n",
       "      <td>0.000000</td>\n",
       "      <td>0.000000</td>\n",
       "      <td>0.000000</td>\n",
       "      <td>0.000000</td>\n",
       "      <td>0.000000</td>\n",
       "      <td>0.000000</td>\n",
       "      <td>0.000000</td>\n",
       "      <td>0.000000</td>\n",
       "      <td>0.000000</td>\n",
       "    </tr>\n",
       "    <tr>\n",
       "      <th>15.9%</th>\n",
       "      <td>200.000000</td>\n",
       "      <td>NaN</td>\n",
       "      <td>2.009001e+12</td>\n",
       "      <td>5</td>\n",
       "      <td>-9.000000</td>\n",
       "      <td>-9.000000</td>\n",
       "      <td>3</td>\n",
       "      <td>11</td>\n",
       "      <td>1000000.000000</td>\n",
       "      <td>1007549.000000</td>\n",
       "      <td>...</td>\n",
       "      <td>2.000000</td>\n",
       "      <td>2.000000</td>\n",
       "      <td>2.000000</td>\n",
       "      <td>2.000000</td>\n",
       "      <td>2.000000</td>\n",
       "      <td>2.000000</td>\n",
       "      <td>2.000000</td>\n",
       "      <td>2.000000</td>\n",
       "      <td>2.000000</td>\n",
       "      <td>2.000000</td>\n",
       "    </tr>\n",
       "    <tr>\n",
       "      <th>50%</th>\n",
       "      <td>790.000000</td>\n",
       "      <td>NaN</td>\n",
       "      <td>2.011001e+12</td>\n",
       "      <td>5</td>\n",
       "      <td>101.000000</td>\n",
       "      <td>-9.000000</td>\n",
       "      <td>3</td>\n",
       "      <td>11</td>\n",
       "      <td>1035725.000000</td>\n",
       "      <td>1054614.000000</td>\n",
       "      <td>...</td>\n",
       "      <td>13.000000</td>\n",
       "      <td>13.000000</td>\n",
       "      <td>13.000000</td>\n",
       "      <td>13.000000</td>\n",
       "      <td>13.000000</td>\n",
       "      <td>13.000000</td>\n",
       "      <td>13.000000</td>\n",
       "      <td>13.000000</td>\n",
       "      <td>13.000000</td>\n",
       "      <td>13.000000</td>\n",
       "    </tr>\n",
       "    <tr>\n",
       "      <th>84.1%</th>\n",
       "      <td>1500.000000</td>\n",
       "      <td>NaN</td>\n",
       "      <td>2.013000e+12</td>\n",
       "      <td>5</td>\n",
       "      <td>104.000000</td>\n",
       "      <td>104.000000</td>\n",
       "      <td>3</td>\n",
       "      <td>11</td>\n",
       "      <td>1086032.000000</td>\n",
       "      <td>1085467.000000</td>\n",
       "      <td>...</td>\n",
       "      <td>30.000000</td>\n",
       "      <td>30.000000</td>\n",
       "      <td>30.000000</td>\n",
       "      <td>31.000000</td>\n",
       "      <td>30.000000</td>\n",
       "      <td>30.000000</td>\n",
       "      <td>30.000000</td>\n",
       "      <td>30.000000</td>\n",
       "      <td>31.000000</td>\n",
       "      <td>30.000000</td>\n",
       "    </tr>\n",
       "    <tr>\n",
       "      <th>max</th>\n",
       "      <td>8600.000000</td>\n",
       "      <td>NaN</td>\n",
       "      <td>2.013001e+12</td>\n",
       "      <td>5</td>\n",
       "      <td>105.000000</td>\n",
       "      <td>105.000000</td>\n",
       "      <td>3</td>\n",
       "      <td>11</td>\n",
       "      <td>1086032.000000</td>\n",
       "      <td>1085467.000000</td>\n",
       "      <td>...</td>\n",
       "      <td>200.000000</td>\n",
       "      <td>206.000000</td>\n",
       "      <td>232.000000</td>\n",
       "      <td>190.000000</td>\n",
       "      <td>244.000000</td>\n",
       "      <td>214.000000</td>\n",
       "      <td>216.000000</td>\n",
       "      <td>246.000000</td>\n",
       "      <td>212.000000</td>\n",
       "      <td>210.000000</td>\n",
       "    </tr>\n",
       "  </tbody>\n",
       "</table>\n",
       "<p>11 rows × 205 columns</p>\n",
       "</div>"
      ],
      "text/plain": [
       "               insp     RT      SERIALNO  DIVISION        PUMA00  \\\n",
       "count   6561.000000  17500  1.750000e+04     17500  17500.000000   \n",
       "unique          NaN      1           NaN       NaN           NaN   \n",
       "top             NaN      H           NaN       NaN           NaN   \n",
       "freq            NaN  17500           NaN       NaN           NaN   \n",
       "mean     999.282731    NaN  2.011068e+12         5     56.427371   \n",
       "std     1085.174484    NaN  1.401911e+09         0     55.291036   \n",
       "min        0.000000    NaN  2.009000e+12         5     -9.000000   \n",
       "15.9%    200.000000    NaN  2.009001e+12         5     -9.000000   \n",
       "50%      790.000000    NaN  2.011001e+12         5    101.000000   \n",
       "84.1%   1500.000000    NaN  2.013000e+12         5    104.000000   \n",
       "max     8600.000000    NaN  2.013001e+12         5    105.000000   \n",
       "\n",
       "              PUMA10  REGION     ST          ADJHSG          ADJINC  \\\n",
       "count   17500.000000   17500  17500    17500.000000    17500.000000   \n",
       "unique           NaN     NaN    NaN             NaN             NaN   \n",
       "top              NaN     NaN    NaN             NaN             NaN   \n",
       "freq             NaN     NaN    NaN             NaN             NaN   \n",
       "mean       37.764171       3     11  1039364.231657  1048478.770229   \n",
       "std        55.358495       0      0    31877.254257    29598.269890   \n",
       "min        -9.000000       3     11  1000000.000000  1007549.000000   \n",
       "15.9%      -9.000000       3     11  1000000.000000  1007549.000000   \n",
       "50%        -9.000000       3     11  1035725.000000  1054614.000000   \n",
       "84.1%     104.000000       3     11  1086032.000000  1085467.000000   \n",
       "max       105.000000       3     11  1086032.000000  1085467.000000   \n",
       "\n",
       "            ...             WGTP71        WGTP72        WGTP73        WGTP74  \\\n",
       "count       ...       17500.000000  17500.000000  17500.000000  17500.000000   \n",
       "unique      ...                NaN           NaN           NaN           NaN   \n",
       "top         ...                NaN           NaN           NaN           NaN   \n",
       "freq        ...                NaN           NaN           NaN           NaN   \n",
       "mean        ...          17.050857     17.043486     17.050000     17.049029   \n",
       "std         ...          17.593886     17.740566     17.534604     17.555515   \n",
       "min         ...           0.000000      0.000000      0.000000      0.000000   \n",
       "15.9%       ...           2.000000      2.000000      2.000000      2.000000   \n",
       "50%         ...          13.000000     13.000000     13.000000     13.000000   \n",
       "84.1%       ...          30.000000     30.000000     30.000000     31.000000   \n",
       "max         ...         200.000000    206.000000    232.000000    190.000000   \n",
       "\n",
       "              WGTP75        WGTP76        WGTP77        WGTP78        WGTP79  \\\n",
       "count   17500.000000  17500.000000  17500.000000  17500.000000  17500.000000   \n",
       "unique           NaN           NaN           NaN           NaN           NaN   \n",
       "top              NaN           NaN           NaN           NaN           NaN   \n",
       "freq             NaN           NaN           NaN           NaN           NaN   \n",
       "mean       17.048000     17.051543     17.053200     17.047029     17.046971   \n",
       "std        17.558942     17.574232     17.623017     17.802284     17.267472   \n",
       "min         0.000000      0.000000      0.000000      0.000000      0.000000   \n",
       "15.9%       2.000000      2.000000      2.000000      2.000000      2.000000   \n",
       "50%        13.000000     13.000000     13.000000     13.000000     13.000000   \n",
       "84.1%      30.000000     30.000000     30.000000     30.000000     31.000000   \n",
       "max       244.000000    214.000000    216.000000    246.000000    212.000000   \n",
       "\n",
       "              WGTP80  \n",
       "count   17500.000000  \n",
       "unique           NaN  \n",
       "top              NaN  \n",
       "freq             NaN  \n",
       "mean       17.051486  \n",
       "std        17.710924  \n",
       "min         0.000000  \n",
       "15.9%       2.000000  \n",
       "50%        13.000000  \n",
       "84.1%      30.000000  \n",
       "max       210.000000  \n",
       "\n",
       "[11 rows x 205 columns]"
      ]
     },
     "execution_count": 5,
     "metadata": {},
     "output_type": "execute_result"
    }
   ],
   "source": [
    "percentiles = [0.1587, 0.5000, 0.8413] # +1 std. dev., mean/median, -1 std. dev. for normal dist.\n",
    "df.describe(percentiles=percentiles, include='all')"
   ]
  },
  {
   "cell_type": "code",
   "execution_count": 6,
   "metadata": {
    "collapsed": false,
    "scrolled": true
   },
   "outputs": [],
   "source": [
    "ddict = dsd.census.parse_pumsdatadict(path=path_ddict)"
   ]
  },
  {
   "cell_type": "code",
   "execution_count": 7,
   "metadata": {
    "collapsed": false
   },
   "outputs": [
    {
     "data": {
      "text/plain": [
       "odict_keys(['title', 'date', 'record_types', 'notes'])"
      ]
     },
     "execution_count": 7,
     "metadata": {},
     "output_type": "execute_result"
    }
   ],
   "source": [
    "ddict.keys()"
   ]
  },
  {
   "cell_type": "code",
   "execution_count": 8,
   "metadata": {
    "collapsed": false
   },
   "outputs": [
    {
     "data": {
      "text/plain": [
       "'2009-2013 ACS PUMS DATA DICTIONARY'"
      ]
     },
     "execution_count": 8,
     "metadata": {},
     "output_type": "execute_result"
    }
   ],
   "source": [
    "ddict['title']"
   ]
  },
  {
   "cell_type": "code",
   "execution_count": 9,
   "metadata": {
    "collapsed": false
   },
   "outputs": [
    {
     "data": {
      "text/plain": [
       "'August 7, 2015'"
      ]
     },
     "execution_count": 9,
     "metadata": {},
     "output_type": "execute_result"
    }
   ],
   "source": [
    "ddict['date']"
   ]
  },
  {
   "cell_type": "code",
   "execution_count": 10,
   "metadata": {
    "collapsed": false
   },
   "outputs": [
    {
     "data": {
      "text/plain": [
       "odict_keys(['HOUSING RECORD', 'PERSON RECORD'])"
      ]
     },
     "execution_count": 10,
     "metadata": {},
     "output_type": "execute_result"
    }
   ],
   "source": [
    "ddict['record_types'].keys()"
   ]
  },
  {
   "cell_type": "code",
   "execution_count": 11,
   "metadata": {
    "collapsed": false,
    "scrolled": true
   },
   "outputs": [
    {
     "data": {
      "text/plain": [
       "['*  In cases where the SOC occupation code ends in X(s) or Y(s), two or more SOC',\n",
       " 'occupation codes were aggregated to correspond to a specific Census occupation',\n",
       " 'code. In these cases, the Census occupation description is used for the SOC',\n",
       " 'occupation title.\"',\n",
       " '** These codes are pseudo codes developed by the Census Bureau and are not',\n",
       " '   official or equivalent NAICS or SOC codes.',\n",
       " 'Legend to Identify NAICS Equivalents',\n",
       " '     M = Multiple NAICS codes',\n",
       " '     P = Part of a NAICS code - NAICS code split between two or more Census',\n",
       " '         codes',\n",
       " '     S = Not specified Industry in NAICS sector - Specific to Census codes',\n",
       " '         only',\n",
       " '     Z = Exception to NAICS code - Part of NAICS industry but has a unique',\n",
       " '         Census code',\n",
       " 'Occupation codes in OCCP10, OCCP12, SOCP10, and SOCP12 are based on the Standard',\n",
       " 'Occupational Classification 2010. Occupation codes in OCCP02 and SOCP00 are based',\n",
       " 'on Standard Occupational Classification 2000.  For more information on',\n",
       " 'occupational code changes, please see the technical documentation provided with',\n",
       " 'the code lists, on our website at: http://www.census.gov/acs/www/data_documentation/pums_documentation.',\n",
       " 'Industry codes in INDP and NAICSP are based on the North American Industry',\n",
       " 'Classification System 2012.  For more information on industry code changes, please',\n",
       " 'see the technical documentation provided with the code lists, on our website at:',\n",
       " 'http://www.census.gov/acs/www/data_documentation/pums_documentation.',\n",
       " 'Note for both Industry and Occupation lists in Data Dictionary:',\n",
       " 'NOTE: For additional information on NAICS and SOC groupings',\n",
       " 'within major categories visit our website at:',\n",
       " 'http://www.census.gov/people/io/methodology.',\n",
       " '*** Refer to top-coding documentation at:',\n",
       " 'http://www.census.gov/acs/www/Downloads/data_documentation/pums/TopCodedValues/2013PUMS_top_coded_values.pdf',\n",
       " '**** The World Area of Birth (WAOB) in the PUMS dataset is based upon the',\n",
       " 'Place of Birth (POB) variable in the full dataset, not the Place of Birth',\n",
       " 'recode created for PUMS (POBP).  POB contains more detailed place of birth',\n",
       " 'information than POBP.  Therefore, WAOB cannot be recoded from POBP.',\n",
       " 'Data users should be aware that the area groupings for WAOB are based',\n",
       " 'primarily upon United States administrative boundaries, not geographic',\n",
       " 'boundaries.  For example, Guam is grouped into \"Puerto Rico and the U.S.',\n",
       " 'Island Areas,\" although geographically it is located in Oceania.  Not all',\n",
       " 'places of birth are listed individually in POBP.  Therefore the user',\n",
       " 'cannot recreate an exact world area of birth variable from POBP based upon',\n",
       " 'geographic location of birth.']"
      ]
     },
     "execution_count": 11,
     "metadata": {},
     "output_type": "execute_result"
    }
   ],
   "source": [
    "ddict['notes']"
   ]
  },
  {
   "cell_type": "code",
   "execution_count": 13,
   "metadata": {
    "collapsed": false
   },
   "outputs": [
    {
     "data": {
      "text/plain": [
       "odict_keys(['RT', 'SERIALNO', 'DIVISION', 'PUMA00', 'PUMA10', 'REGION', 'ST', 'ADJHSG', 'ADJINC', 'WGTP', 'NP', 'TYPE', 'ACR', 'AGS', 'BATH', 'BDSP', 'BLD', 'BUS', 'CONP', 'ELEP', 'FS', 'FULP', 'GASP', 'HFL', 'INSP', 'MHP', 'MRGI', 'MRGP', 'MRGT', 'MRGX', 'REFR', 'RMSP', 'RNTM', 'RNTP', 'RWAT', 'RWATPR', 'SINK', 'SMP', 'STOV', 'TEL', 'TEN', 'TOIL', 'VACS', 'VALP', 'VEH', 'WATP', 'YBL', 'FES', 'FINCP', 'FPARC', 'GRNTP', 'GRPIP', 'HHL', 'HHT', 'HINCP', 'HUGCL', 'HUPAC', 'HUPAOC', 'HUPARC', 'KIT', 'LNGI', 'MULTG', 'MV', 'NOC', 'NPF', 'NPP', 'NR', 'NRC', 'OCPIP', 'PARTNER', 'PLM', 'PSF', 'R18', 'R60', 'R65', 'RESMODE', 'SMOCP', 'SMX', 'SRNT', 'SVAL', 'TAXP', 'WIF', 'WKEXREL', 'WORKSTAT', 'FACRP', 'FAGSP', 'FBATHP', 'FBDSP', 'FBLDP', 'FBUSP', 'FCONP', 'FELEP', 'FFSP', 'FFULP', 'FGASP', 'FHFLP', 'FINSP', 'FKITP', 'FMHP', 'FMRGIP', 'FMRGP', 'FMRGTP', 'FMRGXP', 'FMVP', 'FPLMP', 'FREFRP', 'FRMSP', 'FRNTMP', 'FRNTP', 'FRWATP', 'FRWATPRP', 'FSINKP', 'FSMP', 'FSMXHP', 'FSMXSP', 'FSTOVP', 'FTAXP', 'FTELP', 'FTENP', 'FTOILP', 'FVACSP', 'FVALP', 'FVEHP', 'FWATP', 'FYBLP', 'WGTP1', 'WGTP2', 'WGTP3', 'WGTP4', 'WGTP5', 'WGTP6', 'WGTP7', 'WGTP8', 'WGTP9', 'WGTP10', 'WGTP11', 'WGTP12', 'WGTP13', 'WGTP14', 'WGTP15', 'WGTP16', 'WGTP17', 'WGTP18', 'WGTP19', 'WGTP20', 'WGTP21', 'WGTP22', 'WGTP23', 'WGTP24', 'WGTP25', 'WGTP26', 'WGTP27', 'WGTP28', 'WGTP29', 'WGTP30', 'WGTP31', 'WGTP32', 'WGTP33', 'WGTP34', 'WGTP35', 'WGTP36', 'WGTP37', 'WGTP38', 'WGTP39', 'WGTP40', 'WGTP41', 'WGTP42', 'WGTP43', 'WGTP44', 'WGTP45', 'WGTP46', 'WGTP47', 'WGTP48', 'WGTP49', 'WGTP50', 'WGTP51', 'WGTP52', 'WGTP53', 'WGTP54', 'WGTP55', 'WGTP56', 'WGTP57', 'WGTP58', 'WGTP59', 'WGTP60', 'WGTP61', 'WGTP62', 'WGTP63', 'WGTP64', 'WGTP65', 'WGTP66', 'WGTP67', 'WGTP68', 'WGTP69', 'WGTP70', 'WGTP71', 'WGTP72', 'WGTP73', 'WGTP74', 'WGTP75', 'WGTP76', 'WGTP77', 'WGTP78', 'WGTP79', 'WGTP80'])"
      ]
     },
     "execution_count": 13,
     "metadata": {},
     "output_type": "execute_result"
    }
   ],
   "source": [
    "ddict['record_types']['HOUSING RECORD'].keys()"
   ]
  },
  {
   "cell_type": "code",
   "execution_count": null,
   "metadata": {
    "collapsed": false
   },
   "outputs": [],
   "source": [
    "features = {\n",
    "    ''\n",
    "    }"
   ]
  },
  {
   "cell_type": "code",
   "execution_count": 12,
   "metadata": {
    "collapsed": false,
    "scrolled": true
   },
   "outputs": [
    {
     "data": {
      "text/plain": [
       "array(['insp', 'RT', 'SERIALNO', 'DIVISION', 'PUMA00', 'PUMA10', 'REGION',\n",
       "       'ST', 'ADJHSG', 'ADJINC', 'WGTP', 'NP', 'TYPE', 'ACR', 'AGS',\n",
       "       'BATH', 'BDSP', 'BLD', 'BUS', 'CONP', 'ELEP', 'FS', 'FULP', 'GASP',\n",
       "       'HFL', 'MHP', 'MRGI', 'MRGP', 'MRGT', 'MRGX', 'REFR', 'RMSP',\n",
       "       'RNTM', 'RNTP', 'RWAT', 'RWATPR', 'SINK', 'SMP', 'STOV', 'TEL',\n",
       "       'TEN', 'TOIL', 'VACS', 'VALP', 'VEH', 'WATP', 'YBL', 'FES', 'FINCP',\n",
       "       'FPARC', 'GRNTP', 'GRPIP', 'HHL', 'HHT', 'HINCP', 'HUGCL', 'HUPAC',\n",
       "       'HUPAOC', 'HUPARC', 'KIT', 'LNGI', 'MULTG', 'MV', 'NOC', 'NPF',\n",
       "       'NPP', 'NR', 'NRC', 'OCPIP', 'PARTNER', 'PLM', 'PSF', 'R18', 'R60',\n",
       "       'R65', 'RESMODE', 'SMOCP', 'SMX', 'SRNT', 'SVAL', 'TAXP', 'WIF',\n",
       "       'WKEXREL', 'WORKSTAT', 'FACRP', 'FAGSP', 'FBATHP', 'FBDSP', 'FBLDP',\n",
       "       'FBUSP', 'FCONP', 'FELEP', 'FFSP', 'FFULP', 'FGASP', 'FHFLP',\n",
       "       'FINSP', 'FKITP', 'FMHP', 'FMRGIP', 'FMRGP', 'FMRGTP', 'FMRGXP',\n",
       "       'FMVP', 'FPLMP', 'FREFRP', 'FRMSP', 'FRNTMP', 'FRNTP', 'FRWATP',\n",
       "       'FRWATPRP', 'FSINKP', 'FSMP', 'FSMXHP', 'FSMXSP', 'FSTOVP', 'FTAXP',\n",
       "       'FTELP', 'FTENP', 'FTOILP', 'FVACSP', 'FVALP', 'FVEHP', 'FWATP',\n",
       "       'FYBLP', 'WGTP1', 'WGTP2', 'WGTP3', 'WGTP4', 'WGTP5', 'WGTP6',\n",
       "       'WGTP7', 'WGTP8', 'WGTP9', 'WGTP10', 'WGTP11', 'WGTP12', 'WGTP13',\n",
       "       'WGTP14', 'WGTP15', 'WGTP16', 'WGTP17', 'WGTP18', 'WGTP19',\n",
       "       'WGTP20', 'WGTP21', 'WGTP22', 'WGTP23', 'WGTP24', 'WGTP25',\n",
       "       'WGTP26', 'WGTP27', 'WGTP28', 'WGTP29', 'WGTP30', 'WGTP31',\n",
       "       'WGTP32', 'WGTP33', 'WGTP34', 'WGTP35', 'WGTP36', 'WGTP37',\n",
       "       'WGTP38', 'WGTP39', 'WGTP40', 'WGTP41', 'WGTP42', 'WGTP43',\n",
       "       'WGTP44', 'WGTP45', 'WGTP46', 'WGTP47', 'WGTP48', 'WGTP49',\n",
       "       'WGTP50', 'WGTP51', 'WGTP52', 'WGTP53', 'WGTP54', 'WGTP55',\n",
       "       'WGTP56', 'WGTP57', 'WGTP58', 'WGTP59', 'WGTP60', 'WGTP61',\n",
       "       'WGTP62', 'WGTP63', 'WGTP64', 'WGTP65', 'WGTP66', 'WGTP67',\n",
       "       'WGTP68', 'WGTP69', 'WGTP70', 'WGTP71', 'WGTP72', 'WGTP73',\n",
       "       'WGTP74', 'WGTP75', 'WGTP76', 'WGTP77', 'WGTP78', 'WGTP79', 'WGTP80'], dtype=object)"
      ]
     },
     "execution_count": 12,
     "metadata": {},
     "output_type": "execute_result"
    }
   ],
   "source": [
    "features = collections.OrderedDict()\n",
    "for col in df.columns.values:\n",
    "    features[col] = collections.OrderedDict()\n",
    "    features[col]['include']"
   ]
  },
  {
   "cell_type": "code",
   "execution_count": 182,
   "metadata": {
    "collapsed": false,
    "scrolled": true
   },
   "outputs": [
    {
     "name": "stdout",
     "output_type": "stream",
     "text": [
      "'RT': __clude. Record Type. TODO.  \n",
      "'SERIALNO': __clude. Housing unit/GQ person serial number. TODO.  \n",
      "'DIVISION': __clude. Division code. TODO.  \n",
      "'PUMA00': __clude. Public use microdata area code (PUMA) based on Census 2000 definition for data collected prior to 2012. Use in combination with PUMA10.. TODO.  \n",
      "'PUMA10': __clude. Public use microdata area code (PUMA) based on 2010 Census definition for data collected in 2012 or later. Use in combination with PUMA00.. TODO.  \n",
      "'REGION': __clude. Region code. TODO.  \n",
      "'ST': __clude. State Code. TODO.  \n",
      "'ADJHSG': __clude. Adjustment factor for housing dollar amounts (6 implied decimal places). TODO.  \n",
      "'ADJINC': __clude. Adjustment factor for income and earnings dollar amounts (6 implied decimal places). TODO.  \n",
      "'WGTP': __clude. Housing Weight. TODO.  \n",
      "'NP': __clude. Number of person records following this housing record. TODO.  \n",
      "'TYPE': __clude. Type of unit. TODO.  \n",
      "'ACR': __clude. Lot size. TODO.  \n",
      "'AGS': __clude. Sales of Agriculture Products (Yearly sales). TODO.  \n",
      "'BATH': __clude. Bathtub or shower. TODO.  \n",
      "'BDSP': __clude. Number of bedrooms. TODO.  \n",
      "'BLD': __clude. Units in structure. TODO.  \n",
      "'BUS': __clude. Business or medical office on property. TODO.  \n",
      "'CONP': __clude. Condo fee (monthly amount). TODO.  \n",
      "'ELEP': __clude. Electricity (monthly cost). TODO.  \n",
      "'FS': __clude. Yearly food stamp/Supplemental Nutrition Assistance Program recipiency. TODO.  \n",
      "'FULP': __clude. Fuel cost(yearly cost for fuels other than gas and electricity). TODO.  \n",
      "'GASP': __clude. Gas (monthly cost). TODO.  \n",
      "'HFL': __clude. House heating fuel. TODO.  \n",
      "'INSP': __clude. Fire/hazard/flood insurance (yearly amount). TODO.  \n",
      "'MHP': __clude. Mobile home costs (yearly amount). TODO.  \n",
      "'MRGI': __clude. First mortgage payment includes fire/hazard/flood insurance. TODO.  \n",
      "'MRGP': __clude. First mortgage payment (monthly amount). TODO.  \n",
      "'MRGT': __clude. First mortgage payment includes real estate taxes. TODO.  \n",
      "'MRGX': __clude. First mortgage status. TODO.  \n",
      "'REFR': __clude. Refrigerator. TODO.  \n",
      "'RMSP': __clude. Number of Rooms. TODO.  \n",
      "'RNTM': __clude. Meals included in rent. TODO.  \n",
      "'RNTP': __clude. Monthly rent. TODO.  \n",
      "'RWAT': __clude. Hot and cold running water. TODO.  \n",
      "'RWATPR': __clude. Running water. TODO.  \n",
      "'SINK': __clude. Sink with a faucet. TODO.  \n",
      "'SMP': __clude. Total payment on all second and junior mortgages and home equity loans (monthly amount). TODO.  \n",
      "'STOV': __clude. Stove or range. TODO.  \n",
      "'TEL': __clude. Telephone. TODO.  \n",
      "'TEN': __clude. Tenure. TODO.  \n",
      "'TOIL': __clude. Flush toilet. TODO.  \n",
      "'VACS': __clude. Vacancy status. TODO.  \n",
      "'VALP': __clude. Property value. TODO.  \n",
      "'VEH': __clude. Vehicles (1 ton or less) available. TODO.  \n",
      "'WATP': __clude. Water (yearly cost). TODO.  \n",
      "'YBL': __clude. When structure first built. TODO.  \n",
      "'FES': __clude. Family type and employment status. TODO.  \n",
      "'FINCP': __clude. Family income (past 12 months). TODO.  \n",
      "'FPARC': __clude. Family presence and age of related children. TODO.  \n",
      "'GRNTP': __clude. Gross rent (monthly amount). TODO.  \n",
      "'GRPIP': __clude. Gross rent as a percentage of household income past 12 months. TODO.  \n",
      "'HHL': __clude. Household language. TODO.  \n",
      "'HHT': __clude. Household/family type. TODO.  \n",
      "'HINCP': __clude. Household income (past 12 months). TODO.  \n",
      "'HUGCL': __clude. Household with grandparent living with grandchildren. TODO.  \n",
      "'HUPAC': __clude. HH presence and age of children. TODO.  \n",
      "'HUPAOC': __clude. HH presence and age of own children. TODO.  \n",
      "'HUPARC': __clude. HH presence and age of related children. TODO.  \n",
      "'KIT': __clude. Complete kitchen facilities. TODO.  \n",
      "'LNGI': __clude. Limited English speaking households. TODO.  \n",
      "'MULTG': __clude. Multigenerational Household. TODO.  \n",
      "'MV': __clude. When moved into this house or apartment. TODO.  \n",
      "'NOC': __clude. Number of own children in household (unweighted). TODO.  \n",
      "'NPF': __clude. Number of persons in family (unweighted). TODO.  \n",
      "'NPP': __clude. Grandparent headed household with no parent present. TODO.  \n",
      "'NR': __clude. Presence of nonrelative in household. TODO.  \n",
      "'NRC': __clude. Number of related children in household (unweighted). TODO.  \n",
      "'OCPIP': __clude. Selected monthly owner costs as a percentage of household income during the past 12 months. TODO.  \n",
      "'PARTNER': __clude. Unmarried partner household. TODO.  \n",
      "'PLM': __clude. Complete plumbing facilities. TODO.  \n",
      "'PSF': __clude. Presence of subfamilies in Household. TODO.  \n",
      "'R18': __clude. Presence of persons under 18 years in household (unweighted). TODO.  \n",
      "'R60': __clude. Presence of persons 60 years and over in household (unweighted). TODO.  \n",
      "'R65': __clude. Presence of persons 65 years and over in household (unweighted). TODO.  \n",
      "'RESMODE': __clude. Response mode. TODO.  \n",
      "'SMOCP': __clude. Selected monthly owner costs. TODO.  \n",
      "'SMX': __clude. Second or junior mortgage or home equity loan status. TODO.  \n",
      "'SRNT': __clude. Specified rent unit. TODO.  \n",
      "'SVAL': __clude. Specified value owner unit. TODO.  \n",
      "'TAXP': __clude. Property taxes (yearly amount). TODO.  \n",
      "'WIF': __clude. Workers in family during the past 12 months. TODO.  \n",
      "'WKEXREL': __clude. Work experience of householder and spouse. TODO.  \n",
      "'WORKSTAT': __clude. Work status of householder or spouse in family households. TODO.  \n",
      "'FACRP': __clude. Lot size allocation flag. TODO.  \n"
     ]
    }
   ],
   "source": [
    "for key in ddict['record_types']['HOUSING RECORD']:\n",
    "    print(\"'{key}': __clude. {desc}. TODO.  \".format(\n",
    "        key=key, desc=ddict['record_types']['HOUSING RECORD'][key]['description']))\n",
    "    if key == 'FACRP':\n",
    "        break"
   ]
  },
  {
   "cell_type": "code",
   "execution_count": 181,
   "metadata": {
    "collapsed": false,
    "scrolled": true
   },
   "outputs": [
    {
     "data": {
      "text/plain": [
       "OrderedDict([('length', '5'),\n",
       "             ('description', 'Housing Weight replicate 2'),\n",
       "             ('var_codes',\n",
       "              OrderedDict([('-9999..09999',\n",
       "                            'Integer weight of housing unit')]))])"
      ]
     },
     "execution_count": 181,
     "metadata": {},
     "output_type": "execute_result"
    }
   ],
   "source": [
    "ddict['record_types']['HOUSING RECORD']['RT']"
   ]
  },
  {
   "cell_type": "markdown",
   "metadata": {
    "collapsed": true
   },
   "source": [
    "## Select features\n",
    "\n",
    "**Notes:**\n",
    "* Example consumer databases: http://www.consumerreports.org/cro/money/consumer-protection/big-brother-is-watching/overview/index.htm?rurl=http%3A%2F%2Fwww.consumerreports.org%2Fcro%2Fmoney%2Fconsumer-protection%2Fbig-brother-is-watching%2Foverview%2Findex.htm\n",
    "* Random forests are scale invariant, so they can accommodate non-linear transformation.\n",
    "* Cast all values to floats so that compatable with most algorithms and can use </> logic. Otherwise less informationally dense and may require deeper tree structure to find features.\n",
    "* To \"map to float\" ('b' is N/A, mapped to 0; 1 is Yes; 2 is No; other values are special):  \n",
    "```python\n",
    "test = pd.DataFrame(data=[['b', 1.0], ['1', 1.0], ['2', 1.0], ['3', 1.1], ['4', 1.1]], columns=['COL', 'ADJ'])\n",
    "tfmask = test['COL'].isin(['b'])\n",
    "test.loc[tfmask, 'COL'] = 0.0\n",
    "test['COL'] = test['COL'].astype(float)\n",
    "print(test.dtypes)\n",
    "test\n",
    "```\n",
    "* To \"adjust for inflation\":  \n",
    "```python\n",
    "tfmask = test['COL'] >= 3.0\n",
    "test.loc[tfmask, 'COL'] *= test.loc[tfmask, 'ADJ']\n",
    "test\n",
    "```\n",
    "* TODO: Remove vacant units ('NP') from data frame.\n",
    "* TODO: Filter categorical variables from metadata (those without '..').\n",
    "\n",
    "'insp': Exclude. Quality control inspection metadata.  \n",
    "'RT': Exclude. All same.  \n",
    "'SERIALNO': Index. All unique.  \n",
    "'DIVISION', 'REGION': Exclude. Use more precise location.  \n",
    "'PUMA00', 'PUMA10', 'ST': Include. TODO: Combine and lookup lat-lon coordinates from census.gov.  \n",
    "'ADJHSG', 'ADJINC': Include. TODO: Need to adjust for inflation or has already happened? https://www.census.gov/library/publications/2009/acs/pums.html App 5.  \n",
    "'WGTP': Include. Use housing weights. TODO: Work through user verification file.  \n",
    "'NP': Include. Map number of people in house to float.  \n",
    "'TYPE': Include. Map type of housing unit to median income if correlated.  \n",
    "'ACR': Include. Map lot size (acres) to float.  \n",
    "'AGS': Include. Map agricultural product sales to float.  \n",
    "'BATH': Include. Map has bathtub/shower to float.  \n",
    "'BDSP': Include. Map number of bedrooms to float.  \n",
    "'BLD': Include. Map units in structure to median income if correlated.  \n",
    "'BUS': Include. Map has business/medical office on property to float.  \n",
    "'CONP': Include. Map condo fee to float.  \n",
    "'ELEP': Include. Map electricity to float. Adjust \\$2+ with 'ADJHSG'.  \n",
    "'FS': Include. Map food stamps to float.  \n",
    "'FULP': Include. Map fuel cost to float. Adjust \\$3+ with 'ADJHSG'.  \n",
    "'GASP': Include. Map gas cost to float. Adjust \\$4+ with 'ADJHSG'.  \n",
    "'HFL': Include. Map house heating fuel to median income if correlated.  \n",
    "'MHP': Include. Map mobile home costs to float. Adjust all with 'ADJHSG'.  \n",
    "'MRGI': Include. Map first mortgage payment includes insurance to median income if correlated.  \n",
    "'MRGP': Include. Map first mortgage payment to float.  \n",
    "'MRGT': Include. Map first mortgage payment includes real estate taxes to median income if correlated.  \n",
    "'MRGX': Include. Map first mortgage status to median income if correlated.  \n",
    "'REFR': Exclude. Has refridgerator. Use 'KIT'.  \n",
    "'RMSP': Include. Map number of rooms to float.  \n",
    "'RNTM': Include. Map meals included in rent to float.  \n",
    "'RNTP': Include. Map monthly rent to float. Adjust all with 'ADJHSG'.  \n",
    "'RWAT': Include. Map has hot/cold running water to float.  \n",
    "'RWATPR': Include. Map has running water to float. Join into 'RWAT'.  \n",
    "'SINK': Include. Map has sink to float.  \n",
    "'SMP': Include. Map second+ mortgage payments to float. Adjust all with 'ADJHSG'.  \n",
    "'STOV': Include. Has stove/range. Use 'KIT'.  \n",
    "'TEL': Include. Map has telephone to float.  \n",
    "'TEN': Include. Map tenure to median income if correlated.  \n",
    "'TOIL': Include. Map has toilet to float.  \n",
    "'VACS': Include. Map vacancy status to median income if correlated.  \n",
    "'VALP': Include. Map property value to float.  \n",
    "'VEH': Include. Map number of vehicles to float.  \n",
    "'WATP': Include. Map water cost to float. Adjust \\$3+ with 'ADJHSG'.  \n",
    "'YBL': Include. Map when structure built to float.  \n",
    "'FES': Include. Map family type to float.  \n",
    "'FINCP': Include. Map family income to float. Adjust all with 'ADJINC'.  \n",
    "'FPARC': Exclude. Family presence and age children. Use 'HUPAC'.  \n",
    "'GRNTP': Include. Map gross rent to float. Adjust all with 'ADJHSG'.  \n",
    "'GRPIP': Exclude. Gross rent percent income to float. We want to predict income.  \n",
    "'HHL': Include. Map household language to float.  \n",
    "'HHT': Include. Map household/family type to float.  \n",
    "'HINCP': Include. Map household income to float. Adjust all with 'ADJINC'.  \n",
    "'HUGCL': Include. Map household with grandparent and grandchildren to float.  \n",
    "'HUPAC': Include. Map household presence and age of children to float.  \n",
    "'HUPAOC': Exclude. Household presence and age of own children. Use 'HUPAC'.  \n",
    "'HUPARC': Exclude. Household presence and age of related children. Use 'HUPAC'.  \n",
    "'KIT': Include. Map has complete kitchen to float.  \n",
    "'LNGI': Include. Map limited english to float.  \n",
    "'MULTG': Exclude. Multigenerational household.\n",
    "'MV': Include. Map when moved into house to float.  \n",
    "'NOC': Include. Number of own children in household. Map to float.\n",
    "'NPF': Include. Number of persons in family. Map to float.  \n",
    "'NPP': Exclude. Grandparent headed household.  \n",
    "'NR': Exclude. Presence of nonrelative in household.  \n",
    "'NRC': Include. Number of related children in household. Map to float.  \n",
    "'OCPIP': Exclude. Selected monthly owner costs as percentage of household income.  \n",
    "'PARTNER': Include. Unmarried partner household.  \n",
    "'PLM': Include. Complete plumbing facilities. Map to float. Compare to above.  \n",
    "'PSF': Exclude. Presence of subfamilies in household.  \n",
    "'R18': Include. Presence of persons under 18 years in household. Map to float.  \n",
    "'R60': Exclude. Presence of persons 60+ years in household.  \n",
    "'R65': Include. Presence of persons 60+ years in household. Use 'R65'.  \n",
    "'RESMODE': Exclude. Response mode to ACS.  \n",
    "'SMOCP': Include. Selected monthly owner costs. Map to float.  \n",
    "'SMX': Include. Second+ mortgage status. Map to float.  \n",
    "'SRNT': Exclude. Specified rent unit.  \n",
    "'SVAL': Exclude. Specified value owner unit.  \n",
    "'TAXP': Include. Property taxes. Map to float.  \n",
    "'WIF': Include. Number of workers in family. Map to float.  \n",
    "'WKEXREL': Include. Work experience of householder and spouse. Map to float.  \n",
    "'WORKSTAT': Include. Work status of householder or spouse in family households. Map to float. Reduce detail and combine with another column.  \n",
    "'FACRP': Exclude. Lot size allocation flag.  \n",
    "...\n",
    "'FYBLP': Exclude. When structure first built allocation flag.  \n",
    "'WGTP1': Exclude. Housing Weight replicate 1.\n",
    "...\n",
    "'WGTP80': Exclude. Housing Weight replicate 1."
   ]
  },
  {
   "cell_type": "markdown",
   "metadata": {
    "collapsed": true
   },
   "source": [
    "## Export ipynb to html"
   ]
  },
  {
   "cell_type": "code",
   "execution_count": 158,
   "metadata": {
    "collapsed": false
   },
   "outputs": [
    {
     "name": "stdout",
     "output_type": "stream",
     "text": [
      "2016-01-01 05:40:17+00:00\r\n"
     ]
    }
   ],
   "source": [
    "!date --rfc-3339='seconds'"
   ]
  },
  {
   "cell_type": "code",
   "execution_count": null,
   "metadata": {
    "collapsed": true
   },
   "outputs": [],
   "source": [
    "path_ipynb = os.path.join(path_static, basename, basename+'.ipynb')\n",
    "for template in ['basic', 'full']:\n",
    "    path_html = os.path.splitext(path_ipynb)[0]+'-'+template+'.html'\n",
    "    cmd = ['jupyter', 'nbconvert', '--to', 'html', '--template', template, path_ipynb, '--output', path_html]\n",
    "    print(' '.join(cmd))\n",
    "    subprocess.run(args=cmd, check=True)"
   ]
  }
 ],
 "metadata": {
  "kernelspec": {
   "display_name": "Python 3",
   "language": "python",
   "name": "python3"
  },
  "language_info": {
   "codemirror_mode": {
    "name": "ipython",
    "version": 3
   },
   "file_extension": ".py",
   "mimetype": "text/x-python",
   "name": "python",
   "nbconvert_exporter": "python",
   "pygments_lexer": "ipython3",
   "version": "3.5.1"
  }
 },
 "nbformat": 4,
 "nbformat_minor": 0
}
