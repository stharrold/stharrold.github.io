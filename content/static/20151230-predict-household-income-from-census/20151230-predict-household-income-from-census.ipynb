{
 "cells": [
  {
   "cell_type": "markdown",
   "metadata": {},
   "source": [
    "# 20151230-predict-household-income-from-census\n",
    "\n",
    "Related post:  \n",
    "https://stharrold.github.io/20151230-predict-household-income-from-census.html\n",
    "\n",
    "Purpose: Predict total annual household income."
   ]
  },
  {
   "cell_type": "markdown",
   "metadata": {},
   "source": [
    "## Initialization\n",
    "\n",
    "### Imports"
   ]
  },
  {
   "cell_type": "code",
   "execution_count": 1,
   "metadata": {
    "collapsed": false
   },
   "outputs": [
    {
     "name": "stdout",
     "output_type": "stream",
     "text": [
      "/home/samuel_harrold\n"
     ]
    }
   ],
   "source": [
    "cd ~"
   ]
  },
  {
   "cell_type": "code",
   "execution_count": 3,
   "metadata": {
    "collapsed": false
   },
   "outputs": [],
   "source": [
    "# Import standard packages.\n",
    "import collections\n",
    "import os\n",
    "import pdb # TEST: Comment out pdb after testing.\n",
    "import sys\n",
    "# Import installed packages.\n",
    "import matplotlib.pyplot as plt\n",
    "import pandas as pd\n",
    "# Import local packages.\n",
    "sys.path.insert(\n",
    "    0,\n",
    "    os.path.join(os.path.curdir, 'stharrold.github.io/content/static/dsdemos'))\n",
    "# TEST: Comment out autoreload after testing.\n",
    "%reload_ext autoreload\n",
    "%autoreload 2\n",
    "import dsdemos as dsd\n",
    "# IPython magic.\n",
    "%matplotlib inline"
   ]
  },
  {
   "cell_type": "markdown",
   "metadata": {
    "collapsed": false
   },
   "source": [
    "## Globals"
   ]
  },
  {
   "cell_type": "code",
   "execution_count": 189,
   "metadata": {
    "collapsed": false
   },
   "outputs": [],
   "source": [
    "path_static = os.path.join(os.path.expanduser(r'~'), r'stharrold.github.io/content/static')\n",
    "basename = r'20151230-predict-household-income-from-census'\n",
    "path_disk = os.path.abspath(r'/mnt/disk-20151227t211000z/')\n",
    "path_acs = os.path.join(path_disk, r'www2-census-gov/programs-surveys/acs/')\n",
    "path_csv = os.path.join(path_acs, r'data/pums/2013/5-Year/ss13hdc.csv') # 'hdc' = 'housing DC'\n",
    "path_ddict = os.path.join(path_acs, r'tech_docs/pums/data_dict/PUMS_Data_Dictionary_2009-2013.txt')"
   ]
  },
  {
   "cell_type": "markdown",
   "metadata": {},
   "source": [
    "## Extract-transform-load\n",
    "\n",
    "**TODO:**\n",
    "* Just use pandas. Acknowledge dask."
   ]
  },
  {
   "cell_type": "code",
   "execution_count": 5,
   "metadata": {
    "collapsed": false
   },
   "outputs": [
    {
     "name": "stdout",
     "output_type": "stream",
     "text": [
      "/mnt/disk-20151227t211000z/www2-census-gov/programs-surveys/acs/data/pums/2013/5-Year/ss13hdc.csv:\n",
      "size (MB) = 13.5\n",
      "num lines = 17501\n",
      "df RAM usage (MB) = 28.7\n",
      "CPU times: user 412 ms, sys: 56 ms, total: 468 ms\n",
      "Wall time: 466 ms\n"
     ]
    }
   ],
   "source": [
    "%%time\n",
    "with open(path_csv) as fobj:\n",
    "    nlines = sum(1 for _ in fobj)\n",
    "print(\"{path}:\".format(path=path_csv))\n",
    "print(\"size (MB) = {size:.1f}\".format(size=os.path.getsize(path_csv)/1e6))\n",
    "print(\"num lines = {nlines}\".format(nlines=nlines))\n",
    "df = pd.read_csv(path_csv)\n",
    "print(\"df RAM usage (MB) = {mem:.1f}\".format(mem=df.memory_usage().sum()/1e6))"
   ]
  },
  {
   "cell_type": "code",
   "execution_count": 168,
   "metadata": {
    "collapsed": false
   },
   "outputs": [
    {
     "data": {
      "text/html": [
       "<div>\n",
       "<table border=\"1\" class=\"dataframe\">\n",
       "  <thead>\n",
       "    <tr style=\"text-align: right;\">\n",
       "      <th></th>\n",
       "      <th>insp</th>\n",
       "      <th>RT</th>\n",
       "      <th>SERIALNO</th>\n",
       "      <th>DIVISION</th>\n",
       "      <th>PUMA00</th>\n",
       "      <th>PUMA10</th>\n",
       "      <th>REGION</th>\n",
       "      <th>ST</th>\n",
       "      <th>ADJHSG</th>\n",
       "      <th>ADJINC</th>\n",
       "      <th>...</th>\n",
       "      <th>WGTP71</th>\n",
       "      <th>WGTP72</th>\n",
       "      <th>WGTP73</th>\n",
       "      <th>WGTP74</th>\n",
       "      <th>WGTP75</th>\n",
       "      <th>WGTP76</th>\n",
       "      <th>WGTP77</th>\n",
       "      <th>WGTP78</th>\n",
       "      <th>WGTP79</th>\n",
       "      <th>WGTP80</th>\n",
       "    </tr>\n",
       "  </thead>\n",
       "  <tbody>\n",
       "    <tr>\n",
       "      <th>count</th>\n",
       "      <td>6561.000000</td>\n",
       "      <td>17500</td>\n",
       "      <td>1.750000e+04</td>\n",
       "      <td>17500</td>\n",
       "      <td>17500.000000</td>\n",
       "      <td>17500.000000</td>\n",
       "      <td>17500</td>\n",
       "      <td>17500</td>\n",
       "      <td>17500.000000</td>\n",
       "      <td>17500.000000</td>\n",
       "      <td>...</td>\n",
       "      <td>17500.000000</td>\n",
       "      <td>17500.000000</td>\n",
       "      <td>17500.000000</td>\n",
       "      <td>17500.000000</td>\n",
       "      <td>17500.000000</td>\n",
       "      <td>17500.000000</td>\n",
       "      <td>17500.000000</td>\n",
       "      <td>17500.000000</td>\n",
       "      <td>17500.000000</td>\n",
       "      <td>17500.000000</td>\n",
       "    </tr>\n",
       "    <tr>\n",
       "      <th>unique</th>\n",
       "      <td>NaN</td>\n",
       "      <td>1</td>\n",
       "      <td>NaN</td>\n",
       "      <td>NaN</td>\n",
       "      <td>NaN</td>\n",
       "      <td>NaN</td>\n",
       "      <td>NaN</td>\n",
       "      <td>NaN</td>\n",
       "      <td>NaN</td>\n",
       "      <td>NaN</td>\n",
       "      <td>...</td>\n",
       "      <td>NaN</td>\n",
       "      <td>NaN</td>\n",
       "      <td>NaN</td>\n",
       "      <td>NaN</td>\n",
       "      <td>NaN</td>\n",
       "      <td>NaN</td>\n",
       "      <td>NaN</td>\n",
       "      <td>NaN</td>\n",
       "      <td>NaN</td>\n",
       "      <td>NaN</td>\n",
       "    </tr>\n",
       "    <tr>\n",
       "      <th>top</th>\n",
       "      <td>NaN</td>\n",
       "      <td>H</td>\n",
       "      <td>NaN</td>\n",
       "      <td>NaN</td>\n",
       "      <td>NaN</td>\n",
       "      <td>NaN</td>\n",
       "      <td>NaN</td>\n",
       "      <td>NaN</td>\n",
       "      <td>NaN</td>\n",
       "      <td>NaN</td>\n",
       "      <td>...</td>\n",
       "      <td>NaN</td>\n",
       "      <td>NaN</td>\n",
       "      <td>NaN</td>\n",
       "      <td>NaN</td>\n",
       "      <td>NaN</td>\n",
       "      <td>NaN</td>\n",
       "      <td>NaN</td>\n",
       "      <td>NaN</td>\n",
       "      <td>NaN</td>\n",
       "      <td>NaN</td>\n",
       "    </tr>\n",
       "    <tr>\n",
       "      <th>freq</th>\n",
       "      <td>NaN</td>\n",
       "      <td>17500</td>\n",
       "      <td>NaN</td>\n",
       "      <td>NaN</td>\n",
       "      <td>NaN</td>\n",
       "      <td>NaN</td>\n",
       "      <td>NaN</td>\n",
       "      <td>NaN</td>\n",
       "      <td>NaN</td>\n",
       "      <td>NaN</td>\n",
       "      <td>...</td>\n",
       "      <td>NaN</td>\n",
       "      <td>NaN</td>\n",
       "      <td>NaN</td>\n",
       "      <td>NaN</td>\n",
       "      <td>NaN</td>\n",
       "      <td>NaN</td>\n",
       "      <td>NaN</td>\n",
       "      <td>NaN</td>\n",
       "      <td>NaN</td>\n",
       "      <td>NaN</td>\n",
       "    </tr>\n",
       "    <tr>\n",
       "      <th>mean</th>\n",
       "      <td>999.282731</td>\n",
       "      <td>NaN</td>\n",
       "      <td>2.011068e+12</td>\n",
       "      <td>5</td>\n",
       "      <td>56.427371</td>\n",
       "      <td>37.764171</td>\n",
       "      <td>3</td>\n",
       "      <td>11</td>\n",
       "      <td>1039364.231657</td>\n",
       "      <td>1048478.770229</td>\n",
       "      <td>...</td>\n",
       "      <td>17.050857</td>\n",
       "      <td>17.043486</td>\n",
       "      <td>17.050000</td>\n",
       "      <td>17.049029</td>\n",
       "      <td>17.048000</td>\n",
       "      <td>17.051543</td>\n",
       "      <td>17.053200</td>\n",
       "      <td>17.047029</td>\n",
       "      <td>17.046971</td>\n",
       "      <td>17.051486</td>\n",
       "    </tr>\n",
       "    <tr>\n",
       "      <th>std</th>\n",
       "      <td>1085.174484</td>\n",
       "      <td>NaN</td>\n",
       "      <td>1.401911e+09</td>\n",
       "      <td>0</td>\n",
       "      <td>55.291036</td>\n",
       "      <td>55.358495</td>\n",
       "      <td>0</td>\n",
       "      <td>0</td>\n",
       "      <td>31877.254257</td>\n",
       "      <td>29598.269890</td>\n",
       "      <td>...</td>\n",
       "      <td>17.593886</td>\n",
       "      <td>17.740566</td>\n",
       "      <td>17.534604</td>\n",
       "      <td>17.555515</td>\n",
       "      <td>17.558942</td>\n",
       "      <td>17.574232</td>\n",
       "      <td>17.623017</td>\n",
       "      <td>17.802284</td>\n",
       "      <td>17.267472</td>\n",
       "      <td>17.710924</td>\n",
       "    </tr>\n",
       "    <tr>\n",
       "      <th>min</th>\n",
       "      <td>0.000000</td>\n",
       "      <td>NaN</td>\n",
       "      <td>2.009000e+12</td>\n",
       "      <td>5</td>\n",
       "      <td>-9.000000</td>\n",
       "      <td>-9.000000</td>\n",
       "      <td>3</td>\n",
       "      <td>11</td>\n",
       "      <td>1000000.000000</td>\n",
       "      <td>1007549.000000</td>\n",
       "      <td>...</td>\n",
       "      <td>0.000000</td>\n",
       "      <td>0.000000</td>\n",
       "      <td>0.000000</td>\n",
       "      <td>0.000000</td>\n",
       "      <td>0.000000</td>\n",
       "      <td>0.000000</td>\n",
       "      <td>0.000000</td>\n",
       "      <td>0.000000</td>\n",
       "      <td>0.000000</td>\n",
       "      <td>0.000000</td>\n",
       "    </tr>\n",
       "    <tr>\n",
       "      <th>15.9%</th>\n",
       "      <td>200.000000</td>\n",
       "      <td>NaN</td>\n",
       "      <td>2.009001e+12</td>\n",
       "      <td>5</td>\n",
       "      <td>-9.000000</td>\n",
       "      <td>-9.000000</td>\n",
       "      <td>3</td>\n",
       "      <td>11</td>\n",
       "      <td>1000000.000000</td>\n",
       "      <td>1007549.000000</td>\n",
       "      <td>...</td>\n",
       "      <td>2.000000</td>\n",
       "      <td>2.000000</td>\n",
       "      <td>2.000000</td>\n",
       "      <td>2.000000</td>\n",
       "      <td>2.000000</td>\n",
       "      <td>2.000000</td>\n",
       "      <td>2.000000</td>\n",
       "      <td>2.000000</td>\n",
       "      <td>2.000000</td>\n",
       "      <td>2.000000</td>\n",
       "    </tr>\n",
       "    <tr>\n",
       "      <th>50%</th>\n",
       "      <td>790.000000</td>\n",
       "      <td>NaN</td>\n",
       "      <td>2.011001e+12</td>\n",
       "      <td>5</td>\n",
       "      <td>101.000000</td>\n",
       "      <td>-9.000000</td>\n",
       "      <td>3</td>\n",
       "      <td>11</td>\n",
       "      <td>1035725.000000</td>\n",
       "      <td>1054614.000000</td>\n",
       "      <td>...</td>\n",
       "      <td>13.000000</td>\n",
       "      <td>13.000000</td>\n",
       "      <td>13.000000</td>\n",
       "      <td>13.000000</td>\n",
       "      <td>13.000000</td>\n",
       "      <td>13.000000</td>\n",
       "      <td>13.000000</td>\n",
       "      <td>13.000000</td>\n",
       "      <td>13.000000</td>\n",
       "      <td>13.000000</td>\n",
       "    </tr>\n",
       "    <tr>\n",
       "      <th>84.1%</th>\n",
       "      <td>1500.000000</td>\n",
       "      <td>NaN</td>\n",
       "      <td>2.013000e+12</td>\n",
       "      <td>5</td>\n",
       "      <td>104.000000</td>\n",
       "      <td>104.000000</td>\n",
       "      <td>3</td>\n",
       "      <td>11</td>\n",
       "      <td>1086032.000000</td>\n",
       "      <td>1085467.000000</td>\n",
       "      <td>...</td>\n",
       "      <td>30.000000</td>\n",
       "      <td>30.000000</td>\n",
       "      <td>30.000000</td>\n",
       "      <td>31.000000</td>\n",
       "      <td>30.000000</td>\n",
       "      <td>30.000000</td>\n",
       "      <td>30.000000</td>\n",
       "      <td>30.000000</td>\n",
       "      <td>31.000000</td>\n",
       "      <td>30.000000</td>\n",
       "    </tr>\n",
       "    <tr>\n",
       "      <th>max</th>\n",
       "      <td>8600.000000</td>\n",
       "      <td>NaN</td>\n",
       "      <td>2.013001e+12</td>\n",
       "      <td>5</td>\n",
       "      <td>105.000000</td>\n",
       "      <td>105.000000</td>\n",
       "      <td>3</td>\n",
       "      <td>11</td>\n",
       "      <td>1086032.000000</td>\n",
       "      <td>1085467.000000</td>\n",
       "      <td>...</td>\n",
       "      <td>200.000000</td>\n",
       "      <td>206.000000</td>\n",
       "      <td>232.000000</td>\n",
       "      <td>190.000000</td>\n",
       "      <td>244.000000</td>\n",
       "      <td>214.000000</td>\n",
       "      <td>216.000000</td>\n",
       "      <td>246.000000</td>\n",
       "      <td>212.000000</td>\n",
       "      <td>210.000000</td>\n",
       "    </tr>\n",
       "  </tbody>\n",
       "</table>\n",
       "<p>11 rows × 205 columns</p>\n",
       "</div>"
      ],
      "text/plain": [
       "               insp     RT      SERIALNO  DIVISION        PUMA00  \\\n",
       "count   6561.000000  17500  1.750000e+04     17500  17500.000000   \n",
       "unique          NaN      1           NaN       NaN           NaN   \n",
       "top             NaN      H           NaN       NaN           NaN   \n",
       "freq            NaN  17500           NaN       NaN           NaN   \n",
       "mean     999.282731    NaN  2.011068e+12         5     56.427371   \n",
       "std     1085.174484    NaN  1.401911e+09         0     55.291036   \n",
       "min        0.000000    NaN  2.009000e+12         5     -9.000000   \n",
       "15.9%    200.000000    NaN  2.009001e+12         5     -9.000000   \n",
       "50%      790.000000    NaN  2.011001e+12         5    101.000000   \n",
       "84.1%   1500.000000    NaN  2.013000e+12         5    104.000000   \n",
       "max     8600.000000    NaN  2.013001e+12         5    105.000000   \n",
       "\n",
       "              PUMA10  REGION     ST          ADJHSG          ADJINC  \\\n",
       "count   17500.000000   17500  17500    17500.000000    17500.000000   \n",
       "unique           NaN     NaN    NaN             NaN             NaN   \n",
       "top              NaN     NaN    NaN             NaN             NaN   \n",
       "freq             NaN     NaN    NaN             NaN             NaN   \n",
       "mean       37.764171       3     11  1039364.231657  1048478.770229   \n",
       "std        55.358495       0      0    31877.254257    29598.269890   \n",
       "min        -9.000000       3     11  1000000.000000  1007549.000000   \n",
       "15.9%      -9.000000       3     11  1000000.000000  1007549.000000   \n",
       "50%        -9.000000       3     11  1035725.000000  1054614.000000   \n",
       "84.1%     104.000000       3     11  1086032.000000  1085467.000000   \n",
       "max       105.000000       3     11  1086032.000000  1085467.000000   \n",
       "\n",
       "            ...             WGTP71        WGTP72        WGTP73        WGTP74  \\\n",
       "count       ...       17500.000000  17500.000000  17500.000000  17500.000000   \n",
       "unique      ...                NaN           NaN           NaN           NaN   \n",
       "top         ...                NaN           NaN           NaN           NaN   \n",
       "freq        ...                NaN           NaN           NaN           NaN   \n",
       "mean        ...          17.050857     17.043486     17.050000     17.049029   \n",
       "std         ...          17.593886     17.740566     17.534604     17.555515   \n",
       "min         ...           0.000000      0.000000      0.000000      0.000000   \n",
       "15.9%       ...           2.000000      2.000000      2.000000      2.000000   \n",
       "50%         ...          13.000000     13.000000     13.000000     13.000000   \n",
       "84.1%       ...          30.000000     30.000000     30.000000     31.000000   \n",
       "max         ...         200.000000    206.000000    232.000000    190.000000   \n",
       "\n",
       "              WGTP75        WGTP76        WGTP77        WGTP78        WGTP79  \\\n",
       "count   17500.000000  17500.000000  17500.000000  17500.000000  17500.000000   \n",
       "unique           NaN           NaN           NaN           NaN           NaN   \n",
       "top              NaN           NaN           NaN           NaN           NaN   \n",
       "freq             NaN           NaN           NaN           NaN           NaN   \n",
       "mean       17.048000     17.051543     17.053200     17.047029     17.046971   \n",
       "std        17.558942     17.574232     17.623017     17.802284     17.267472   \n",
       "min         0.000000      0.000000      0.000000      0.000000      0.000000   \n",
       "15.9%       2.000000      2.000000      2.000000      2.000000      2.000000   \n",
       "50%        13.000000     13.000000     13.000000     13.000000     13.000000   \n",
       "84.1%      30.000000     30.000000     30.000000     30.000000     31.000000   \n",
       "max       244.000000    214.000000    216.000000    246.000000    212.000000   \n",
       "\n",
       "              WGTP80  \n",
       "count   17500.000000  \n",
       "unique           NaN  \n",
       "top              NaN  \n",
       "freq             NaN  \n",
       "mean       17.051486  \n",
       "std        17.710924  \n",
       "min         0.000000  \n",
       "15.9%       2.000000  \n",
       "50%        13.000000  \n",
       "84.1%      30.000000  \n",
       "max       210.000000  \n",
       "\n",
       "[11 rows x 205 columns]"
      ]
     },
     "execution_count": 168,
     "metadata": {},
     "output_type": "execute_result"
    }
   ],
   "source": [
    "percentiles = [0.1587, 0.5000, 0.8413] # +1 std. dev., mean/median, -1 std. dev. for normal dist.\n",
    "df.describe(percentiles=percentiles, include='all')"
   ]
  },
  {
   "cell_type": "code",
   "execution_count": 256,
   "metadata": {
    "collapsed": false
   },
   "outputs": [
    {
     "name": "stdout",
     "output_type": "stream",
     "text": [
      "Automatic pdb calling has been turned ON\n"
     ]
    }
   ],
   "source": [
    "%pdb on"
   ]
  },
  {
   "cell_type": "code",
   "execution_count": 268,
   "metadata": {
    "collapsed": false,
    "scrolled": true
   },
   "outputs": [],
   "source": [
    "ddict = dsd.census.parse_pumsdatadict20092013(path=path_ddict)"
   ]
  },
  {
   "cell_type": "code",
   "execution_count": 269,
   "metadata": {
    "collapsed": false
   },
   "outputs": [
    {
     "data": {
      "text/plain": [
       "odict_keys(['title', 'date', 'record_types', 'notes'])"
      ]
     },
     "execution_count": 269,
     "metadata": {},
     "output_type": "execute_result"
    }
   ],
   "source": [
    "ddict.keys()"
   ]
  },
  {
   "cell_type": "code",
   "execution_count": 270,
   "metadata": {
    "collapsed": false
   },
   "outputs": [
    {
     "data": {
      "text/plain": [
       "'2009-2013 ACS PUMS DATA DICTIONARY'"
      ]
     },
     "execution_count": 270,
     "metadata": {},
     "output_type": "execute_result"
    }
   ],
   "source": [
    "ddict['title']"
   ]
  },
  {
   "cell_type": "code",
   "execution_count": 271,
   "metadata": {
    "collapsed": false
   },
   "outputs": [
    {
     "data": {
      "text/plain": [
       "'August 7, 2015'"
      ]
     },
     "execution_count": 271,
     "metadata": {},
     "output_type": "execute_result"
    }
   ],
   "source": [
    "ddict['date']"
   ]
  },
  {
   "cell_type": "code",
   "execution_count": 272,
   "metadata": {
    "collapsed": false
   },
   "outputs": [
    {
     "data": {
      "text/plain": [
       "odict_keys(['HOUSING RECORD', 'PERSON RECORD'])"
      ]
     },
     "execution_count": 272,
     "metadata": {},
     "output_type": "execute_result"
    }
   ],
   "source": [
    "ddict['record_types'].keys()"
   ]
  },
  {
   "cell_type": "code",
   "execution_count": 273,
   "metadata": {
    "collapsed": false
   },
   "outputs": [
    {
     "data": {
      "text/plain": [
       "['*  In cases where the SOC occupation code ends in X(s) or Y(s), two or more SOC',\n",
       " 'occupation codes were aggregated to correspond to a specific Census occupation',\n",
       " 'code. In these cases, the Census occupation description is used for the SOC',\n",
       " 'occupation title.\"',\n",
       " '** These codes are pseudo codes developed by the Census Bureau and are not',\n",
       " '   official or equivalent NAICS or SOC codes.',\n",
       " 'Legend to Identify NAICS Equivalents',\n",
       " '     M = Multiple NAICS codes',\n",
       " '     P = Part of a NAICS code - NAICS code split between two or more Census',\n",
       " '         codes',\n",
       " '     S = Not specified Industry in NAICS sector - Specific to Census codes',\n",
       " '         only',\n",
       " '     Z = Exception to NAICS code - Part of NAICS industry but has a unique',\n",
       " '         Census code',\n",
       " 'Occupation codes in OCCP10, OCCP12, SOCP10, and SOCP12 are based on the Standard',\n",
       " 'Occupational Classification 2010. Occupation codes in OCCP02 and SOCP00 are based',\n",
       " 'on Standard Occupational Classification 2000.  For more information on',\n",
       " 'occupational code changes, please see the technical documentation provided with',\n",
       " 'the code lists, on our website at: http://www.census.gov/acs/www/data_documentation/pums_documentation.',\n",
       " 'Industry codes in INDP and NAICSP are based on the North American Industry',\n",
       " 'Classification System 2012.  For more information on industry code changes, please',\n",
       " 'see the technical documentation provided with the code lists, on our website at:',\n",
       " 'http://www.census.gov/acs/www/data_documentation/pums_documentation.',\n",
       " 'Note for both Industry and Occupation lists in Data Dictionary:',\n",
       " 'NOTE: For additional information on NAICS and SOC groupings',\n",
       " 'within major categories visit our website at:',\n",
       " 'http://www.census.gov/people/io/methodology.',\n",
       " '*** Refer to top-coding documentation at:',\n",
       " 'http://www.census.gov/acs/www/Downloads/data_documentation/pums/TopCodedValues/2013PUMS_top_coded_values.pdf',\n",
       " '**** The World Area of Birth (WAOB) in the PUMS dataset is based upon the',\n",
       " 'Place of Birth (POB) variable in the full dataset, not the Place of Birth',\n",
       " 'recode created for PUMS (POBP).  POB contains more detailed place of birth',\n",
       " 'information than POBP.  Therefore, WAOB cannot be recoded from POBP.',\n",
       " 'Data users should be aware that the area groupings for WAOB are based',\n",
       " 'primarily upon United States administrative boundaries, not geographic',\n",
       " 'boundaries.  For example, Guam is grouped into \"Puerto Rico and the U.S.',\n",
       " 'Island Areas,\" although geographically it is located in Oceania.  Not all',\n",
       " 'places of birth are listed individually in POBP.  Therefore the user',\n",
       " 'cannot recreate an exact world area of birth variable from POBP based upon',\n",
       " 'geographic location of birth.']"
      ]
     },
     "execution_count": 273,
     "metadata": {},
     "output_type": "execute_result"
    }
   ],
   "source": [
    "ddict['notes']"
   ]
  },
  {
   "cell_type": "code",
   "execution_count": 274,
   "metadata": {
    "collapsed": false
   },
   "outputs": [
    {
     "data": {
      "text/plain": [
       "odict_keys(['RT', 'SERIALNO', 'DIVISION', 'PUMA00', 'PUMA10', 'REGION', 'ST', 'ADJHSG', 'ADJINC', 'WGTP', 'NP', 'TYPE', 'ACR', 'AGS', 'BATH', 'BDSP', 'BLD', 'BUS', 'CONP', 'ELEP', 'FS', 'FULP', 'GASP', 'HFL', 'INSP', 'MHP', 'MRGI', 'MRGP', 'MRGT', 'MRGX', 'REFR', 'RMSP', 'RNTM', 'RNTP', 'RWAT', 'RWATPR', 'SINK', 'SMP', 'STOV', 'TEL', 'TEN', 'TOIL', 'VACS', 'VALP', 'VEH', 'WATP', 'YBL', 'FES', 'FINCP', 'FPARC', 'GRNTP', 'GRPIP', 'HHL', 'HHT', 'HINCP', 'HUGCL', 'HUPAC', 'HUPAOC', 'HUPARC', 'KIT', 'LNGI', 'MULTG', 'MV', 'NOC', 'NPF', 'NPP', 'NR', 'NRC', 'OCPIP', 'PARTNER', 'PLM', 'PSF', 'R18', 'R60', 'R65', 'RESMODE', 'SMOCP', 'SMX', 'SRNT', 'SVAL', 'TAXP', 'WIF', 'WKEXREL', 'WORKSTAT', 'FACRP', 'FAGSP', 'FBATHP', 'FBDSP', 'FBLDP', 'FBUSP', 'FCONP', 'FELEP', 'FFSP', 'FFULP', 'FGASP', 'FHFLP', 'FINSP', 'FKITP', 'FMHP', 'FMRGIP', 'FMRGP', 'FMRGTP', 'FMRGXP', 'FMVP', 'FPLMP', 'FREFRP', 'FRMSP', 'FRNTMP', 'FRNTP', 'FRWATP', 'FRWATPRP', 'FSINKP', 'FSMP', 'FSMXHP', 'FSMXSP', 'FSTOVP', 'FTAXP', 'FTELP', 'FTENP', 'FTOILP', 'FVACSP', 'FVALP', 'FVEHP', 'FWATP', 'FYBLP', 'WGTP1', 'WGTP2', 'WGTP3', 'WGTP4', 'WGTP5', 'WGTP6', 'WGTP7', 'WGTP8', 'WGTP9', 'WGTP10', 'WGTP11', 'WGTP12', 'WGTP13', 'WGTP14', 'WGTP15', 'WGTP16', 'WGTP17', 'WGTP18', 'WGTP19', 'WGTP20', 'WGTP21', 'WGTP22', 'WGTP23', 'WGTP24', 'WGTP25', 'WGTP26', 'WGTP27', 'WGTP28', 'WGTP29', 'WGTP30', 'WGTP31', 'WGTP32', 'WGTP33', 'WGTP34', 'WGTP35', 'WGTP36', 'WGTP37', 'WGTP38', 'WGTP39', 'WGTP40', 'WGTP41', 'WGTP42', 'WGTP43', 'WGTP44', 'WGTP45', 'WGTP46', 'WGTP47', 'WGTP48', 'WGTP49', 'WGTP50', 'WGTP51', 'WGTP52', 'WGTP53', 'WGTP54', 'WGTP55', 'WGTP56', 'WGTP57', 'WGTP58', 'WGTP59', 'WGTP60', 'WGTP61', 'WGTP62', 'WGTP63', 'WGTP64', 'WGTP65', 'WGTP66', 'WGTP67', 'WGTP68', 'WGTP69', 'WGTP70', 'WGTP71', 'WGTP72', 'WGTP73', 'WGTP74', 'WGTP75', 'WGTP76', 'WGTP77', 'WGTP78', 'WGTP79', 'WGTP80'])"
      ]
     },
     "execution_count": 274,
     "metadata": {},
     "output_type": "execute_result"
    }
   ],
   "source": [
    "ddict['record_types']['HOUSING RECORD'].keys()"
   ]
  },
  {
   "cell_type": "code",
   "execution_count": 234,
   "metadata": {
    "collapsed": false
   },
   "outputs": [
    {
     "data": {
      "text/plain": [
       "array(['insp', 'RT', 'SERIALNO', 'DIVISION', 'PUMA00', 'PUMA10', 'REGION',\n",
       "       'ST', 'ADJHSG', 'ADJINC', 'WGTP', 'NP', 'TYPE', 'ACR', 'AGS',\n",
       "       'BATH', 'BDSP', 'BLD', 'BUS', 'CONP', 'ELEP', 'FS', 'FULP', 'GASP',\n",
       "       'HFL', 'MHP', 'MRGI', 'MRGP', 'MRGT', 'MRGX', 'REFR', 'RMSP',\n",
       "       'RNTM', 'RNTP', 'RWAT', 'RWATPR', 'SINK', 'SMP', 'STOV', 'TEL',\n",
       "       'TEN', 'TOIL', 'VACS', 'VALP', 'VEH', 'WATP', 'YBL', 'FES', 'FINCP',\n",
       "       'FPARC', 'GRNTP', 'GRPIP', 'HHL', 'HHT', 'HINCP', 'HUGCL', 'HUPAC',\n",
       "       'HUPAOC', 'HUPARC', 'KIT', 'LNGI', 'MULTG', 'MV', 'NOC', 'NPF',\n",
       "       'NPP', 'NR', 'NRC', 'OCPIP', 'PARTNER', 'PLM', 'PSF', 'R18', 'R60',\n",
       "       'R65', 'RESMODE', 'SMOCP', 'SMX', 'SRNT', 'SVAL', 'TAXP', 'WIF',\n",
       "       'WKEXREL', 'WORKSTAT', 'FACRP', 'FAGSP', 'FBATHP', 'FBDSP', 'FBLDP',\n",
       "       'FBUSP', 'FCONP', 'FELEP', 'FFSP', 'FFULP', 'FGASP', 'FHFLP',\n",
       "       'FINSP', 'FKITP', 'FMHP', 'FMRGIP', 'FMRGP', 'FMRGTP', 'FMRGXP',\n",
       "       'FMVP', 'FPLMP', 'FREFRP', 'FRMSP', 'FRNTMP', 'FRNTP', 'FRWATP',\n",
       "       'FRWATPRP', 'FSINKP', 'FSMP', 'FSMXHP', 'FSMXSP', 'FSTOVP', 'FTAXP',\n",
       "       'FTELP', 'FTENP', 'FTOILP', 'FVACSP', 'FVALP', 'FVEHP', 'FWATP',\n",
       "       'FYBLP', 'WGTP1', 'WGTP2', 'WGTP3', 'WGTP4', 'WGTP5', 'WGTP6',\n",
       "       'WGTP7', 'WGTP8', 'WGTP9', 'WGTP10', 'WGTP11', 'WGTP12', 'WGTP13',\n",
       "       'WGTP14', 'WGTP15', 'WGTP16', 'WGTP17', 'WGTP18', 'WGTP19',\n",
       "       'WGTP20', 'WGTP21', 'WGTP22', 'WGTP23', 'WGTP24', 'WGTP25',\n",
       "       'WGTP26', 'WGTP27', 'WGTP28', 'WGTP29', 'WGTP30', 'WGTP31',\n",
       "       'WGTP32', 'WGTP33', 'WGTP34', 'WGTP35', 'WGTP36', 'WGTP37',\n",
       "       'WGTP38', 'WGTP39', 'WGTP40', 'WGTP41', 'WGTP42', 'WGTP43',\n",
       "       'WGTP44', 'WGTP45', 'WGTP46', 'WGTP47', 'WGTP48', 'WGTP49',\n",
       "       'WGTP50', 'WGTP51', 'WGTP52', 'WGTP53', 'WGTP54', 'WGTP55',\n",
       "       'WGTP56', 'WGTP57', 'WGTP58', 'WGTP59', 'WGTP60', 'WGTP61',\n",
       "       'WGTP62', 'WGTP63', 'WGTP64', 'WGTP65', 'WGTP66', 'WGTP67',\n",
       "       'WGTP68', 'WGTP69', 'WGTP70', 'WGTP71', 'WGTP72', 'WGTP73',\n",
       "       'WGTP74', 'WGTP75', 'WGTP76', 'WGTP77', 'WGTP78', 'WGTP79', 'WGTP80'], dtype=object)"
      ]
     },
     "execution_count": 234,
     "metadata": {},
     "output_type": "execute_result"
    }
   ],
   "source": [
    "df.columns.values"
   ]
  },
  {
   "cell_type": "code",
   "execution_count": 275,
   "metadata": {
    "collapsed": false,
    "scrolled": true
   },
   "outputs": [
    {
     "data": {
      "text/plain": [
       "OrderedDict([('length', '5'),\n",
       "             ('description',\n",
       "              'Public use microdata area code (PUMA) based on Census 2000 definition for data collected prior to 2012. Use in combination with PUMA10.'),\n",
       "             ('var_codes',\n",
       "              OrderedDict([('00100..08200', 'Public use microdata area codes'),\n",
       "                           ('77777',\n",
       "                            'Combination of 01801, 01802, and 01905 in Louisiana'),\n",
       "                           ('-0009',\n",
       "                            'Code classification is Not Applicable because data collected in 2012 or later')])),\n",
       "             ('notes',\n",
       "              ['Note: Public Use Microdata Areas (PUMAs) designate areas of 100,000 or more',\n",
       "               'population.  Use with ST for unique code. PUMA00 applies to data collected in',\n",
       "               'calendar years 2011 and earlier. Users of multi-year datasets that contain data',\n",
       "               'from before and after 2012 should use PUMA00 and PUMA10 together where possible,',\n",
       "               'but not all PUMAs will be comparable. See http://tigerweb.geo.census.gov to',\n",
       "               'identify PUMA changes between the two vintages.'])])"
      ]
     },
     "execution_count": 275,
     "metadata": {},
     "output_type": "execute_result"
    }
   ],
   "source": [
    "ddict['record_types']['HOUSING RECORD']['PUMA00']"
   ]
  },
  {
   "cell_type": "code",
   "execution_count": 276,
   "metadata": {
    "collapsed": false
   },
   "outputs": [
    {
     "data": {
      "text/plain": [
       "array([1086032, 1068395, 1035725, 1014531, 1000000])"
      ]
     },
     "execution_count": 276,
     "metadata": {},
     "output_type": "execute_result"
    }
   ],
   "source": [
    "df['ADJHSG'].unique()"
   ]
  },
  {
   "cell_type": "code",
   "execution_count": null,
   "metadata": {
    "collapsed": true
   },
   "outputs": [],
   "source": [
    "# RT: exclude, all same\n",
    "# SERIALNO: use as index, all unique\n",
    "# DIVISION, PUMA00, PUMA10, REGION, ST: exclude, use another geo for location\n",
    "# ADJHSG: exclude, not comparing across time intervals.??\n",
    "\n"
   ]
  },
  {
   "cell_type": "code",
   "execution_count": 278,
   "metadata": {
    "collapsed": true
   },
   "outputs": [],
   "source": [
    "path='/home/samuel_harrold/stharrold.github.io/content/static/dsdemos/tests/test_census/test_parse_pumsdatadict20092013.txt'\n",
    "test = dsd.census.parse_pumsdatadict20092013(path=path)\n",
    "path_out = '/home/samuel_harrold/stharrold.github.io/content/static/dsdemos/tests/test_census/test_parse_pumsdatadict20092013.json'\n",
    "with open(path_out, 'w') as fobj:\n",
    "    json.dump(test, fobj, indent=4)\n",
    "    "
   ]
  },
  {
   "cell_type": "markdown",
   "metadata": {
    "collapsed": true
   },
   "source": [
    "## Export ipynb to html"
   ]
  },
  {
   "cell_type": "code",
   "execution_count": 158,
   "metadata": {
    "collapsed": false
   },
   "outputs": [
    {
     "name": "stdout",
     "output_type": "stream",
     "text": [
      "2016-01-01 05:40:17+00:00\r\n"
     ]
    }
   ],
   "source": [
    "!date --rfc-3339='seconds'"
   ]
  },
  {
   "cell_type": "code",
   "execution_count": null,
   "metadata": {
    "collapsed": true
   },
   "outputs": [],
   "source": [
    "path_ipynb = os.path.join(path_static, basename, basename+'.ipynb')\n",
    "for template in ['basic', 'full']:\n",
    "    path_html = os.path.splitext(path_ipynb)[0]+'-'+template+'.html'\n",
    "    cmd = ['jupyter', 'nbconvert', '--to', 'html', '--template', template, path_ipynb, '--output', path_html]\n",
    "    print(' '.join(cmd))\n",
    "    subprocess.run(args=cmd, check=True)"
   ]
  }
 ],
 "metadata": {
  "kernelspec": {
   "display_name": "Python 3",
   "language": "python",
   "name": "python3"
  },
  "language_info": {
   "codemirror_mode": {
    "name": "ipython",
    "version": 3
   },
   "file_extension": ".py",
   "mimetype": "text/x-python",
   "name": "python",
   "nbconvert_exporter": "python",
   "pygments_lexer": "ipython3",
   "version": "3.5.1"
  }
 },
 "nbformat": 4,
 "nbformat_minor": 0
}
