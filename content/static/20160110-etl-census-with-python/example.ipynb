{
 "cells": [
  {
   "cell_type": "code",
   "execution_count": 9,
   "metadata": {
    "collapsed": false
   },
   "outputs": [
    {
     "name": "stdout",
     "output_type": "stream",
     "text": [
      "/home/samuel_harrold\n"
     ]
    }
   ],
   "source": [
    "cd ~"
   ]
  },
  {
   "cell_type": "code",
   "execution_count": 10,
   "metadata": {
    "collapsed": false
   },
   "outputs": [],
   "source": [
    "# Import standard packages.\n",
    "import os\n",
    "import subprocess\n",
    "import sys\n",
    "# Import installed packages.\n",
    "import numpy as np\n",
    "import pandas as pd\n",
    "# Import local packages.\n",
    "# Insert current directory into module search path.\n",
    "# `dsdemos` version: https://github.com/stharrold/dsdemos/releases/tag/v0.0.3\n",
    "sys.path.insert(0, os.path.join(os.path.curdir, r'dsdemos'))\n",
    "import dsdemos as dsd"
   ]
  },
  {
   "cell_type": "code",
   "execution_count": 11,
   "metadata": {
    "collapsed": true
   },
   "outputs": [],
   "source": [
    "# File paths\n",
    "path_static = os.path.join(os.path.expanduser(r'~'), r'stharrold.github.io/content/static')\n",
    "basename = r'20160110-etl-census-with-python'\n",
    "filename = r'example'\n",
    "path_ipynb = os.path.join(path_static, basename, filename+'.ipynb')\n",
    "path_acs = r'/mnt/disk-20151227t211000z/www2-census-gov/programs-surveys/acs/'\n",
    "# 2013 5-year PUMS data dictionary\n",
    "# http://www2.census.gov/programs-surveys/acs/tech_docs/pums/data_dict/PUMS_Data_Dictionary_2009-2013.txt\n",
    "path_dtxt = os.path.join(path_acs, r'tech_docs/pums/data_dict/PUMS_Data_Dictionary_2009-2013.txt')\n",
    "# 2013 5-year PUMS housing records for Washington DC (extracted from csv_pdc.zip)\n",
    "# http://www2.census.gov/programs-surveys/acs/data/pums/2013/5-Year/csv_pdc.zip\n",
    "path_hcsv = os.path.join(path_acs, r'data/pums/2013/5-Year/ss13hdc.csv')\n",
    "# 2013 5-year PUMS user verification estimates\n",
    "# http://www2.census.gov/programs-surveys/acs/tech_docs/pums/estimates/pums_estimates_9_13.csv\n",
    "path_ecsv = os.path.join(path_acs, r'tech_docs/pums/estimates/pums_estimates_9_13.csv')"
   ]
  },
  {
   "cell_type": "code",
   "execution_count": 12,
   "metadata": {
    "collapsed": false
   },
   "outputs": [
    {
     "name": "stdout",
     "output_type": "stream",
     "text": [
      "`ddict`, `dfd`: Convert the nested `dict` into a hierarchical dataframe.\n"
     ]
    },
    {
     "data": {
      "text/html": [
       "<div>\n",
       "<table border=\"1\" class=\"dataframe\">\n",
       "  <thead>\n",
       "    <tr style=\"text-align: right;\">\n",
       "      <th></th>\n",
       "      <th></th>\n",
       "      <th>length</th>\n",
       "      <th>description</th>\n",
       "      <th>var_codes</th>\n",
       "      <th>notes</th>\n",
       "    </tr>\n",
       "    <tr>\n",
       "      <th>record_type</th>\n",
       "      <th>var_name</th>\n",
       "      <th></th>\n",
       "      <th></th>\n",
       "      <th></th>\n",
       "      <th></th>\n",
       "    </tr>\n",
       "  </thead>\n",
       "  <tbody>\n",
       "    <tr>\n",
       "      <th rowspan=\"5\" valign=\"top\">HOUSING RECORD</th>\n",
       "      <th>ACR</th>\n",
       "      <td>1</td>\n",
       "      <td>Lot size</td>\n",
       "      <td>{'b': 'N/A (GQ/not a one-family house or mobil...</td>\n",
       "      <td>NaN</td>\n",
       "    </tr>\n",
       "    <tr>\n",
       "      <th>ADJHSG</th>\n",
       "      <td>7</td>\n",
       "      <td>Adjustment factor for housing dollar amounts (...</td>\n",
       "      <td>{'1086032': '2009 factor', '1068395': '2010 fa...</td>\n",
       "      <td>[Note: The values of ADJHSG inflation-adjusts ...</td>\n",
       "    </tr>\n",
       "    <tr>\n",
       "      <th>ADJINC</th>\n",
       "      <td>7</td>\n",
       "      <td>Adjustment factor for income and earnings doll...</td>\n",
       "      <td>{'1085467': '2009 factor (0.999480 * 1.0860317...</td>\n",
       "      <td>[Note: The values of ADJINC inflation-adjusts ...</td>\n",
       "    </tr>\n",
       "    <tr>\n",
       "      <th>AGS</th>\n",
       "      <td>1</td>\n",
       "      <td>Sales of Agriculture Products (Yearly sales)</td>\n",
       "      <td>{'b': 'N/A (GQ/vacant/not a one-family house o...</td>\n",
       "      <td>[Note: No adjustment factor is applied to AGS.]</td>\n",
       "    </tr>\n",
       "    <tr>\n",
       "      <th>BATH</th>\n",
       "      <td>1</td>\n",
       "      <td>Bathtub or shower</td>\n",
       "      <td>{'b': 'N/A (GQ)', '1': 'Yes', '2': 'No'}</td>\n",
       "      <td>NaN</td>\n",
       "    </tr>\n",
       "  </tbody>\n",
       "</table>\n",
       "</div>"
      ],
      "text/plain": [
       "                        length  \\\n",
       "record_type    var_name          \n",
       "HOUSING RECORD ACR           1   \n",
       "               ADJHSG        7   \n",
       "               ADJINC        7   \n",
       "               AGS           1   \n",
       "               BATH          1   \n",
       "\n",
       "                                                               description  \\\n",
       "record_type    var_name                                                      \n",
       "HOUSING RECORD ACR                                                Lot size   \n",
       "               ADJHSG    Adjustment factor for housing dollar amounts (...   \n",
       "               ADJINC    Adjustment factor for income and earnings doll...   \n",
       "               AGS            Sales of Agriculture Products (Yearly sales)   \n",
       "               BATH                                      Bathtub or shower   \n",
       "\n",
       "                                                                 var_codes  \\\n",
       "record_type    var_name                                                      \n",
       "HOUSING RECORD ACR       {'b': 'N/A (GQ/not a one-family house or mobil...   \n",
       "               ADJHSG    {'1086032': '2009 factor', '1068395': '2010 fa...   \n",
       "               ADJINC    {'1085467': '2009 factor (0.999480 * 1.0860317...   \n",
       "               AGS       {'b': 'N/A (GQ/vacant/not a one-family house o...   \n",
       "               BATH               {'b': 'N/A (GQ)', '1': 'Yes', '2': 'No'}   \n",
       "\n",
       "                                                                     notes  \n",
       "record_type    var_name                                                     \n",
       "HOUSING RECORD ACR                                                     NaN  \n",
       "               ADJHSG    [Note: The values of ADJHSG inflation-adjusts ...  \n",
       "               ADJINC    [Note: The values of ADJINC inflation-adjusts ...  \n",
       "               AGS         [Note: No adjustment factor is applied to AGS.]  \n",
       "               BATH                                                    NaN  "
      ]
     },
     "execution_count": 12,
     "metadata": {},
     "output_type": "execute_result"
    }
   ],
   "source": [
    "# Load and display the data dictionary.\n",
    "ddict = dsd.census.parse_pumsdatadict(path=path_dtxt)\n",
    "print(\"`ddict`, `dfd`: Convert the nested `dict` into a hierarchical data frame.\")\n",
    "tmp = dict() # `tmp` is a throwaway variable\n",
    "for record_type in ddict['record_types']:\n",
    "    tmp[record_type] = pd.DataFrame.from_dict(ddict['record_types'][record_type], orient='index')\n",
    "dfd = pd.concat(tmp, names=['record_type', 'var_name'])\n",
    "dfd.head()"
   ]
  },
  {
   "cell_type": "code",
   "execution_count": 13,
   "metadata": {
    "collapsed": false
   },
   "outputs": [
    {
     "name": "stdout",
     "output_type": "stream",
     "text": [
      "`dfh`: First 5 housing records and first 10 columns.\n"
     ]
    },
    {
     "data": {
      "text/html": [
       "<div>\n",
       "<table border=\"1\" class=\"dataframe\">\n",
       "  <thead>\n",
       "    <tr style=\"text-align: right;\">\n",
       "      <th></th>\n",
       "      <th>insp</th>\n",
       "      <th>RT</th>\n",
       "      <th>SERIALNO</th>\n",
       "      <th>DIVISION</th>\n",
       "      <th>PUMA00</th>\n",
       "      <th>PUMA10</th>\n",
       "      <th>REGION</th>\n",
       "      <th>ST</th>\n",
       "      <th>ADJHSG</th>\n",
       "      <th>ADJINC</th>\n",
       "    </tr>\n",
       "  </thead>\n",
       "  <tbody>\n",
       "    <tr>\n",
       "      <th>0</th>\n",
       "      <td>600</td>\n",
       "      <td>H</td>\n",
       "      <td>2009000000403</td>\n",
       "      <td>5</td>\n",
       "      <td>102</td>\n",
       "      <td>-9</td>\n",
       "      <td>3</td>\n",
       "      <td>11</td>\n",
       "      <td>1086032</td>\n",
       "      <td>1085467</td>\n",
       "    </tr>\n",
       "    <tr>\n",
       "      <th>1</th>\n",
       "      <td>NaN</td>\n",
       "      <td>H</td>\n",
       "      <td>2009000001113</td>\n",
       "      <td>5</td>\n",
       "      <td>103</td>\n",
       "      <td>-9</td>\n",
       "      <td>3</td>\n",
       "      <td>11</td>\n",
       "      <td>1086032</td>\n",
       "      <td>1085467</td>\n",
       "    </tr>\n",
       "    <tr>\n",
       "      <th>2</th>\n",
       "      <td>480</td>\n",
       "      <td>H</td>\n",
       "      <td>2009000001978</td>\n",
       "      <td>5</td>\n",
       "      <td>103</td>\n",
       "      <td>-9</td>\n",
       "      <td>3</td>\n",
       "      <td>11</td>\n",
       "      <td>1086032</td>\n",
       "      <td>1085467</td>\n",
       "    </tr>\n",
       "    <tr>\n",
       "      <th>3</th>\n",
       "      <td>NaN</td>\n",
       "      <td>H</td>\n",
       "      <td>2009000002250</td>\n",
       "      <td>5</td>\n",
       "      <td>105</td>\n",
       "      <td>-9</td>\n",
       "      <td>3</td>\n",
       "      <td>11</td>\n",
       "      <td>1086032</td>\n",
       "      <td>1085467</td>\n",
       "    </tr>\n",
       "    <tr>\n",
       "      <th>4</th>\n",
       "      <td>2500</td>\n",
       "      <td>H</td>\n",
       "      <td>2009000002985</td>\n",
       "      <td>5</td>\n",
       "      <td>101</td>\n",
       "      <td>-9</td>\n",
       "      <td>3</td>\n",
       "      <td>11</td>\n",
       "      <td>1086032</td>\n",
       "      <td>1085467</td>\n",
       "    </tr>\n",
       "  </tbody>\n",
       "</table>\n",
       "</div>"
      ],
      "text/plain": [
       "   insp RT       SERIALNO  DIVISION  PUMA00  PUMA10  REGION  ST   ADJHSG  \\\n",
       "0   600  H  2009000000403         5     102      -9       3  11  1086032   \n",
       "1   NaN  H  2009000001113         5     103      -9       3  11  1086032   \n",
       "2   480  H  2009000001978         5     103      -9       3  11  1086032   \n",
       "3   NaN  H  2009000002250         5     105      -9       3  11  1086032   \n",
       "4  2500  H  2009000002985         5     101      -9       3  11  1086032   \n",
       "\n",
       "    ADJINC  \n",
       "0  1085467  \n",
       "1  1085467  \n",
       "2  1085467  \n",
       "3  1085467  \n",
       "4  1085467  "
      ]
     },
     "execution_count": 13,
     "metadata": {},
     "output_type": "execute_result"
    }
   ],
   "source": [
    "# Load and display the housing records.\n",
    "print(\"`dfh`: First 5 housing records and first 10 columns.\")\n",
    "dfh = pd.read_csv(path_hcsv)\n",
    "dfh.iloc[:, :10].head()"
   ]
  },
  {
   "cell_type": "code",
   "execution_count": 14,
   "metadata": {
    "collapsed": false
   },
   "outputs": [
    {
     "name": "stdout",
     "output_type": "stream",
     "text": [
      "`dfe_dc`: This example verifies these quantities.\n"
     ]
    },
    {
     "data": {
      "text/html": [
       "<div>\n",
       "<table border=\"1\" class=\"dataframe\">\n",
       "  <thead>\n",
       "    <tr style=\"text-align: right;\">\n",
       "      <th></th>\n",
       "      <th>st</th>\n",
       "      <th>state</th>\n",
       "      <th>characteristic</th>\n",
       "      <th>pums_est_09_to_13</th>\n",
       "      <th>pums_se_09_to_13</th>\n",
       "      <th>pums_moe_09_to_13</th>\n",
       "    </tr>\n",
       "  </thead>\n",
       "  <tbody>\n",
       "    <tr>\n",
       "      <th>310</th>\n",
       "      <td>11</td>\n",
       "      <td>District of Columbia</td>\n",
       "      <td>Owner occupied units (TEN in 1,2)</td>\n",
       "      <td>110,362</td>\n",
       "      <td>1363</td>\n",
       "      <td>2242</td>\n",
       "    </tr>\n",
       "  </tbody>\n",
       "</table>\n",
       "</div>"
      ],
      "text/plain": [
       "     st                 state                     characteristic  \\\n",
       "310  11  District of Columbia  Owner occupied units (TEN in 1,2)   \n",
       "\n",
       "    pums_est_09_to_13  pums_se_09_to_13  pums_moe_09_to_13  \n",
       "310           110,362              1363               2242  "
      ]
     },
     "execution_count": 14,
     "metadata": {},
     "output_type": "execute_result"
    }
   ],
   "source": [
    "# Load and display the verification estimates.\n",
    "# Select the estimates for Washington DC then for the\n",
    "# characteristic 'Owner occupied units (TEN in 1,2)'.\n",
    "dfe = pd.read_csv(path_ecsv)\n",
    "tfmask_dc = dfe['state'] == 'District of Columbia'\n",
    "dfe_dc = dfe.loc[tfmask_dc]\n",
    "print(\"`dfe_dc`: This example verifies these quantities.\")\n",
    "dfe_dc.loc[[310]]"
   ]
  },
  {
   "cell_type": "code",
   "execution_count": 15,
   "metadata": {
    "collapsed": false
   },
   "outputs": [
    {
     "name": "stdout",
     "output_type": "stream",
     "text": [
      "'Owner occupied units (TEN in 1,2)'\n",
      "    'pums_est_09_to_13': (ref, test) = (110362, 110362)\n",
      "    'pums_se_09_to_13' : (ref, test) = (1363, 1363.1910174293257)\n",
      "    'pums_moe_09_to_13': (ref, test) = (2242, 2242.449223671241)\n"
     ]
    }
   ],
   "source": [
    "# Verify the estimates following\n",
    "# https://www.census.gov/programs-surveys/acs/technical-documentation/pums/documentation.2013.html\n",
    "# http://www2.census.gov/programs-surveys/acs/tech_docs/pums/accuracy/2009_2013AccuracyPUMS.pdf\n",
    "# Define the column names for the housing weights.\n",
    "hwt = 'WGTP'\n",
    "hwts = [hwt+str(inum) for inum in range(1, 81)] # ['WGTP1', ..., 'WGTP80']\n",
    "# Select the reference verification data for the characteristic.\n",
    "char = 'Owner occupied units (TEN in 1,2)'\n",
    "print(\"'{char}'\".format(char=char))\n",
    "tfmask_ref = dfe_dc['characteristic'] == char\n",
    "# Select the records for the characteristic.\n",
    "tfmask_test = np.logical_or(dfh['TEN'] == 1, dfh['TEN'] == 2)\n",
    "# Calculate the estimate ('est') for the characteristic.\n",
    "# The estimate is the sum of the sample weights 'WGTP'.\n",
    "col = 'pums_est_09_to_13'\n",
    "print(\"    '{col}':\".format(col=col), end=' ')\n",
    "ref_est = int(dfe_dc.loc[tfmask_ref, col].values[0].replace(',', ''))\n",
    "test_est = dfh.loc[tfmask_test, hwt].sum()\n",
    "assert np.isclose(ref_est, test_est, rtol=0, atol=1)\n",
    "print(\"(ref, test) = {tup}\".format(tup=(ref_est, test_est)))\n",
    "# Calculate the \"direct standard error\" ('se') of the estimate.\n",
    "# The direct standard error is a modified root-mean-square deviation\n",
    "# using the \"replicate weights\" 'WGTP[1-80]'.\n",
    "col = 'pums_se_09_to_13'\n",
    "print(\"    '{col}' :\".format(col=col), end=' ')\n",
    "ref_se = dfe_dc.loc[tfmask_ref, col].values[0]\n",
    "test_se = ((4/80)*((dfh.loc[tfmask_test, hwts].sum() - test_est)**2).sum())**0.5\n",
    "assert np.isclose(ref_se, test_se, rtol=0, atol=1)\n",
    "print(\"(ref, test) = {tup}\".format(tup=(ref_se, test_se)))\n",
    "# Calculate the margin of error ('moe') at the 90% confidence level\n",
    "# (+/- 1.645 standard errors).\n",
    "col = 'pums_moe_09_to_13'\n",
    "print(\"    '{col}':\".format(col=col), end=' ')\n",
    "ref_moe = dfe_dc.loc[tfmask_ref, col].values[0]\n",
    "test_moe = 1.645*test_se\n",
    "assert np.isclose(ref_moe, test_moe, rtol=0, atol=1)\n",
    "print(\"(ref, test) = {tup}\".format(tup=(ref_moe, test_moe)))"
   ]
  },
  {
   "cell_type": "code",
   "execution_count": 16,
   "metadata": {
    "collapsed": false
   },
   "outputs": [
    {
     "name": "stdout",
     "output_type": "stream",
     "text": [
      "jupyter nbconvert --to html --template basic /home/samuel_harrold/stharrold.github.io/content/static/20160110-etl-census-with-python/example.ipynb --output /home/samuel_harrold/stharrold.github.io/content/static/20160110-etl-census-with-python/example-basic.html\n",
      "\n",
      "jupyter nbconvert --to html --template full /home/samuel_harrold/stharrold.github.io/content/static/20160110-etl-census-with-python/example.ipynb --output /home/samuel_harrold/stharrold.github.io/content/static/20160110-etl-census-with-python/example-full.html\n",
      "\n"
     ]
    }
   ],
   "source": [
    "# Export ipynb to html\n",
    "for template in ['basic', 'full']:\n",
    "    path_html = os.path.splitext(path_ipynb)[0]+'-'+template+'.html'\n",
    "    cmd = ['jupyter', 'nbconvert', '--to', 'html', '--template', template, path_ipynb, '--output', path_html]\n",
    "    print(' '.join(cmd))\n",
    "    subprocess.run(args=cmd, check=True)\n",
    "    print()"
   ]
  }
 ],
 "metadata": {
  "kernelspec": {
   "display_name": "Python 3",
   "language": "python",
   "name": "python3"
  },
  "language_info": {
   "codemirror_mode": {
    "name": "ipython",
    "version": 3
   },
   "file_extension": ".py",
   "mimetype": "text/x-python",
   "name": "python",
   "nbconvert_exporter": "python",
   "pygments_lexer": "ipython3",
   "version": "3.5.1"
  }
 },
 "nbformat": 4,
 "nbformat_minor": 0
}
